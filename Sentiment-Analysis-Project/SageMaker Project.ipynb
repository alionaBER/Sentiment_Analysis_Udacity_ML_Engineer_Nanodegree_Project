{
 "cells": [
  {
   "cell_type": "markdown",
   "metadata": {},
   "source": [
    "# Creating a Sentiment Analysis Web App\n",
    "## Using PyTorch and SageMaker\n",
    "\n",
    "_Deep Learning Nanodegree Program | Deployment_\n",
    "\n",
    "---\n",
    "\n",
    "Now that we have a basic understanding of how SageMaker works we will try to use it to construct a complete project from end to end. Our goal will be to have a simple web page which a user can use to enter a movie review. The web page will then send the review off to our deployed model which will predict the sentiment of the entered review.\n",
    "\n",
    "## Instructions\n",
    "\n",
    "Some template code has already been provided for you, and you will need to implement additional functionality to successfully complete this notebook. You will not need to modify the included code beyond what is requested. Sections that begin with '**TODO**' in the header indicate that you need to complete or implement some portion within them. Instructions will be provided for each section and the specifics of the implementation are marked in the code block with a `# TODO: ...` comment. Please be sure to read the instructions carefully!\n",
    "\n",
    "In addition to implementing code, there will be questions for you to answer which relate to the task and your implementation. Each section where you will answer a question is preceded by a '**Question:**' header. Carefully read each question and provide your answer below the '**Answer:**' header by editing the Markdown cell.\n",
    "\n",
    "> **Note**: Code and Markdown cells can be executed using the **Shift+Enter** keyboard shortcut. In addition, a cell can be edited by typically clicking it (double-click for Markdown cells) or by pressing **Enter** while it is highlighted.\n",
    "\n",
    "## General Outline\n",
    "\n",
    "Recall the general outline for SageMaker projects using a notebook instance.\n",
    "\n",
    "1. Download or otherwise retrieve the data.\n",
    "2. Process / Prepare the data.\n",
    "3. Upload the processed data to S3.\n",
    "4. Train a chosen model.\n",
    "5. Test the trained model (typically using a batch transform job).\n",
    "6. Deploy the trained model.\n",
    "7. Use the deployed model.\n",
    "\n",
    "For this project, you will be following the steps in the general outline with some modifications. \n",
    "\n",
    "First, you will not be testing the model in its own step. You will still be testing the model, however, you will do it by deploying your model and then using the deployed model by sending the test data to it. One of the reasons for doing this is so that you can make sure that your deployed model is working correctly before moving forward.\n",
    "\n",
    "In addition, you will deploy and use your trained model a second time. In the second iteration you will customize the way that your trained model is deployed by including some of your own code. In addition, your newly deployed model will be used in the sentiment analysis web app."
   ]
  },
  {
   "cell_type": "markdown",
   "metadata": {},
   "source": [
    "## Step 1: Downloading the data\n",
    "\n",
    "As in the XGBoost in SageMaker notebook, we will be using the [IMDb dataset](http://ai.stanford.edu/~amaas/data/sentiment/)\n",
    "\n",
    "> Maas, Andrew L., et al. [Learning Word Vectors for Sentiment Analysis](http://ai.stanford.edu/~amaas/data/sentiment/). In _Proceedings of the 49th Annual Meeting of the Association for Computational Linguistics: Human Language Technologies_. Association for Computational Linguistics, 2011."
   ]
  },
  {
   "cell_type": "code",
   "execution_count": 1,
   "metadata": {},
   "outputs": [
    {
     "name": "stdout",
     "output_type": "stream",
     "text": [
      "mkdir: cannot create directory ‘../data’: File exists\n",
      "--2019-10-27 10:05:21--  http://ai.stanford.edu/~amaas/data/sentiment/aclImdb_v1.tar.gz\n",
      "Resolving ai.stanford.edu (ai.stanford.edu)... 171.64.68.10\n",
      "Connecting to ai.stanford.edu (ai.stanford.edu)|171.64.68.10|:80... connected.\n",
      "HTTP request sent, awaiting response... 200 OK\n",
      "Length: 84125825 (80M) [application/x-gzip]\n",
      "Saving to: ‘../data/aclImdb_v1.tar.gz’\n",
      "\n",
      "../data/aclImdb_v1. 100%[===================>]  80.23M  10.0MB/s    in 11s     \n",
      "\n",
      "2019-10-27 10:05:32 (7.22 MB/s) - ‘../data/aclImdb_v1.tar.gz’ saved [84125825/84125825]\n",
      "\n"
     ]
    }
   ],
   "source": [
    "%mkdir ../data\n",
    "!wget -O ../data/aclImdb_v1.tar.gz http://ai.stanford.edu/~amaas/data/sentiment/aclImdb_v1.tar.gz\n",
    "!tar -zxf ../data/aclImdb_v1.tar.gz -C ../data"
   ]
  },
  {
   "cell_type": "markdown",
   "metadata": {},
   "source": [
    "## Step 2: Preparing and Processing the data\n",
    "\n",
    "Also, as in the XGBoost notebook, we will be doing some initial data processing. The first few steps are the same as in the XGBoost example. To begin with, we will read in each of the reviews and combine them into a single input structure. Then, we will split the dataset into a training set and a testing set."
   ]
  },
  {
   "cell_type": "code",
   "execution_count": 2,
   "metadata": {},
   "outputs": [],
   "source": [
    "import os\n",
    "import glob\n",
    "\n",
    "def read_imdb_data(data_dir='../data/aclImdb'):\n",
    "    data = {}\n",
    "    labels = {}\n",
    "    \n",
    "    for data_type in ['train', 'test']:\n",
    "        data[data_type] = {}\n",
    "        labels[data_type] = {}\n",
    "        \n",
    "        for sentiment in ['pos', 'neg']:\n",
    "            data[data_type][sentiment] = []\n",
    "            labels[data_type][sentiment] = []\n",
    "            \n",
    "            path = os.path.join(data_dir, data_type, sentiment, '*.txt')\n",
    "            files = glob.glob(path)\n",
    "            \n",
    "            for f in files:\n",
    "                with open(f) as review:\n",
    "                    data[data_type][sentiment].append(review.read())\n",
    "                    # Here we represent a positive review by '1' and a negative review by '0'\n",
    "                    labels[data_type][sentiment].append(1 if sentiment == 'pos' else 0)\n",
    "                    \n",
    "            assert len(data[data_type][sentiment]) == len(labels[data_type][sentiment]), \\\n",
    "                    \"{}/{} data size does not match labels size\".format(data_type, sentiment)\n",
    "                \n",
    "    return data, labels"
   ]
  },
  {
   "cell_type": "code",
   "execution_count": 3,
   "metadata": {},
   "outputs": [
    {
     "name": "stdout",
     "output_type": "stream",
     "text": [
      "IMDB reviews: train = 12500 pos / 12500 neg, test = 12500 pos / 12500 neg\n"
     ]
    }
   ],
   "source": [
    "data, labels = read_imdb_data()\n",
    "print(\"IMDB reviews: train = {} pos / {} neg, test = {} pos / {} neg\".format(\n",
    "            len(data['train']['pos']), len(data['train']['neg']),\n",
    "            len(data['test']['pos']), len(data['test']['neg'])))"
   ]
  },
  {
   "cell_type": "markdown",
   "metadata": {},
   "source": [
    "Now that we've read the raw training and testing data from the downloaded dataset, we will combine the positive and negative reviews and shuffle the resulting records."
   ]
  },
  {
   "cell_type": "code",
   "execution_count": 4,
   "metadata": {},
   "outputs": [],
   "source": [
    "from sklearn.utils import shuffle\n",
    "\n",
    "def prepare_imdb_data(data, labels):\n",
    "    \"\"\"Prepare training and test sets from IMDb movie reviews.\"\"\"\n",
    "    \n",
    "    #Combine positive and negative reviews and labels\n",
    "    data_train = data['train']['pos'] + data['train']['neg']\n",
    "    data_test = data['test']['pos'] + data['test']['neg']\n",
    "    labels_train = labels['train']['pos'] + labels['train']['neg']\n",
    "    labels_test = labels['test']['pos'] + labels['test']['neg']\n",
    "    \n",
    "    #Shuffle reviews and corresponding labels within training and test sets\n",
    "    data_train, labels_train = shuffle(data_train, labels_train)\n",
    "    data_test, labels_test = shuffle(data_test, labels_test)\n",
    "    \n",
    "    # Return a unified training data, test data, training labels, test labets\n",
    "    return data_train, data_test, labels_train, labels_test"
   ]
  },
  {
   "cell_type": "code",
   "execution_count": 5,
   "metadata": {},
   "outputs": [
    {
     "name": "stdout",
     "output_type": "stream",
     "text": [
      "IMDb reviews (combined): train = 25000, test = 25000\n"
     ]
    }
   ],
   "source": [
    "train_X, test_X, train_y, test_y = prepare_imdb_data(data, labels)\n",
    "print(\"IMDb reviews (combined): train = {}, test = {}\".format(len(train_X), len(test_X)))"
   ]
  },
  {
   "cell_type": "markdown",
   "metadata": {},
   "source": [
    "Now that we have our training and testing sets unified and prepared, we should do a quick check and see an example of the data our model will be trained on. This is generally a good idea as it allows you to see how each of the further processing steps affects the reviews and it also ensures that the data has been loaded correctly."
   ]
  },
  {
   "cell_type": "code",
   "execution_count": 6,
   "metadata": {},
   "outputs": [
    {
     "name": "stdout",
     "output_type": "stream",
     "text": [
      "Henry, a veterinarian (Paul Rudd), and his bossy fiancé, Kate (Eva Longoria) are looking over the last minute arrangements for their reception. It is the morning of their wedding and Kate is in a frenzy, giving the caterers an earful about her demands for food presentation. But, horror of horrors, the \"angel\" ice sculpture, ordered by Kate, arrives without wings. In an ensuing fight with the sculptor, the heavy \"ice\" maiden falls on Kate and sends her to the hereafter. Now, one year later, Henry's sister arranges for a psychic to tell the young vet that Kate would have wanted him to starting dating other ladies and move forward. Yet, the lovely medium, Ashley (Lake Bell) becomes interested in Henry herself, much to the chagrin of her catering partner (Jason Biggs). More importantly, Kate returns from the other side to create havoc for Ashley, as she has no intentions of letting another woman get her hands on Henry. Can anything be done to return Kate into heaven for good? This is an abysmal romantic comedy, one of the worst this dedicated fan has ever seen. No, its not the cast, as they try gamely to make things work. Longoria is beautiful and funny as the overbearing fiancé and Bell has an offbeat style and humor that is likewise infectious. Biggs, a funny thespian, too, is totally wasted. As for Rudd, a very gifted performer (see Anchorman, Knocked Up, or Clueless, please) he tries hardest of all and, in truth, is the main reason to see this clunker. His charm, looks, and easy wit go a long way in making the film bearable. But, nothing can turn a mindless script and terrible direction into a winner, absolutely nothing. So, if you are a dyed-in-the-wool fan of romantic comedy, think long and hard before you fork over any money for this one. Even were free tickets to fall into your lap, be warned that this movie is a near-death experience for those who adore love-and-laugh cinema.\n",
      "0\n"
     ]
    }
   ],
   "source": [
    "print(train_X[100])\n",
    "print(train_y[100])"
   ]
  },
  {
   "cell_type": "markdown",
   "metadata": {},
   "source": [
    "The first step in processing the reviews is to make sure that any html tags that appear should be removed. In addition we wish to tokenize our input, that way words such as *entertained* and *entertaining* are considered the same with regard to sentiment analysis."
   ]
  },
  {
   "cell_type": "code",
   "execution_count": 7,
   "metadata": {},
   "outputs": [],
   "source": [
    "import nltk\n",
    "from nltk.corpus import stopwords\n",
    "from nltk.stem.porter import *\n",
    "\n",
    "import re\n",
    "from bs4 import BeautifulSoup\n",
    "\n",
    "def review_to_words(review):\n",
    "    nltk.download(\"stopwords\", quiet=True)\n",
    "    stemmer = PorterStemmer()\n",
    "    \n",
    "    text = BeautifulSoup(review, \"html.parser\").get_text() # Remove HTML tags\n",
    "    text = re.sub(r\"[^a-zA-Z0-9]\", \" \", text.lower()) # Convert to lower case\n",
    "    words = text.split() # Split string into words\n",
    "    words = [w for w in words if w not in stopwords.words(\"english\")] # Remove stopwords\n",
    "    words = [PorterStemmer().stem(w) for w in words] # stem\n",
    "    \n",
    "    return words"
   ]
  },
  {
   "cell_type": "markdown",
   "metadata": {},
   "source": [
    "The `review_to_words` method defined above uses `BeautifulSoup` to remove any html tags that appear and uses the `nltk` package to tokenize the reviews. As a check to ensure we know how everything is working, try applying `review_to_words` to one of the reviews in the training set."
   ]
  },
  {
   "cell_type": "code",
   "execution_count": 8,
   "metadata": {},
   "outputs": [
    {
     "name": "stdout",
     "output_type": "stream",
     "text": [
      "['henri', 'veterinarian', 'paul', 'rudd', 'bossi', 'fianc', 'kate', 'eva', 'longoria', 'look', 'last', 'minut', 'arrang', 'recept', 'morn', 'wed', 'kate', 'frenzi', 'give', 'cater', 'ear', 'demand', 'food', 'present', 'horror', 'horror', 'angel', 'ice', 'sculptur', 'order', 'kate', 'arriv', 'without', 'wing', 'ensu', 'fight', 'sculptor', 'heavi', 'ice', 'maiden', 'fall', 'kate', 'send', 'hereaft', 'one', 'year', 'later', 'henri', 'sister', 'arrang', 'psychic', 'tell', 'young', 'vet', 'kate', 'would', 'want', 'start', 'date', 'ladi', 'move', 'forward', 'yet', 'love', 'medium', 'ashley', 'lake', 'bell', 'becom', 'interest', 'henri', 'much', 'chagrin', 'cater', 'partner', 'jason', 'bigg', 'importantli', 'kate', 'return', 'side', 'creat', 'havoc', 'ashley', 'intent', 'let', 'anoth', 'woman', 'get', 'hand', 'henri', 'anyth', 'done', 'return', 'kate', 'heaven', 'good', 'abysm', 'romant', 'comedi', 'one', 'worst', 'dedic', 'fan', 'ever', 'seen', 'cast', 'tri', 'game', 'make', 'thing', 'work', 'longoria', 'beauti', 'funni', 'overbear', 'fianc', 'bell', 'offbeat', 'style', 'humor', 'likewis', 'infecti', 'bigg', 'funni', 'thespian', 'total', 'wast', 'rudd', 'gift', 'perform', 'see', 'anchorman', 'knock', 'clueless', 'pleas', 'tri', 'hardest', 'truth', 'main', 'reason', 'see', 'clunker', 'charm', 'look', 'easi', 'wit', 'go', 'long', 'way', 'make', 'film', 'bearabl', 'noth', 'turn', 'mindless', 'script', 'terribl', 'direct', 'winner', 'absolut', 'noth', 'dy', 'wool', 'fan', 'romant', 'comedi', 'think', 'long', 'hard', 'fork', 'money', 'one', 'even', 'free', 'ticket', 'fall', 'lap', 'warn', 'movi', 'near', 'death', 'experi', 'ador', 'love', 'laugh', 'cinema']\n"
     ]
    }
   ],
   "source": [
    "# TODO: Apply review_to_words to a review (train_X[100] or any other review)\n",
    "print(review_to_words(train_X[100]))"
   ]
  },
  {
   "cell_type": "markdown",
   "metadata": {},
   "source": [
    "**Question:** Above we mentioned that `review_to_words` method removes html formatting and allows us to tokenize the words found in a review, for example, converting *entertained* and *entertaining* into *entertain* so that they are treated as though they are the same word. What else, if anything, does this method do to the input?"
   ]
  },
  {
   "cell_type": "markdown",
   "metadata": {},
   "source": [
    "**Answer:**\n",
    "* convert text to lowercase (_Train_ becomes _train_)\n",
    "* removes stopword according to the nltk corpus for the English language"
   ]
  },
  {
   "cell_type": "markdown",
   "metadata": {},
   "source": [
    "The method below applies the `review_to_words` method to each of the reviews in the training and testing datasets. In addition it caches the results. This is because performing this processing step can take a long time. This way if you are unable to complete the notebook in the current session, you can come back without needing to process the data a second time."
   ]
  },
  {
   "cell_type": "code",
   "execution_count": 9,
   "metadata": {},
   "outputs": [],
   "source": [
    "import pickle\n",
    "\n",
    "cache_dir = os.path.join(\"../cache\", \"sentiment_analysis\")  # where to store cache files\n",
    "os.makedirs(cache_dir, exist_ok=True)  # ensure cache directory exists\n",
    "\n",
    "def preprocess_data(data_train, data_test, labels_train, labels_test,\n",
    "                    cache_dir=cache_dir, cache_file=\"preprocessed_data.pkl\"):\n",
    "    \"\"\"Convert each review to words; read from cache if available.\"\"\"\n",
    "\n",
    "    # If cache_file is not None, try to read from it first\n",
    "    cache_data = None\n",
    "    if cache_file is not None:\n",
    "        try:\n",
    "            with open(os.path.join(cache_dir, cache_file), \"rb\") as f:\n",
    "                cache_data = pickle.load(f)\n",
    "            print(\"Read preprocessed data from cache file:\", cache_file)\n",
    "        except:\n",
    "            pass  # unable to read from cache, but that's okay\n",
    "    \n",
    "    # If cache is missing, then do the heavy lifting\n",
    "    if cache_data is None:\n",
    "        # Preprocess training and test data to obtain words for each review\n",
    "        #words_train = list(map(review_to_words, data_train))\n",
    "        #words_test = list(map(review_to_words, data_test))\n",
    "        words_train = [review_to_words(review) for review in data_train]\n",
    "        words_test = [review_to_words(review) for review in data_test]\n",
    "        \n",
    "        # Write to cache file for future runs\n",
    "        if cache_file is not None:\n",
    "            cache_data = dict(words_train=words_train, words_test=words_test,\n",
    "                              labels_train=labels_train, labels_test=labels_test)\n",
    "            with open(os.path.join(cache_dir, cache_file), \"wb\") as f:\n",
    "                pickle.dump(cache_data, f)\n",
    "            print(\"Wrote preprocessed data to cache file:\", cache_file)\n",
    "    else:\n",
    "        # Unpack data loaded from cache file\n",
    "        words_train, words_test, labels_train, labels_test = (cache_data['words_train'],\n",
    "                cache_data['words_test'], cache_data['labels_train'], cache_data['labels_test'])\n",
    "    \n",
    "    return words_train, words_test, labels_train, labels_test"
   ]
  },
  {
   "cell_type": "code",
   "execution_count": 10,
   "metadata": {},
   "outputs": [
    {
     "name": "stdout",
     "output_type": "stream",
     "text": [
      "Read preprocessed data from cache file: preprocessed_data.pkl\n"
     ]
    }
   ],
   "source": [
    "# Preprocess data\n",
    "train_X, test_X, train_y, test_y = preprocess_data(train_X, test_X, train_y, test_y)"
   ]
  },
  {
   "cell_type": "markdown",
   "metadata": {},
   "source": [
    "## Transform the data\n",
    "\n",
    "In the XGBoost notebook we transformed the data from its word representation to a bag-of-words feature representation. For the model we are going to construct in this notebook we will construct a feature representation which is very similar. To start, we will represent each word as an integer. Of course, some of the words that appear in the reviews occur very infrequently and so likely don't contain much information for the purposes of sentiment analysis. The way we will deal with this problem is that we will fix the size of our working vocabulary and we will only include the words that appear most frequently. We will then combine all of the infrequent words into a single category and, in our case, we will label it as `1`.\n",
    "\n",
    "Since we will be using a recurrent neural network, it will be convenient if the length of each review is the same. To do this, we will fix a size for our reviews and then pad short reviews with the category 'no word' (which we will label `0`) and truncate long reviews."
   ]
  },
  {
   "cell_type": "markdown",
   "metadata": {},
   "source": [
    "### (TODO) Create a word dictionary\n",
    "\n",
    "To begin with, we need to construct a way to map words that appear in the reviews to integers. Here we fix the size of our vocabulary (including the 'no word' and 'infrequent' categories) to be `5000` but you may wish to change this to see how it affects the model.\n",
    "\n",
    "> **TODO:** Complete the implementation for the `build_dict()` method below. Note that even though the vocab_size is set to `5000`, we only want to construct a mapping for the most frequently appearing `4998` words. This is because we want to reserve the special labels `0` for 'no word' and `1` for 'infrequent word'."
   ]
  },
  {
   "cell_type": "code",
   "execution_count": 13,
   "metadata": {},
   "outputs": [],
   "source": [
    "import numpy as np\n",
    "\n",
    "def build_dict(data, vocab_size = 5000):\n",
    "    \"\"\"Construct and return a dictionary mapping each of the most frequently appearing words to a unique integer.\"\"\"\n",
    "    \n",
    "    # TODO: Determine how often each word appears in `data`. Note that `data` is a list of sentences and that a\n",
    "    #       sentence is a list of words.\n",
    "    # credit to https://stackoverflow.com/questions/25674169/how-does-the-list-comprehension-to-flatten-a-python-list-work\n",
    "    data_flat_list = [item for sublist in data for item in sublist]\n",
    "    data_array = np.array(data_flat_list)\n",
    "    # credit to https://stackoverflow.com/questions/28663856/how-to-count-the-occurrence-of-certain-item-in-an-ndarray-in-python/28663913\n",
    "    words, counts = np.unique(data_array, return_counts=True)\n",
    "    word_count = dict(zip(words, counts)) # A dict storing the words that appear in the reviews along with how often they occur\n",
    "    \n",
    "    # TODO: Sort the words found in `data` so that sorted_words[0] is the most frequently appearing word and\n",
    "    #       sorted_words[-1] is the least frequently appearing word.\n",
    "    # credit to https://stackoverflow.com/questions/613183/how-do-i-sort-a-dictionary-by-value\n",
    "    sorted_words = [key for (key,value) in sorted(word_count.items(), key=lambda x: x[1], reverse=True)]\n",
    "    \n",
    "    word_dict = {} # This is what we are building, a dictionary that translates words into integers\n",
    "    for idx, word in enumerate(sorted_words[:vocab_size - 2]): # The -2 is so that we save room for the 'no word'\n",
    "        word_dict[word] = idx + 2                              # 'infrequent' labels\n",
    "        \n",
    "    return word_dict"
   ]
  },
  {
   "cell_type": "code",
   "execution_count": 14,
   "metadata": {},
   "outputs": [],
   "source": [
    "word_dict = build_dict(train_X)"
   ]
  },
  {
   "cell_type": "markdown",
   "metadata": {},
   "source": [
    "**Question:** What are the five most frequently appearing (tokenized) words in the training set? Does it makes sense that these words appear frequently in the training set?"
   ]
  },
  {
   "cell_type": "markdown",
   "metadata": {},
   "source": [
    "**Answer:**\n",
    "The tokens movi, film, one, like, and time are the most frequent in the training set. The first two make sense as they are designations of the review objects. The token 'like' also plausible, as the reviews are 'opinion' pieces."
   ]
  },
  {
   "cell_type": "code",
   "execution_count": 15,
   "metadata": {},
   "outputs": [
    {
     "data": {
      "text/plain": [
       "{'movi': 2, 'film': 3, 'one': 4, 'like': 5, 'time': 6}"
      ]
     },
     "execution_count": 15,
     "metadata": {},
     "output_type": "execute_result"
    }
   ],
   "source": [
    "# TODO: Use this space to determine the five most frequently appearing words in the training set.\n",
    "# credit to https://blog.softhints.com/python-get-first-elements-dictionary/\n",
    "{k: word_dict[k] for k in list(word_dict)[:5]}"
   ]
  },
  {
   "cell_type": "markdown",
   "metadata": {},
   "source": [
    "### Save `word_dict`\n",
    "\n",
    "Later on when we construct an endpoint which processes a submitted review we will need to make use of the `word_dict` which we have created. As such, we will save it to a file now for future use."
   ]
  },
  {
   "cell_type": "code",
   "execution_count": 16,
   "metadata": {},
   "outputs": [],
   "source": [
    "data_dir = '../data/pytorch' # The folder we will use for storing data\n",
    "if not os.path.exists(data_dir): # Make sure that the folder exists\n",
    "    os.makedirs(data_dir)"
   ]
  },
  {
   "cell_type": "code",
   "execution_count": 17,
   "metadata": {},
   "outputs": [],
   "source": [
    "with open(os.path.join(data_dir, 'word_dict.pkl'), \"wb\") as f:\n",
    "    pickle.dump(word_dict, f)"
   ]
  },
  {
   "cell_type": "markdown",
   "metadata": {},
   "source": [
    "### Transform the reviews\n",
    "\n",
    "Now that we have our word dictionary which allows us to transform the words appearing in the reviews into integers, it is time to make use of it and convert our reviews to their integer sequence representation, making sure to pad or truncate to a fixed length, which in our case is `500`."
   ]
  },
  {
   "cell_type": "code",
   "execution_count": 18,
   "metadata": {},
   "outputs": [],
   "source": [
    "def convert_and_pad(word_dict, sentence, pad=500):\n",
    "    NOWORD = 0 # We will use 0 to represent the 'no word' category\n",
    "    INFREQ = 1 # and we use 1 to represent the infrequent words, i.e., words not appearing in word_dict\n",
    "    \n",
    "    working_sentence = [NOWORD] * pad\n",
    "    \n",
    "    for word_index, word in enumerate(sentence[:pad]):\n",
    "        if word in word_dict:\n",
    "            working_sentence[word_index] = word_dict[word]\n",
    "        else:\n",
    "            working_sentence[word_index] = INFREQ\n",
    "            \n",
    "    return working_sentence, min(len(sentence), pad)\n",
    "\n",
    "def convert_and_pad_data(word_dict, data, pad=500):\n",
    "    result = []\n",
    "    lengths = []\n",
    "    \n",
    "    for sentence in data:\n",
    "        converted, leng = convert_and_pad(word_dict, sentence, pad)\n",
    "        result.append(converted)\n",
    "        lengths.append(leng)\n",
    "        \n",
    "    return np.array(result), np.array(lengths)"
   ]
  },
  {
   "cell_type": "code",
   "execution_count": 19,
   "metadata": {},
   "outputs": [],
   "source": [
    "train_X, train_X_len = convert_and_pad_data(word_dict, train_X)\n",
    "test_X, test_X_len = convert_and_pad_data(word_dict, test_X)"
   ]
  },
  {
   "cell_type": "markdown",
   "metadata": {},
   "source": [
    "As a quick check to make sure that things are working as intended, check to see what one of the reviews in the training set looks like after having been processeed. Does this look reasonable? What is the length of a review in the training set?"
   ]
  },
  {
   "cell_type": "code",
   "execution_count": 20,
   "metadata": {},
   "outputs": [
    {
     "data": {
      "text/plain": [
       "141"
      ]
     },
     "execution_count": 20,
     "metadata": {},
     "output_type": "execute_result"
    }
   ],
   "source": [
    "train_X_len[100]"
   ]
  },
  {
   "cell_type": "code",
   "execution_count": 21,
   "metadata": {},
   "outputs": [
    {
     "data": {
      "text/plain": [
       "500"
      ]
     },
     "execution_count": 21,
     "metadata": {},
     "output_type": "execute_result"
    }
   ],
   "source": [
    "len(train_X[100])"
   ]
  },
  {
   "cell_type": "code",
   "execution_count": 22,
   "metadata": {},
   "outputs": [
    {
     "data": {
      "text/plain": [
       "array([1657,  843,   75, 2702, 2167,  283,   45,   19,    1,   48,  843,\n",
       "         64, 1749,  843,   29, 1657, 1454,  219,    4,  283,  263,   29,\n",
       "        843, 1728,   48,   64,   14,  152,  103, 1657,    1,  532,   58,\n",
       "         90, 1657, 2039,   55,    1,    7, 1366,  221,  112,  330, 1028,\n",
       "          4,   21,   58,  112,   70,  641, 2207, 3487, 2693,  247,   55,\n",
       "        150,  248,   86, 2680,    4,   16,  246,    1,   27,  858,  446,\n",
       "        520,  498,    1,    2, 4468, 1843,  843, 3924,    1, 2306,  274,\n",
       "       2177,   27,  511,  556, 1258, 1657,  843,  827,  323,   82, 2609,\n",
       "        959,  223,  322,  129,  610,  857,  181,  433,    1,  106,  385,\n",
       "       1092,    2,   17,   97,  636,  195,  312,  723,  559,   11,    1,\n",
       "          1, 2160, 1070,  391,  775,  232,  843, 2419,  106,  747,   59,\n",
       "         30,    1, 2273,   24,  843,    1,  313, 1657, 1261,  265,  546,\n",
       "        639,   53,    1, 4652, 1657,   17,  218,   11,  138,    0,    0,\n",
       "          0,    0,    0,    0,    0,    0,    0,    0,    0,    0,    0,\n",
       "          0,    0,    0,    0,    0,    0,    0,    0,    0,    0,    0,\n",
       "          0,    0,    0,    0,    0,    0,    0,    0,    0,    0,    0,\n",
       "          0,    0,    0,    0,    0,    0,    0,    0,    0,    0,    0,\n",
       "          0,    0,    0,    0,    0,    0,    0,    0,    0,    0,    0,\n",
       "          0,    0,    0,    0,    0,    0,    0,    0,    0,    0,    0,\n",
       "          0,    0,    0,    0,    0,    0,    0,    0,    0,    0,    0,\n",
       "          0,    0,    0,    0,    0,    0,    0,    0,    0,    0,    0,\n",
       "          0,    0,    0,    0,    0,    0,    0,    0,    0,    0,    0,\n",
       "          0,    0,    0,    0,    0,    0,    0,    0,    0,    0,    0,\n",
       "          0,    0,    0,    0,    0,    0,    0,    0,    0,    0,    0,\n",
       "          0,    0,    0,    0,    0,    0,    0,    0,    0,    0,    0,\n",
       "          0,    0,    0,    0,    0,    0,    0,    0,    0,    0,    0,\n",
       "          0,    0,    0,    0,    0,    0,    0,    0,    0,    0,    0,\n",
       "          0,    0,    0,    0,    0,    0,    0,    0,    0,    0,    0,\n",
       "          0,    0,    0,    0,    0,    0,    0,    0,    0,    0,    0,\n",
       "          0,    0,    0,    0,    0,    0,    0,    0,    0,    0,    0,\n",
       "          0,    0,    0,    0,    0,    0,    0,    0,    0,    0,    0,\n",
       "          0,    0,    0,    0,    0,    0,    0,    0,    0,    0,    0,\n",
       "          0,    0,    0,    0,    0,    0,    0,    0,    0,    0,    0,\n",
       "          0,    0,    0,    0,    0,    0,    0,    0,    0,    0,    0,\n",
       "          0,    0,    0,    0,    0,    0,    0,    0,    0,    0,    0,\n",
       "          0,    0,    0,    0,    0,    0,    0,    0,    0,    0,    0,\n",
       "          0,    0,    0,    0,    0,    0,    0,    0,    0,    0,    0,\n",
       "          0,    0,    0,    0,    0,    0,    0,    0,    0,    0,    0,\n",
       "          0,    0,    0,    0,    0,    0,    0,    0,    0,    0,    0,\n",
       "          0,    0,    0,    0,    0,    0,    0,    0,    0,    0,    0,\n",
       "          0,    0,    0,    0,    0,    0,    0,    0,    0,    0,    0,\n",
       "          0,    0,    0,    0,    0,    0,    0,    0,    0,    0,    0,\n",
       "          0,    0,    0,    0,    0,    0,    0,    0,    0,    0,    0,\n",
       "          0,    0,    0,    0,    0,    0,    0,    0,    0,    0,    0,\n",
       "          0,    0,    0,    0,    0,    0,    0,    0,    0,    0,    0,\n",
       "          0,    0,    0,    0,    0])"
      ]
     },
     "execution_count": 22,
     "metadata": {},
     "output_type": "execute_result"
    }
   ],
   "source": [
    "# Use this cell to examine one of the processed reviews to make sure everything is working as intended.\n",
    "train_X[100]"
   ]
  },
  {
   "cell_type": "markdown",
   "metadata": {},
   "source": [
    "**Question:** In the cells above we use the `preprocess_data` and `convert_and_pad_data` methods to process both the training and testing set. Why or why not might this be a problem?"
   ]
  },
  {
   "cell_type": "markdown",
   "metadata": {},
   "source": [
    "**Answer:**\n",
    "The function `preprocess_data` does not do any learning, just cleaning and tokenizing, so I do not see any problem in applying it to both training and test data sets. The `convert_and_pad_data` has the word dictionary as input. In order to avoide data leakage from the test set, it is important to create the dictionary only based on the train set. The word dictionary was correcly constructed based on the training set and then applied to both test and train."
   ]
  },
  {
   "cell_type": "markdown",
   "metadata": {},
   "source": [
    "## Step 3: Upload the data to S3\n",
    "\n",
    "As in the XGBoost notebook, we will need to upload the training dataset to S3 in order for our training code to access it. For now we will save it locally and we will upload to S3 later on.\n",
    "\n",
    "### Save the processed training dataset locally\n",
    "\n",
    "It is important to note the format of the data that we are saving as we will need to know it when we write the training code. In our case, each row of the dataset has the form `label`, `length`, `review[500]` where `review[500]` is a sequence of `500` integers representing the words in the review."
   ]
  },
  {
   "cell_type": "code",
   "execution_count": 23,
   "metadata": {},
   "outputs": [],
   "source": [
    "import pandas as pd\n",
    "    \n",
    "pd.concat([pd.DataFrame(train_y), pd.DataFrame(train_X_len), pd.DataFrame(train_X)], axis=1) \\\n",
    "        .to_csv(os.path.join(data_dir, 'train.csv'), header=False, index=False)\n",
    "\n",
    "pd.concat([pd.DataFrame(test_X_len), pd.DataFrame(test_X)], axis=1) \\\n",
    "        .to_csv(os.path.join(data_dir, 'test.csv'), header=False, index=False)\n",
    "\n",
    "pd.concat([pd.DataFrame(test_y), pd.DataFrame(test_X_len), pd.DataFrame(test_X)], axis=1) \\\n",
    "        .to_csv(os.path.join(data_dir, 'test_full.csv'), header=False, index=False)"
   ]
  },
  {
   "cell_type": "markdown",
   "metadata": {},
   "source": [
    "### Uploading the training data\n",
    "\n",
    "\n",
    "Next, we need to upload the training data to the SageMaker default S3 bucket so that we can provide access to it while training our model."
   ]
  },
  {
   "cell_type": "code",
   "execution_count": 24,
   "metadata": {},
   "outputs": [],
   "source": [
    "import sagemaker\n",
    "\n",
    "sagemaker_session = sagemaker.Session()\n",
    "\n",
    "bucket = sagemaker_session.default_bucket()\n",
    "prefix = 'sagemaker/sentiment_rnn'\n",
    "\n",
    "role = sagemaker.get_execution_role()"
   ]
  },
  {
   "cell_type": "code",
   "execution_count": 25,
   "metadata": {},
   "outputs": [],
   "source": [
    "input_data = sagemaker_session.upload_data(path=data_dir, bucket=bucket, key_prefix=prefix)"
   ]
  },
  {
   "cell_type": "markdown",
   "metadata": {},
   "source": [
    "**NOTE:** The cell above uploads the entire contents of our data directory. This includes the `word_dict.pkl` file. This is fortunate as we will need this later on when we create an endpoint that accepts an arbitrary review. For now, we will just take note of the fact that it resides in the data directory (and so also in the S3 training bucket) and that we will need to make sure it gets saved in the model directory."
   ]
  },
  {
   "cell_type": "markdown",
   "metadata": {},
   "source": [
    "## Step 4: Build and Train the PyTorch Model\n",
    "\n",
    "In the XGBoost notebook we discussed what a model is in the SageMaker framework. In particular, a model comprises three objects\n",
    "\n",
    " - Model Artifacts,\n",
    " - Training Code, and\n",
    " - Inference Code,\n",
    " \n",
    "each of which interact with one another. In the XGBoost example we used training and inference code that was provided by Amazon. Here we will still be using containers provided by Amazon with the added benefit of being able to include our own custom code.\n",
    "\n",
    "We will start by implementing our own neural network in PyTorch along with a training script. For the purposes of this project we have provided the necessary model object in the `model.py` file, inside of the `train` folder. You can see the provided implementation by running the cell below."
   ]
  },
  {
   "cell_type": "code",
   "execution_count": 26,
   "metadata": {},
   "outputs": [
    {
     "name": "stdout",
     "output_type": "stream",
     "text": [
      "\u001b[34mimport\u001b[39;49;00m \u001b[04m\u001b[36mtorch.nn\u001b[39;49;00m \u001b[34mas\u001b[39;49;00m \u001b[04m\u001b[36mnn\u001b[39;49;00m\r\n",
      "\r\n",
      "\u001b[34mclass\u001b[39;49;00m \u001b[04m\u001b[32mLSTMClassifier\u001b[39;49;00m(nn.Module):\r\n",
      "    \u001b[33m\"\"\"\u001b[39;49;00m\r\n",
      "\u001b[33m    This is the simple RNN model we will be using to perform Sentiment Analysis.\u001b[39;49;00m\r\n",
      "\u001b[33m    \"\"\"\u001b[39;49;00m\r\n",
      "\r\n",
      "    \u001b[34mdef\u001b[39;49;00m \u001b[32m__init__\u001b[39;49;00m(\u001b[36mself\u001b[39;49;00m, embedding_dim, hidden_dim, vocab_size):\r\n",
      "        \u001b[33m\"\"\"\u001b[39;49;00m\r\n",
      "\u001b[33m        Initialize the model by settingg up the various layers.\u001b[39;49;00m\r\n",
      "\u001b[33m        \"\"\"\u001b[39;49;00m\r\n",
      "        \u001b[36msuper\u001b[39;49;00m(LSTMClassifier, \u001b[36mself\u001b[39;49;00m).\u001b[32m__init__\u001b[39;49;00m()\r\n",
      "\r\n",
      "        \u001b[36mself\u001b[39;49;00m.embedding = nn.Embedding(vocab_size, embedding_dim, padding_idx=\u001b[34m0\u001b[39;49;00m)\r\n",
      "        \u001b[36mself\u001b[39;49;00m.lstm = nn.LSTM(embedding_dim, hidden_dim)\r\n",
      "        \u001b[36mself\u001b[39;49;00m.dense = nn.Linear(in_features=hidden_dim, out_features=\u001b[34m1\u001b[39;49;00m)\r\n",
      "        \u001b[36mself\u001b[39;49;00m.sig = nn.Sigmoid()\r\n",
      "        \r\n",
      "        \u001b[36mself\u001b[39;49;00m.word_dict = \u001b[36mNone\u001b[39;49;00m\r\n",
      "\r\n",
      "    \u001b[34mdef\u001b[39;49;00m \u001b[32mforward\u001b[39;49;00m(\u001b[36mself\u001b[39;49;00m, x):\r\n",
      "        \u001b[33m\"\"\"\u001b[39;49;00m\r\n",
      "\u001b[33m        Perform a forward pass of our model on some input.\u001b[39;49;00m\r\n",
      "\u001b[33m        \"\"\"\u001b[39;49;00m\r\n",
      "        x = x.t()\r\n",
      "        lengths = x[\u001b[34m0\u001b[39;49;00m,:]\r\n",
      "        reviews = x[\u001b[34m1\u001b[39;49;00m:,:]\r\n",
      "        embeds = \u001b[36mself\u001b[39;49;00m.embedding(reviews)\r\n",
      "        lstm_out, _ = \u001b[36mself\u001b[39;49;00m.lstm(embeds)\r\n",
      "        out = \u001b[36mself\u001b[39;49;00m.dense(lstm_out)\r\n",
      "        out = out[lengths - \u001b[34m1\u001b[39;49;00m, \u001b[36mrange\u001b[39;49;00m(\u001b[36mlen\u001b[39;49;00m(lengths))]\r\n",
      "        \u001b[34mreturn\u001b[39;49;00m \u001b[36mself\u001b[39;49;00m.sig(out.squeeze())\r\n"
     ]
    }
   ],
   "source": [
    "!pygmentize train/model.py"
   ]
  },
  {
   "cell_type": "markdown",
   "metadata": {},
   "source": [
    "The important takeaway from the implementation provided is that there are three parameters that we may wish to tweak to improve the performance of our model. These are the embedding dimension, the hidden dimension and the size of the vocabulary. We will likely want to make these parameters configurable in the training script so that if we wish to modify them we do not need to modify the script itself. We will see how to do this later on. To start we will write some of the training code in the notebook so that we can more easily diagnose any issues that arise.\n",
    "\n",
    "First we will load a small portion of the training data set to use as a sample. It would be very time consuming to try and train the model completely in the notebook as we do not have access to a gpu and the compute instance that we are using is not particularly powerful. However, we can work on a small bit of the data to get a feel for how our training script is behaving."
   ]
  },
  {
   "cell_type": "code",
   "execution_count": 27,
   "metadata": {},
   "outputs": [],
   "source": [
    "import torch\n",
    "import torch.utils.data\n",
    "\n",
    "# Read in only the first 250 rows\n",
    "train_sample = pd.read_csv(os.path.join(data_dir, 'train.csv'), header=None, names=None, nrows=250)\n",
    "\n",
    "# Turn the input pandas dataframe into tensors\n",
    "train_sample_y = torch.from_numpy(train_sample[[0]].values).float().squeeze()\n",
    "train_sample_X = torch.from_numpy(train_sample.drop([0], axis=1).values).long()\n",
    "\n",
    "# Build the dataset\n",
    "train_sample_ds = torch.utils.data.TensorDataset(train_sample_X, train_sample_y)\n",
    "# Build the dataloader\n",
    "train_sample_dl = torch.utils.data.DataLoader(train_sample_ds, batch_size=50)"
   ]
  },
  {
   "cell_type": "markdown",
   "metadata": {},
   "source": [
    "### (TODO) Writing the training method\n",
    "\n",
    "Next we need to write the training code itself. This should be very similar to training methods that you have written before to train PyTorch models. We will leave any difficult aspects such as model saving / loading and parameter loading until a little later."
   ]
  },
  {
   "cell_type": "code",
   "execution_count": 28,
   "metadata": {},
   "outputs": [],
   "source": [
    "def train(model, train_loader, epochs, optimizer, loss_fn, device):\n",
    "    for epoch in range(1, epochs + 1):\n",
    "        model.train()\n",
    "        total_loss = 0\n",
    "        for batch in train_loader:         \n",
    "            batch_X, batch_y = batch\n",
    "            \n",
    "            batch_X = batch_X.to(device)\n",
    "            batch_y = batch_y.to(device)\n",
    "            \n",
    "            # TODO: Complete this train method to train the model provided.\n",
    "            # ideas from https://github.com/claravania/lstm-pytorch/blob/master/train.py \n",
    "            # and https://github.com/AAnoosheh/MNIST_test/blob/master/train.py\n",
    "            optimizer.zero_grad()\n",
    "            output = model.forward(batch_X)\n",
    "            loss = loss_fn(output, batch_y)\n",
    "            loss.backward()\n",
    "            optimizer.step()\n",
    "            \n",
    "            total_loss += loss.data.item()\n",
    "        print(\"Epoch: {}, BCELoss: {}\".format(epoch, total_loss / len(train_loader)))"
   ]
  },
  {
   "cell_type": "markdown",
   "metadata": {},
   "source": [
    "Supposing we have the training method above, we will test that it is working by writing a bit of code in the notebook that executes our training method on the small sample training set that we loaded earlier. The reason for doing this in the notebook is so that we have an opportunity to fix any errors that arise early when they are easier to diagnose."
   ]
  },
  {
   "cell_type": "code",
   "execution_count": 29,
   "metadata": {},
   "outputs": [
    {
     "name": "stdout",
     "output_type": "stream",
     "text": [
      "Epoch: 1, BCELoss: 0.6954705476760864\n",
      "Epoch: 2, BCELoss: 0.6876964449882508\n",
      "Epoch: 3, BCELoss: 0.681549894809723\n",
      "Epoch: 4, BCELoss: 0.6751041054725647\n",
      "Epoch: 5, BCELoss: 0.6675611853599548\n"
     ]
    }
   ],
   "source": [
    "import torch.optim as optim\n",
    "from train.model import LSTMClassifier\n",
    "\n",
    "device = torch.device(\"cuda\" if torch.cuda.is_available() else \"cpu\")\n",
    "model = LSTMClassifier(32, 100, 5000).to(device)\n",
    "optimizer = optim.Adam(model.parameters())\n",
    "loss_fn = torch.nn.BCELoss()\n",
    "\n",
    "train(model, train_sample_dl, 5, optimizer, loss_fn, device)"
   ]
  },
  {
   "cell_type": "markdown",
   "metadata": {},
   "source": [
    "In order to construct a PyTorch model using SageMaker we must provide SageMaker with a training script. We may optionally include a directory which will be copied to the container and from which our training code will be run. When the training container is executed it will check the uploaded directory (if there is one) for a `requirements.txt` file and install any required Python libraries, after which the training script will be run."
   ]
  },
  {
   "cell_type": "markdown",
   "metadata": {},
   "source": [
    "### (TODO) Training the model\n",
    "\n",
    "When a PyTorch model is constructed in SageMaker, an entry point must be specified. This is the Python file which will be executed when the model is trained. Inside of the `train` directory is a file called `train.py` which has been provided and which contains most of the necessary code to train our model. The only thing that is missing is the implementation of the `train()` method which you wrote earlier in this notebook.\n",
    "\n",
    "**TODO**: Copy the `train()` method written above and paste it into the `train/train.py` file where required.\n",
    "\n",
    "The way that SageMaker passes hyperparameters to the training script is by way of arguments. These arguments can then be parsed and used in the training script. To see how this is done take a look at the provided `train/train.py` file."
   ]
  },
  {
   "cell_type": "code",
   "execution_count": 34,
   "metadata": {},
   "outputs": [],
   "source": [
    "from sagemaker.pytorch import PyTorch\n",
    "\n",
    "estimator = PyTorch(entry_point=\"train.py\",\n",
    "                    source_dir=\"train\",\n",
    "                    role=role,\n",
    "                    framework_version='0.4.0',\n",
    "                    train_instance_count=1,\n",
    "                    train_instance_type= 'ml.m4.xlarge',#'ml.p2.xlarge', \n",
    "                    hyperparameters={\n",
    "                        'epochs': 10,\n",
    "                        'hidden_dim': 200,\n",
    "                    })"
   ]
  },
  {
   "cell_type": "code",
   "execution_count": 35,
   "metadata": {},
   "outputs": [
    {
     "name": "stdout",
     "output_type": "stream",
     "text": [
      "2019-10-27 10:20:41 Starting - Starting the training job...\n",
      "2019-10-27 10:20:43 Starting - Launching requested ML instances...\n",
      "2019-10-27 10:21:40 Starting - Preparing the instances for training......\n",
      "2019-10-27 10:22:34 Downloading - Downloading input data...\n",
      "2019-10-27 10:23:02 Training - Downloading the training image..\u001b[31mbash: cannot set terminal process group (-1): Inappropriate ioctl for device\u001b[0m\n",
      "\u001b[31mbash: no job control in this shell\u001b[0m\n",
      "\u001b[31m2019-10-27 10:23:20,723 sagemaker-containers INFO     Imported framework sagemaker_pytorch_container.training\u001b[0m\n",
      "\u001b[31m2019-10-27 10:23:20,726 sagemaker-containers INFO     No GPUs detected (normal if no gpus installed)\u001b[0m\n",
      "\u001b[31m2019-10-27 10:23:20,740 sagemaker_pytorch_container.training INFO     Block until all host DNS lookups succeed.\u001b[0m\n",
      "\u001b[31m2019-10-27 10:23:20,745 sagemaker_pytorch_container.training INFO     Invoking user training script.\u001b[0m\n",
      "\u001b[31m2019-10-27 10:23:20,963 sagemaker-containers INFO     Module train does not provide a setup.py. \u001b[0m\n",
      "\u001b[31mGenerating setup.py\u001b[0m\n",
      "\u001b[31m2019-10-27 10:23:20,963 sagemaker-containers INFO     Generating setup.cfg\u001b[0m\n",
      "\u001b[31m2019-10-27 10:23:20,963 sagemaker-containers INFO     Generating MANIFEST.in\u001b[0m\n",
      "\u001b[31m2019-10-27 10:23:20,964 sagemaker-containers INFO     Installing module with the following command:\u001b[0m\n",
      "\u001b[31m/usr/bin/python -m pip install -U . -r requirements.txt\u001b[0m\n",
      "\u001b[31mProcessing /opt/ml/code\u001b[0m\n",
      "\u001b[31mCollecting pandas (from -r requirements.txt (line 1))\n",
      "  Downloading https://files.pythonhosted.org/packages/74/24/0cdbf8907e1e3bc5a8da03345c23cbed7044330bb8f73bb12e711a640a00/pandas-0.24.2-cp35-cp35m-manylinux1_x86_64.whl (10.0MB)\u001b[0m\n",
      "\u001b[31mCollecting numpy (from -r requirements.txt (line 2))\n",
      "  Downloading https://files.pythonhosted.org/packages/5e/f8/82a8a6ed446b58aa718b2744b265983783a2c84098a73db6d0b78a573e25/numpy-1.17.3-cp35-cp35m-manylinux1_x86_64.whl (19.8MB)\u001b[0m\n",
      "\u001b[31mCollecting nltk (from -r requirements.txt (line 3))\n",
      "  Downloading https://files.pythonhosted.org/packages/f6/1d/d925cfb4f324ede997f6d47bea4d9babba51b49e87a767c170b77005889d/nltk-3.4.5.zip (1.5MB)\u001b[0m\n",
      "\u001b[31mCollecting beautifulsoup4 (from -r requirements.txt (line 4))\n",
      "  Downloading https://files.pythonhosted.org/packages/3b/c8/a55eb6ea11cd7e5ac4bacdf92bac4693b90d3ba79268be16527555e186f0/beautifulsoup4-4.8.1-py3-none-any.whl (101kB)\u001b[0m\n",
      "\u001b[31mCollecting html5lib (from -r requirements.txt (line 5))\n",
      "  Downloading https://files.pythonhosted.org/packages/a5/62/bbd2be0e7943ec8504b517e62bab011b4946e1258842bc159e5dfde15b96/html5lib-1.0.1-py2.py3-none-any.whl (117kB)\u001b[0m\n",
      "\u001b[31mRequirement already satisfied, skipping upgrade: python-dateutil>=2.5.0 in /usr/local/lib/python3.5/dist-packages (from pandas->-r requirements.txt (line 1)) (2.7.5)\u001b[0m\n",
      "\u001b[31mCollecting pytz>=2011k (from pandas->-r requirements.txt (line 1))\n",
      "  Downloading https://files.pythonhosted.org/packages/e7/f9/f0b53f88060247251bf481fa6ea62cd0d25bf1b11a87888e53ce5b7c8ad2/pytz-2019.3-py2.py3-none-any.whl (509kB)\u001b[0m\n",
      "\u001b[31mRequirement already satisfied, skipping upgrade: six in /usr/local/lib/python3.5/dist-packages (from nltk->-r requirements.txt (line 3)) (1.11.0)\u001b[0m\n",
      "\u001b[31mCollecting soupsieve>=1.2 (from beautifulsoup4->-r requirements.txt (line 4))\n",
      "  Downloading https://files.pythonhosted.org/packages/5d/42/d821581cf568e9b7dfc5b415aa61952b0f5e3dede4f3cbd650e3a1082992/soupsieve-1.9.4-py2.py3-none-any.whl\u001b[0m\n",
      "\u001b[31mCollecting webencodings (from html5lib->-r requirements.txt (line 5))\n",
      "  Downloading https://files.pythonhosted.org/packages/f4/24/2a3e3df732393fed8b3ebf2ec078f05546de641fe1b667ee316ec1dcf3b7/webencodings-0.5.1-py2.py3-none-any.whl\u001b[0m\n",
      "\u001b[31mBuilding wheels for collected packages: nltk, train\n",
      "  Running setup.py bdist_wheel for nltk: started\u001b[0m\n",
      "\u001b[31m  Running setup.py bdist_wheel for nltk: finished with status 'done'\n",
      "  Stored in directory: /root/.cache/pip/wheels/96/86/f6/68ab24c23f207c0077381a5e3904b2815136b879538a24b483\n",
      "  Running setup.py bdist_wheel for train: started\n",
      "  Running setup.py bdist_wheel for train: finished with status 'done'\n",
      "  Stored in directory: /tmp/pip-ephem-wheel-cache-91s7wmki/wheels/35/24/16/37574d11bf9bde50616c67372a334f94fa8356bc7164af8ca3\u001b[0m\n",
      "\u001b[31mSuccessfully built nltk train\u001b[0m\n",
      "\u001b[31mInstalling collected packages: numpy, pytz, pandas, nltk, soupsieve, beautifulsoup4, webencodings, html5lib, train\n",
      "  Found existing installation: numpy 1.15.4\n",
      "    Uninstalling numpy-1.15.4:\n",
      "      Successfully uninstalled numpy-1.15.4\u001b[0m\n",
      "\n",
      "2019-10-27 10:23:19 Training - Training image download completed. Training in progress.\u001b[31mSuccessfully installed beautifulsoup4-4.8.1 html5lib-1.0.1 nltk-3.4.5 numpy-1.17.3 pandas-0.24.2 pytz-2019.3 soupsieve-1.9.4 train-1.0.0 webencodings-0.5.1\u001b[0m\n",
      "\u001b[31mYou are using pip version 18.1, however version 19.3.1 is available.\u001b[0m\n",
      "\u001b[31mYou should consider upgrading via the 'pip install --upgrade pip' command.\u001b[0m\n",
      "\u001b[31m2019-10-27 10:23:32,527 sagemaker-containers INFO     No GPUs detected (normal if no gpus installed)\u001b[0m\n",
      "\u001b[31m2019-10-27 10:23:32,542 sagemaker-containers INFO     Invoking user script\n",
      "\u001b[0m\n",
      "\u001b[31mTraining Env:\n",
      "\u001b[0m\n",
      "\u001b[31m{\n",
      "    \"input_dir\": \"/opt/ml/input\",\n",
      "    \"network_interface_name\": \"eth0\",\n",
      "    \"module_name\": \"train\",\n",
      "    \"output_data_dir\": \"/opt/ml/output/data\",\n",
      "    \"module_dir\": \"s3://sagemaker-eu-central-1-668160054588/sagemaker-pytorch-2019-10-27-10-20-40-419/source/sourcedir.tar.gz\",\n",
      "    \"hosts\": [\n",
      "        \"algo-1\"\n",
      "    ],\n",
      "    \"hyperparameters\": {\n",
      "        \"hidden_dim\": 200,\n",
      "        \"epochs\": 10\n",
      "    },\n",
      "    \"additional_framework_parameters\": {},\n",
      "    \"user_entry_point\": \"train.py\",\n",
      "    \"resource_config\": {\n",
      "        \"network_interface_name\": \"eth0\",\n",
      "        \"current_host\": \"algo-1\",\n",
      "        \"hosts\": [\n",
      "            \"algo-1\"\n",
      "        ]\n",
      "    },\n",
      "    \"framework_module\": \"sagemaker_pytorch_container.training:main\",\n",
      "    \"input_config_dir\": \"/opt/ml/input/config\",\n",
      "    \"input_data_config\": {\n",
      "        \"training\": {\n",
      "            \"S3DistributionType\": \"FullyReplicated\",\n",
      "            \"RecordWrapperType\": \"None\",\n",
      "            \"TrainingInputMode\": \"File\"\n",
      "        }\n",
      "    },\n",
      "    \"num_gpus\": 0,\n",
      "    \"model_dir\": \"/opt/ml/model\",\n",
      "    \"log_level\": 20,\n",
      "    \"channel_input_dirs\": {\n",
      "        \"training\": \"/opt/ml/input/data/training\"\n",
      "    },\n",
      "    \"job_name\": \"sagemaker-pytorch-2019-10-27-10-20-40-419\",\n",
      "    \"output_intermediate_dir\": \"/opt/ml/output/intermediate\",\n",
      "    \"num_cpus\": 4,\n",
      "    \"current_host\": \"algo-1\",\n",
      "    \"output_dir\": \"/opt/ml/output\"\u001b[0m\n",
      "\u001b[31m}\n",
      "\u001b[0m\n",
      "\u001b[31mEnvironment variables:\n",
      "\u001b[0m\n",
      "\u001b[31mSM_MODULE_NAME=train\u001b[0m\n",
      "\u001b[31mPYTHONPATH=/usr/local/bin:/usr/lib/python35.zip:/usr/lib/python3.5:/usr/lib/python3.5/plat-x86_64-linux-gnu:/usr/lib/python3.5/lib-dynload:/usr/local/lib/python3.5/dist-packages:/usr/lib/python3/dist-packages\u001b[0m\n",
      "\u001b[31mSM_HP_EPOCHS=10\u001b[0m\n",
      "\u001b[31mSM_CHANNEL_TRAINING=/opt/ml/input/data/training\u001b[0m\n",
      "\u001b[31mSM_HPS={\"epochs\":10,\"hidden_dim\":200}\u001b[0m\n",
      "\u001b[31mSM_OUTPUT_DATA_DIR=/opt/ml/output/data\u001b[0m\n",
      "\u001b[31mSM_USER_ARGS=[\"--epochs\",\"10\",\"--hidden_dim\",\"200\"]\u001b[0m\n",
      "\u001b[31mSM_NUM_GPUS=0\u001b[0m\n",
      "\u001b[31mSM_USER_ENTRY_POINT=train.py\u001b[0m\n",
      "\u001b[31mSM_TRAINING_ENV={\"additional_framework_parameters\":{},\"channel_input_dirs\":{\"training\":\"/opt/ml/input/data/training\"},\"current_host\":\"algo-1\",\"framework_module\":\"sagemaker_pytorch_container.training:main\",\"hosts\":[\"algo-1\"],\"hyperparameters\":{\"epochs\":10,\"hidden_dim\":200},\"input_config_dir\":\"/opt/ml/input/config\",\"input_data_config\":{\"training\":{\"RecordWrapperType\":\"None\",\"S3DistributionType\":\"FullyReplicated\",\"TrainingInputMode\":\"File\"}},\"input_dir\":\"/opt/ml/input\",\"job_name\":\"sagemaker-pytorch-2019-10-27-10-20-40-419\",\"log_level\":20,\"model_dir\":\"/opt/ml/model\",\"module_dir\":\"s3://sagemaker-eu-central-1-668160054588/sagemaker-pytorch-2019-10-27-10-20-40-419/source/sourcedir.tar.gz\",\"module_name\":\"train\",\"network_interface_name\":\"eth0\",\"num_cpus\":4,\"num_gpus\":0,\"output_data_dir\":\"/opt/ml/output/data\",\"output_dir\":\"/opt/ml/output\",\"output_intermediate_dir\":\"/opt/ml/output/intermediate\",\"resource_config\":{\"current_host\":\"algo-1\",\"hosts\":[\"algo-1\"],\"network_interface_name\":\"eth0\"},\"user_entry_point\":\"train.py\"}\u001b[0m\n",
      "\u001b[31mSM_OUTPUT_INTERMEDIATE_DIR=/opt/ml/output/intermediate\u001b[0m\n",
      "\u001b[31mSM_NETWORK_INTERFACE_NAME=eth0\u001b[0m\n",
      "\u001b[31mSM_HP_HIDDEN_DIM=200\u001b[0m\n",
      "\u001b[31mSM_CURRENT_HOST=algo-1\u001b[0m\n",
      "\u001b[31mSM_HOSTS=[\"algo-1\"]\u001b[0m\n",
      "\u001b[31mSM_INPUT_DATA_CONFIG={\"training\":{\"RecordWrapperType\":\"None\",\"S3DistributionType\":\"FullyReplicated\",\"TrainingInputMode\":\"File\"}}\u001b[0m\n",
      "\u001b[31mSM_CHANNELS=[\"training\"]\u001b[0m\n",
      "\u001b[31mSM_INPUT_DIR=/opt/ml/input\u001b[0m\n",
      "\u001b[31mSM_RESOURCE_CONFIG={\"current_host\":\"algo-1\",\"hosts\":[\"algo-1\"],\"network_interface_name\":\"eth0\"}\u001b[0m\n",
      "\u001b[31mSM_INPUT_CONFIG_DIR=/opt/ml/input/config\u001b[0m\n",
      "\u001b[31mSM_NUM_CPUS=4\u001b[0m\n",
      "\u001b[31mSM_FRAMEWORK_PARAMS={}\u001b[0m\n",
      "\u001b[31mSM_MODEL_DIR=/opt/ml/model\u001b[0m\n",
      "\u001b[31mSM_MODULE_DIR=s3://sagemaker-eu-central-1-668160054588/sagemaker-pytorch-2019-10-27-10-20-40-419/source/sourcedir.tar.gz\u001b[0m\n",
      "\u001b[31mSM_LOG_LEVEL=20\u001b[0m\n",
      "\u001b[31mSM_FRAMEWORK_MODULE=sagemaker_pytorch_container.training:main\u001b[0m\n",
      "\u001b[31mSM_OUTPUT_DIR=/opt/ml/output\n",
      "\u001b[0m\n",
      "\u001b[31mInvoking script with the following command:\n",
      "\u001b[0m\n",
      "\u001b[31m/usr/bin/python -m train --epochs 10 --hidden_dim 200\n",
      "\n",
      "\u001b[0m\n",
      "\u001b[31mUsing device cpu.\u001b[0m\n",
      "\u001b[31mGet train data loader.\u001b[0m\n",
      "\u001b[31mModel loaded with embedding_dim 32, hidden_dim 200, vocab_size 5000.\u001b[0m\n"
     ]
    },
    {
     "name": "stdout",
     "output_type": "stream",
     "text": [
      "\u001b[31mEpoch: 1, BCELoss: 0.6766291333704578\u001b[0m\n",
      "\u001b[31mEpoch: 2, BCELoss: 0.636741793885523\u001b[0m\n",
      "\u001b[31mEpoch: 3, BCELoss: 0.5427412165670978\u001b[0m\n",
      "\u001b[31mEpoch: 4, BCELoss: 0.45527393538124705\u001b[0m\n",
      "\u001b[31mEpoch: 5, BCELoss: 0.4041384300407098\u001b[0m\n",
      "\u001b[31mEpoch: 6, BCELoss: 0.370654645622993\u001b[0m\n",
      "\u001b[31mEpoch: 7, BCELoss: 0.36792052582818635\u001b[0m\n",
      "\u001b[31mEpoch: 8, BCELoss: 0.3852806614369762\u001b[0m\n",
      "\u001b[31mEpoch: 9, BCELoss: 0.31586569578063733\u001b[0m\n",
      "\n",
      "2019-10-27 12:04:54 Uploading - Uploading generated training model\u001b[31mEpoch: 10, BCELoss: 0.2845902455096342\u001b[0m\n",
      "\u001b[31m2019-10-27 12:04:50,557 sagemaker-containers INFO     Reporting training SUCCESS\u001b[0m\n",
      "\n",
      "2019-10-27 12:05:00 Completed - Training job completed\n",
      "Training seconds: 6146\n",
      "Billable seconds: 6146\n"
     ]
    }
   ],
   "source": [
    "estimator.fit({'training': input_data})"
   ]
  },
  {
   "cell_type": "markdown",
   "metadata": {},
   "source": [
    "## Step 5: Testing the model\n",
    "\n",
    "As mentioned at the top of this notebook, we will be testing this model by first deploying it and then sending the testing data to the deployed endpoint. We will do this so that we can make sure that the deployed model is working correctly.\n",
    "\n",
    "## Step 6: Deploy the model for testing\n",
    "\n",
    "Now that we have trained our model, we would like to test it to see how it performs. Currently our model takes input of the form `review_length, review[500]` where `review[500]` is a sequence of `500` integers which describe the words present in the review, encoded using `word_dict`. Fortunately for us, SageMaker provides built-in inference code for models with simple inputs such as this.\n",
    "\n",
    "There is one thing that we need to provide, however, and that is a function which loads the saved model. This function must be called `model_fn()` and takes as its only parameter a path to the directory where the model artifacts are stored. This function must also be present in the python file which we specified as the entry point. In our case the model loading function has been provided and so no changes need to be made.\n",
    "\n",
    "**NOTE**: When the built-in inference code is run it must import the `model_fn()` method from the `train.py` file. This is why the training code is wrapped in a main guard ( ie, `if __name__ == '__main__':` )\n",
    "\n",
    "Since we don't need to change anything in the code that was uploaded during training, we can simply deploy the current model as-is.\n",
    "\n",
    "**NOTE:** When deploying a model you are asking SageMaker to launch an compute instance that will wait for data to be sent to it. As a result, this compute instance will continue to run until *you* shut it down. This is important to know since the cost of a deployed endpoint depends on how long it has been running for.\n",
    "\n",
    "In other words **If you are no longer using a deployed endpoint, shut it down!**\n",
    "\n",
    "**TODO:** Deploy the trained model."
   ]
  },
  {
   "cell_type": "raw",
   "metadata": {},
   "source": [
    "import time\n",
    "from time import gmtime, strftime\n",
    "\n",
    "import sagemaker\n",
    "sagemaker_session = sagemaker.Session()"
   ]
  },
  {
   "cell_type": "code",
   "execution_count": 36,
   "metadata": {},
   "outputs": [
    {
     "name": "stdout",
     "output_type": "stream",
     "text": [
      "--------------------------------------------------------------------------------------------------!"
     ]
    }
   ],
   "source": [
    "# Deploy my estimator to a SageMaker Endpoint and get a Predictor\n",
    "# credit to https://sagemaker.readthedocs.io/en/stable/using_pytorch.html#deploy-pytorch-models\n",
    "predictor = estimator.deploy(instance_type='ml.m4.xlarge',\n",
    "                                     initial_instance_count=1)"
   ]
  },
  {
   "cell_type": "markdown",
   "metadata": {},
   "source": [
    "## Step 7 - Use the model for testing\n",
    "\n",
    "Once deployed, we can read in the test data and send it off to our deployed model to get some results. Once we collect all of the results we can determine how accurate our model is."
   ]
  },
  {
   "cell_type": "code",
   "execution_count": 37,
   "metadata": {},
   "outputs": [],
   "source": [
    "test_X = pd.concat([pd.DataFrame(test_X_len), pd.DataFrame(test_X)], axis=1)"
   ]
  },
  {
   "cell_type": "code",
   "execution_count": 38,
   "metadata": {},
   "outputs": [],
   "source": [
    "# We split the data into chunks and send each chunk seperately, accumulating the results.\n",
    "def predict(data, rows=512):\n",
    "    split_array = np.array_split(data, int(data.shape[0] / float(rows) + 1))\n",
    "    predictions = np.array([])\n",
    "    for array in split_array:\n",
    "        print(array)\n",
    "        print(len(array))\n",
    "        predictions = np.append(predictions, predictor.predict(array))\n",
    "        print(predictions)\n",
    "        print(len(predictions))\n",
    "    \n",
    "    return predictions"
   ]
  },
  {
   "cell_type": "code",
   "execution_count": 39,
   "metadata": {},
   "outputs": [
    {
     "name": "stdout",
     "output_type": "stream",
     "text": [
      "[[  65    4 1409 ...    0    0    0]\n",
      " [ 105    3  274 ...    0    0    0]\n",
      " [  62    7   72 ...    0    0    0]\n",
      " ...\n",
      " [  83  163  155 ...    0    0    0]\n",
      " [  70    1  222 ...    0    0    0]\n",
      " [ 285 2081  247 ...    0    0    0]]\n",
      "511\n",
      "[9.73783255e-01 4.19964343e-02 5.45988441e-01 7.51445256e-03\n",
      " 5.73958158e-02 8.68669212e-01 1.49273975e-02 1.49862915e-01\n",
      " 1.65516540e-01 1.95047390e-02 1.95441972e-02 6.33523613e-02\n",
      " 1.86112329e-01 9.34550762e-01 9.82722104e-01 2.83954889e-01\n",
      " 1.48226276e-01 3.15623581e-02 9.85297501e-01 9.17220712e-01\n",
      " 1.21650016e-02 3.17207798e-02 5.35171479e-02 3.08536708e-01\n",
      " 1.61381930e-01 5.80705442e-02 8.39888394e-01 2.62966957e-02\n",
      " 6.76223636e-01 2.48503946e-02 4.51573692e-02 9.98756409e-01\n",
      " 8.04756045e-01 9.29472983e-01 1.51778325e-01 2.01547146e-02\n",
      " 7.96994507e-01 6.81564435e-02 2.37089340e-02 9.03108954e-01\n",
      " 9.44599986e-01 4.80659157e-01 4.98511702e-01 5.07385969e-01\n",
      " 7.53073215e-01 5.01310050e-01 7.03006834e-02 3.87852564e-02\n",
      " 9.75216568e-01 1.07719980e-01 2.52224170e-02 2.71652751e-02\n",
      " 5.15283763e-01 5.05769178e-02 7.14844018e-02 9.79385734e-01\n",
      " 6.15819871e-01 8.94078165e-02 6.93512559e-01 9.73161697e-01\n",
      " 6.75424421e-03 9.28267658e-01 9.30905700e-01 9.85015631e-02\n",
      " 9.69639361e-01 3.65500063e-01 9.68802512e-01 7.34273374e-01\n",
      " 9.94659007e-01 8.88167143e-01 9.55700278e-02 3.70395579e-03\n",
      " 4.23228145e-01 9.36156273e-01 1.05521895e-01 3.89144979e-02\n",
      " 9.39136326e-01 1.48281753e-01 1.40213817e-01 8.60666573e-01\n",
      " 8.16480219e-02 9.98681843e-01 9.10502613e-01 9.04916465e-01\n",
      " 3.23018827e-03 9.81652319e-01 5.14398441e-02 9.95560884e-01\n",
      " 2.80826688e-01 9.26472068e-01 3.05013675e-02 4.06079320e-03\n",
      " 9.90753531e-01 1.45501599e-01 3.58227462e-01 1.60774272e-02\n",
      " 9.87533092e-01 5.68336725e-01 1.34969810e-02 6.65407658e-01\n",
      " 9.64967787e-01 2.39509400e-02 1.93488196e-01 5.80705583e-01\n",
      " 8.49147618e-01 4.85226542e-01 9.15273279e-03 1.64955836e-02\n",
      " 4.08156872e-01 8.63610685e-01 8.18816841e-01 4.54277880e-02\n",
      " 9.22456503e-01 9.67665374e-01 9.72191989e-01 9.63199973e-01\n",
      " 1.75394323e-02 3.04320790e-02 9.63667393e-01 9.12195861e-01\n",
      " 9.15032208e-01 9.63413596e-01 7.35388100e-02 9.20642912e-01\n",
      " 6.74311118e-03 8.64044249e-01 9.27171171e-01 8.37077141e-01\n",
      " 7.40587786e-02 7.95834780e-01 5.00479341e-01 1.81417931e-02\n",
      " 9.74677563e-01 8.25729296e-02 2.45854422e-01 9.74937141e-01\n",
      " 6.43061241e-03 4.98652607e-02 9.99389768e-01 3.29514518e-02\n",
      " 8.31238270e-01 1.03817254e-01 3.27961892e-01 9.66284990e-01\n",
      " 4.16267896e-03 3.54201021e-03 9.75972856e-04 3.13188811e-03\n",
      " 9.86297131e-01 3.59361976e-01 9.62677717e-01 8.93927157e-01\n",
      " 9.83816206e-01 2.77615428e-01 2.37664744e-01 9.83336627e-01\n",
      " 3.34111422e-01 2.51060158e-01 9.44460213e-01 7.20709205e-01\n",
      " 9.96866882e-01 9.45620477e-01 1.42620608e-01 1.65546581e-01\n",
      " 1.10761389e-01 9.41042721e-01 3.40393037e-02 3.42963003e-02\n",
      " 1.28226196e-02 7.78182372e-02 2.66295392e-02 2.50354558e-01\n",
      " 4.70568329e-01 9.23767984e-01 3.28604542e-02 9.87526059e-01\n",
      " 1.56236827e-01 5.63946605e-01 8.12144503e-02 8.27119648e-01\n",
      " 2.90790051e-01 7.06815064e-01 5.27327619e-02 9.26652908e-01\n",
      " 9.96989846e-01 5.14325261e-01 2.34840382e-02 4.72510099e-01\n",
      " 1.97887912e-01 9.52302933e-01 6.43935800e-01 3.03826891e-02\n",
      " 3.57857436e-01 5.65201163e-01 8.88309836e-01 8.87352467e-01\n",
      " 5.36386609e-01 1.15403496e-02 6.61682114e-02 9.45453271e-02\n",
      " 9.99510527e-01 9.63089108e-01 9.18951750e-01 8.03559721e-01\n",
      " 1.22170886e-02 9.52031553e-01 3.37147526e-02 9.88357127e-01\n",
      " 1.49696827e-01 9.82743621e-01 8.27879250e-01 2.51023442e-01\n",
      " 3.08201015e-01 6.05926802e-03 9.62068617e-01 9.65852678e-01\n",
      " 3.70665491e-02 9.62149918e-01 1.83206186e-01 2.25909725e-01\n",
      " 9.78538811e-01 3.22293907e-01 9.69015777e-01 2.38883179e-02\n",
      " 9.30217147e-01 1.48746997e-01 7.00244233e-02 1.80191875e-01\n",
      " 8.24957415e-02 9.25712194e-03 9.53422010e-01 5.03687635e-02\n",
      " 9.49739575e-01 8.26729298e-01 3.38572145e-01 9.36703324e-01\n",
      " 8.29786621e-03 4.22162384e-01 5.76359868e-01 3.14651310e-01\n",
      " 8.39001656e-01 6.26780558e-03 1.57715660e-02 6.48051918e-01\n",
      " 9.57929075e-01 8.56653333e-01 4.04349640e-02 6.59351200e-02\n",
      " 9.76141334e-01 9.61239040e-01 1.55509822e-02 3.54209691e-02\n",
      " 5.40258646e-01 2.05050642e-03 9.64122236e-01 4.78254296e-02\n",
      " 9.65301156e-01 1.52969286e-01 9.71471593e-02 1.08764134e-01\n",
      " 3.05707723e-01 1.43710850e-02 4.81603742e-02 9.41760361e-01\n",
      " 9.37782586e-01 6.18432313e-02 3.45410295e-02 3.51794422e-01\n",
      " 9.33799863e-01 1.26871439e-02 3.83934900e-02 9.97130454e-01\n",
      " 9.68968213e-01 8.22881520e-01 2.59746872e-02 6.32526278e-01\n",
      " 4.85929772e-02 7.58429527e-01 1.87687248e-01 1.25659674e-01\n",
      " 9.47128892e-01 8.74183774e-01 9.61105764e-01 9.80218872e-04\n",
      " 9.63934720e-01 9.36352909e-01 8.75490010e-01 1.90014094e-01\n",
      " 3.89221236e-02 7.96236455e-01 2.61949729e-02 8.33479166e-02\n",
      " 1.52871579e-01 8.03654492e-01 9.45739806e-01 3.41089994e-01\n",
      " 9.29132938e-01 7.89738894e-01 3.14323157e-02 9.52149868e-01\n",
      " 4.26848739e-01 3.30570310e-01 9.95347440e-01 9.95214820e-01\n",
      " 1.45876467e-01 3.05181053e-02 1.05929546e-01 2.55903453e-01\n",
      " 3.10170650e-01 8.76915529e-02 9.96855855e-01 5.66437542e-01\n",
      " 9.44199443e-01 9.99371707e-01 2.98493534e-01 1.44695252e-01\n",
      " 9.10478711e-01 1.54584453e-01 2.93744206e-02 3.14946584e-02\n",
      " 9.20959473e-01 9.81596291e-01 8.70354593e-01 1.78827252e-02\n",
      " 8.68590236e-01 5.69987185e-02 4.38776225e-01 9.69683170e-01\n",
      " 3.56891798e-03 9.87675905e-01 4.47068632e-01 2.04553559e-01\n",
      " 1.28247691e-02 7.39202023e-01 4.74716723e-02 8.26458633e-01\n",
      " 8.32546800e-02 5.16726114e-02 1.02007173e-01 1.18882760e-01\n",
      " 6.30636871e-01 9.24922347e-01 1.14176601e-01 1.06475465e-01\n",
      " 7.90817756e-03 9.48154926e-01 2.61465479e-02 9.62393522e-01\n",
      " 3.78770858e-01 2.25018468e-02 6.03358805e-01 1.35298381e-02\n",
      " 9.71070290e-01 9.93224919e-01 9.42746997e-01 2.54242942e-02\n",
      " 9.68867302e-01 9.84609246e-01 8.25877368e-01 2.79338304e-02\n",
      " 9.42396522e-01 9.32732165e-01 4.66868490e-01 2.76214015e-02\n",
      " 9.19312596e-01 6.56025037e-02 5.34551777e-02 3.65014791e-01\n",
      " 9.17187035e-01 8.26199472e-01 2.13440374e-01 1.97226852e-01\n",
      " 8.31207931e-01 4.98134717e-02 1.11057088e-02 7.65393913e-01\n",
      " 9.29095864e-01 6.65550679e-02 2.29895994e-01 8.68838001e-03\n",
      " 9.20034051e-01 5.99222779e-01 1.14486394e-02 1.01324255e-02\n",
      " 1.30437296e-02 2.36602966e-02 9.44332540e-01 9.57070470e-01\n",
      " 9.71637368e-01 1.01635322e-01 9.81960654e-01 9.40282941e-02\n",
      " 1.04869334e-02 3.85873944e-01 8.24002147e-01 9.54683125e-01\n",
      " 2.25460947e-01 5.92568815e-01 4.72804159e-03 7.86439598e-01\n",
      " 5.30384481e-01 3.41877043e-01 6.71800151e-02 6.44533157e-01\n",
      " 7.79278517e-01 1.94450140e-01 7.68347830e-02 3.60139608e-02\n",
      " 7.68111646e-01 2.27053747e-01 6.63631484e-02 4.53943312e-02\n",
      " 4.92973067e-03 9.83208954e-01 9.55797434e-01 9.11834657e-01\n",
      " 8.61801147e-01 2.02463171e-03 8.07982922e-01 8.24971080e-01\n",
      " 2.08477229e-02 9.20174837e-01 9.76013541e-01 1.00889385e-01\n",
      " 6.55822873e-01 6.12379909e-01 8.32653701e-01 8.90413404e-01\n",
      " 9.09140930e-02 1.66056335e-01 9.74911690e-01 1.04928426e-01\n",
      " 1.11303404e-01 7.60825202e-02 9.99302030e-01 3.20641667e-01\n",
      " 7.57180760e-03 9.93639886e-01 2.23015919e-01 9.64133441e-01\n",
      " 1.99227687e-02 5.70522211e-02 3.25972401e-02 9.27144945e-01\n",
      " 5.03887013e-02 1.68922264e-02 1.17596053e-01 3.20380218e-02\n",
      " 1.32415175e-01 8.42227936e-01 2.61341892e-02 5.84651530e-01\n",
      " 8.25265944e-01 3.44525166e-02 3.12552461e-03 2.29880169e-01\n",
      " 6.35163337e-02 1.47588346e-02 9.13836300e-01 9.42111611e-02\n",
      " 2.79105846e-02 5.98815918e-01 4.47138250e-02 9.34147060e-01\n",
      " 1.38102889e-01 7.81040788e-01 9.29324687e-01 7.39279715e-03\n",
      " 1.20927338e-02 7.73473382e-02 4.89642173e-02 6.27902627e-01\n",
      " 9.68064845e-01 6.48477972e-02 9.44413900e-01 8.63321841e-01\n",
      " 5.16615748e-01 6.08360916e-02 2.16398463e-02 3.01564693e-01\n",
      " 6.78775609e-01 9.01353061e-01 1.40139148e-01 4.72425491e-01\n",
      " 2.60765463e-01 5.29326359e-03 2.71806270e-02 4.21845801e-02\n",
      " 9.60810542e-01 1.61129329e-02 8.81904244e-01 7.12983191e-01\n",
      " 1.33238748e-01 2.91138917e-01 8.42623293e-01 5.71064591e-01\n",
      " 2.73202896e-01 7.30553687e-01 9.33677316e-01 5.84318936e-02\n",
      " 9.65004981e-01 6.68597162e-01 2.42538124e-01 1.19689524e-01\n",
      " 9.01795983e-01 4.37106371e-01 4.30219620e-01 5.58215797e-01\n",
      " 2.17227880e-02 9.70029235e-01 9.83888626e-01]\n",
      "511\n",
      "[[  52 1575 3983 ...    0    0    0]\n",
      " [  56   12    4 ...    0    0    0]\n",
      " [ 252    3    1 ...    0    0    0]\n",
      " ...\n",
      " [  70  317  299 ...    0    0    0]\n",
      " [  49   53 3173 ...    0    0    0]\n",
      " [  54  126 1853 ...    0    0    0]]\n",
      "511\n"
     ]
    },
    {
     "name": "stdout",
     "output_type": "stream",
     "text": [
      "[0.97378325 0.04199643 0.54598844 ... 0.01179177 0.95707387 0.94248027]\n",
      "1022\n",
      "[[104  84   2 ...   0   0   0]\n",
      " [119 229 165 ...   0   0   0]\n",
      " [ 58   1   1 ...   0   0   0]\n",
      " ...\n",
      " [ 56 184   3 ...   0   0   0]\n",
      " [ 82 726   1 ...   0   0   0]\n",
      " [ 75 121 734 ...   0   0   0]]\n",
      "511\n",
      "[0.97378325 0.04199643 0.54598844 ... 0.11569902 0.16084938 0.0072902 ]\n",
      "1533\n",
      "[[  52 2315    1 ...    0    0    0]\n",
      " [ 174   53 1682 ...    0    0    0]\n",
      " [ 100  135    3 ...    0    0    0]\n",
      " ...\n",
      " [  61    4  494 ...    0    0    0]\n",
      " [  81   29    1 ...    0    0    0]\n",
      " [  70  174    3 ...    0    0    0]]\n",
      "511\n",
      "[0.97378325 0.04199643 0.54598844 ... 0.16580461 0.05537699 0.05177267]\n",
      "2044\n",
      "[[  88  806  108 ...    0    0    0]\n",
      " [ 337 4873   44 ...    0    0    0]\n",
      " [ 112   12    2 ...    0    0    0]\n",
      " ...\n",
      " [  63  817  295 ...    0    0    0]\n",
      " [ 101  756  206 ...    0    0    0]\n",
      " [  73  731  693 ...    0    0    0]]\n",
      "511\n",
      "[0.97378325 0.04199643 0.54598844 ... 0.05011384 0.94528753 0.01654799]\n",
      "2555\n",
      "[[  80 1191  508 ...    0    0    0]\n",
      " [ 417 3826 1595 ...    0    0    0]\n",
      " [  74   51  683 ...    0    0    0]\n",
      " ...\n",
      " [  85  688   10 ...    0    0    0]\n",
      " [  73  304   29 ...    0    0    0]\n",
      " [ 121  494   94 ...    0    0    0]]\n",
      "511\n",
      "[0.97378325 0.04199643 0.54598844 ... 0.65469301 0.99079281 0.01320761]\n",
      "3066\n",
      "[[  60 3485   37 ...    0    0    0]\n",
      " [ 223 2032 3496 ...    0    0    0]\n",
      " [  81  135    3 ...    0    0    0]\n",
      " ...\n",
      " [ 215  347   75 ...    0    0    0]\n",
      " [  95   17  157 ...    0    0    0]\n",
      " [  71  387 1458 ...    0    0    0]]\n",
      "511\n",
      "[0.97378325 0.04199643 0.54598844 ... 0.27937394 0.04508416 0.99543387]\n",
      "3577\n",
      "[[  69   99    1 ...    0    0    0]\n",
      " [ 306   28    6 ...    0    0    0]\n",
      " [ 157    1  250 ...    0    0    0]\n",
      " ...\n",
      " [ 134  546   19 ...    0    0    0]\n",
      " [ 161  314 1764 ...    0    0    0]\n",
      " [  93   12    1 ...    0    0    0]]\n",
      "511\n",
      "[0.97378325 0.04199643 0.54598844 ... 0.00717916 0.96619242 0.99757189]\n",
      "4088\n",
      "[[ 132  814   61 ...    0    0    0]\n",
      " [ 160  564    2 ...    0    0    0]\n",
      " [ 180    4  205 ...    0    0    0]\n",
      " ...\n",
      " [ 142    4    1 ...    0    0    0]\n",
      " [ 407 2807 3123 ...    0    0    0]\n",
      " [ 247   38  541 ...    0    0    0]]\n",
      "511\n",
      "[0.97378325 0.04199643 0.54598844 ... 0.04416662 0.05230559 0.0105902 ]\n",
      "4599\n",
      "[[  80   29   20 ...    0    0    0]\n",
      " [  70   10  294 ...    0    0    0]\n",
      " [  72   12    1 ...    0    0    0]\n",
      " ...\n",
      " [ 340 1481    3 ...    0    0    0]\n",
      " [  77  284  174 ...    0    0    0]\n",
      " [  55  651   42 ...    0    0    0]]\n",
      "511\n",
      "[0.97378325 0.04199643 0.54598844 ... 0.92216313 0.06089485 0.14913876]\n",
      "5110\n",
      "[[  59  300    2 ...    0    0    0]\n",
      " [ 239  948  197 ...    0    0    0]\n",
      " [  60    1 3321 ...    0    0    0]\n",
      " ...\n",
      " [  53 1035  204 ...    0    0    0]\n",
      " [ 113    5   46 ...    0    0    0]\n",
      " [  78    2   41 ...    0    0    0]]\n",
      "510\n",
      "[0.97378325 0.04199643 0.54598844 ... 0.48308033 0.94086558 0.27930748]\n",
      "5620\n",
      "[[  62   53  166 ...    0    0    0]\n",
      " [  92   14   74 ...    0    0    0]\n",
      " [  74  738 3924 ...    0    0    0]\n",
      " ...\n",
      " [ 202  876  329 ...    0    0    0]\n",
      " [  82  290  195 ...    0    0    0]\n",
      " [  65    1 3990 ...    0    0    0]]\n",
      "510\n",
      "[0.97378325 0.04199643 0.54598844 ... 0.86341029 0.82715106 0.70010263]\n",
      "6130\n",
      "[[  72   16   77 ...    0    0    0]\n",
      " [ 145    1  214 ...    0    0    0]\n",
      " [  67  476  129 ...    0    0    0]\n",
      " ...\n",
      " [  82   28  165 ...    0    0    0]\n",
      " [ 416 2240  545 ...    0    0    0]\n",
      " [  64    4    2 ...    0    0    0]]\n",
      "510\n",
      "[0.97378325 0.04199643 0.54598844 ... 0.86312205 0.05966527 0.52859247]\n",
      "6640\n",
      "[[ 124 3518   28 ...    0    0    0]\n",
      " [  56  317  299 ...    0    0    0]\n",
      " [  91  174    2 ...    0    0    0]\n",
      " ...\n",
      " [ 160    1 4140 ...    0    0    0]\n",
      " [ 168   63    1 ...    0    0    0]\n",
      " [  50 2159  706 ...    0    0    0]]\n",
      "510\n",
      "[0.97378325 0.04199643 0.54598844 ... 0.73726791 0.1768373  0.91220975]\n",
      "7150\n",
      "[[ 225 4375    2 ...    0    0    0]\n",
      " [  70  494 2756 ...    0    0    0]\n",
      " [  76    2   24 ...    0    0    0]\n",
      " ...\n",
      " [ 136 1326 1239 ...    0    0    0]\n",
      " [  70   12  136 ...    0    0    0]\n",
      " [  77  394 1042 ...    0    0    0]]\n",
      "510\n",
      "[0.97378325 0.04199643 0.54598844 ... 0.09834433 0.92456859 0.93355411]\n",
      "7660\n",
      "[[  45  144    2 ...    0    0    0]\n",
      " [  42    2  853 ...    0    0    0]\n",
      " [ 216  979 4472 ...    0    0    0]\n",
      " ...\n",
      " [  96  691  205 ...    0    0    0]\n",
      " [ 145   39  141 ...    0    0    0]\n",
      " [ 146   13   40 ...    0    0    0]]\n",
      "510\n",
      "[0.97378325 0.04199643 0.54598844 ... 0.46827158 0.0040563  0.99910033]\n",
      "8170\n",
      "[[198 116 573 ...   0   0   0]\n",
      " [ 47  51 171 ...   0   0   0]\n",
      " [ 72  26   2 ...   0   0   0]\n",
      " ...\n",
      " [ 67 327 167 ...   0   0   0]\n",
      " [ 59  28 234 ...   0   0   0]\n",
      " [245   1 374 ...   0   0   0]]\n",
      "510\n",
      "[0.97378325 0.04199643 0.54598844 ... 0.06824752 0.95790392 0.02722864]\n",
      "8680\n",
      "[[ 193   30    2 ...    0    0    0]\n",
      " [  95  355   15 ...    0    0    0]\n",
      " [  72  387  116 ...    0    0    0]\n",
      " ...\n",
      " [ 130 3884   82 ...    0    0    0]\n",
      " [ 117  640 4375 ...    0    0    0]\n",
      " [  61    4    6 ...    0    0    0]]\n",
      "510\n",
      "[0.97378325 0.04199643 0.54598844 ... 0.05846978 0.94166249 0.99057138]\n",
      "9190\n",
      "[[ 106    5   85 ...    0    0    0]\n",
      " [ 256  562 1717 ...    0    0    0]\n",
      " [ 307 3891 2872 ...    0    0    0]\n",
      " ...\n",
      " [ 244 2942  573 ...    0    0    0]\n",
      " [  87 1191   28 ...    0    0    0]\n",
      " [  36   29    2 ...    0    0    0]]\n",
      "510\n",
      "[0.97378325 0.04199643 0.54598844 ... 0.03670386 0.0277007  0.77035916]\n",
      "9700\n",
      "[[  41   26   13 ...    0    0    0]\n",
      " [  82    4   53 ...    0    0    0]\n",
      " [ 493 2370    1 ...    0    0    0]\n",
      " ...\n",
      " [  30   12    3 ...    0    0    0]\n",
      " [ 165  103    6 ...    0    0    0]\n",
      " [ 129   28   12 ...    0    0    0]]\n",
      "510\n",
      "[0.97378325 0.04199643 0.54598844 ... 0.06848883 0.00627852 0.27746212]\n",
      "10210\n",
      "[[  76  222   73 ...    0    0    0]\n",
      " [  74  334   40 ...    0    0    0]\n",
      " [  87  258   29 ...    0    0    0]\n",
      " ...\n",
      " [ 441  259  416 ...    0    0    0]\n",
      " [ 142 1237 1072 ...    0    0    0]\n",
      " [  68  883   28 ...    0    0    0]]\n",
      "510\n",
      "[0.97378325 0.04199643 0.54598844 ... 0.47287908 0.92808145 0.02394876]\n",
      "10720\n",
      "[[ 96  16  16 ...   0   0   0]\n",
      " [ 60  29 168 ...   0   0   0]\n",
      " [ 58  15   5 ...   0   0   0]\n",
      " ...\n",
      " [237 216  73 ...   0   0   0]\n",
      " [145  90 309 ...   0   0   0]\n",
      " [ 85 822 359 ...   0   0   0]]\n",
      "510\n",
      "[0.97378325 0.04199643 0.54598844 ... 0.66370606 0.28509748 0.44283757]\n",
      "11230\n",
      "[[  88  559  505 ...    0    0    0]\n",
      " [ 105  541    1 ...    0    0    0]\n",
      " [  66    1 4057 ...    0    0    0]\n",
      " ...\n",
      " [ 105  165   38 ...    0    0    0]\n",
      " [  51  130  761 ...    0    0    0]\n",
      " [  54  159   19 ...    0    0    0]]\n",
      "510\n",
      "[0.97378325 0.04199643 0.54598844 ... 0.95284021 0.68139768 0.01698958]\n",
      "11740\n",
      "[[  33    6  395 ...    0    0    0]\n",
      " [ 187   47  388 ...    0    0    0]\n",
      " [  71  165  670 ...    0    0    0]\n",
      " ...\n",
      " [  76 1340  763 ...    0    0    0]\n",
      " [  75    4   38 ...    0    0    0]\n",
      " [ 123   13 1313 ...    0    0    0]]\n",
      "510\n",
      "[0.97378325 0.04199643 0.54598844 ... 0.01000154 0.98177928 0.88972485]\n",
      "12250\n",
      "[[ 132  477  107 ...    0    0    0]\n",
      " [  49    2   36 ...    0    0    0]\n",
      " [  96  376  244 ...    0    0    0]\n",
      " ...\n",
      " [ 126  307  773 ...    0    0    0]\n",
      " [  49 1668    3 ...    0    0    0]\n",
      " [  87 1358    1 ...    0    0    0]]\n",
      "510\n",
      "[0.97378325 0.04199643 0.54598844 ... 0.06366503 0.93994647 0.91387606]\n",
      "12760\n",
      "[[  42  474  529 ...    0    0    0]\n",
      " [  20  385   84 ...    0    0    0]\n",
      " [  90 2330 1121 ...    0    0    0]\n",
      " ...\n",
      " [ 120    3    7 ...    0    0    0]\n",
      " [  90  157    3 ...    0    0    0]\n",
      " [ 195  353  123 ...    0    0    0]]\n",
      "510\n",
      "[0.97378325 0.04199643 0.54598844 ... 0.14696959 0.03819916 0.19554769]\n",
      "13270\n",
      "[[  73  750 1713 ...    0    0    0]\n",
      " [ 142 2081    2 ...    0    0    0]\n",
      " [ 108  443    2 ...    0    0    0]\n",
      " ...\n",
      " [ 109 2100 1031 ...    0    0    0]\n",
      " [ 282    1    1 ...    0    0    0]\n",
      " [ 156  165   10 ...    0    0    0]]\n",
      "510\n",
      "[0.97378325 0.04199643 0.54598844 ... 0.93421352 0.17616418 0.03663956]\n",
      "13780\n",
      "[[ 144   24    2 ...    0    0    0]\n",
      " [ 153  630    1 ...    0    0    0]\n",
      " [ 146    2  560 ...    0    0    0]\n",
      " ...\n",
      " [ 242  508    1 ...    0    0    0]\n",
      " [  88   42 2824 ...    0    0    0]\n",
      " [  63  222   40 ...    0    0    0]]\n",
      "510\n",
      "[0.97378325 0.04199643 0.54598844 ... 0.94001341 0.94839972 0.88247901]\n",
      "14290\n",
      "[[  98  390   11 ...    0    0    0]\n",
      " [  72    7   35 ...    0    0    0]\n",
      " [  28  425  425 ...    0    0    0]\n",
      " ...\n",
      " [  81  135    2 ...    0    0    0]\n",
      " [  50 1591  287 ...    0    0    0]\n",
      " [  70    4   23 ...    0    0    0]]\n",
      "510\n"
     ]
    },
    {
     "name": "stdout",
     "output_type": "stream",
     "text": [
      "[0.97378325 0.04199643 0.54598844 ... 0.9164871  0.01696644 0.27167565]\n",
      "14800\n",
      "[[  31    2    4 ...    0    0    0]\n",
      " [ 285  393 2750 ...    0    0    0]\n",
      " [  58   40 4360 ...    0    0    0]\n",
      " ...\n",
      " [ 109   39  816 ...    0    0    0]\n",
      " [  86  179 1668 ...    0    0    0]\n",
      " [  52    3 2250 ...    0    0    0]]\n",
      "510\n",
      "[0.97378325 0.04199643 0.54598844 ... 0.25354305 0.03410771 0.28459704]\n",
      "15310\n",
      "[[ 123    1 1067 ...    0    0    0]\n",
      " [ 112  287  505 ...    0    0    0]\n",
      " [  62    3   16 ...    0    0    0]\n",
      " ...\n",
      " [  84 2175  379 ...    0    0    0]\n",
      " [  74    4  288 ...    0    0    0]\n",
      " [ 104  712    1 ...    0    0    0]]\n",
      "510\n",
      "[0.97378325 0.04199643 0.54598844 ... 0.98085463 0.01728934 0.93170834]\n",
      "15820\n",
      "[[  83   37  507 ...    0    0    0]\n",
      " [  64 1063 1112 ...    0    0    0]\n",
      " [  75   79  466 ...    0    0    0]\n",
      " ...\n",
      " [ 128    2    1 ...    0    0    0]\n",
      " [ 360 1609    1 ...    0    0    0]\n",
      " [  67  549 1722 ...    0    0    0]]\n",
      "510\n",
      "[0.97378325 0.04199643 0.54598844 ... 0.02277317 0.14803097 0.92139655]\n",
      "16330\n",
      "[[ 411 1854   19 ...    0    0    0]\n",
      " [  73  411  507 ...    0    0    0]\n",
      " [ 245   53   35 ...    0    0    0]\n",
      " ...\n",
      " [ 203 1166   57 ...    0    0    0]\n",
      " [  74    4    2 ...    0    0    0]\n",
      " [  89 3226  844 ...    0    0    0]]\n",
      "510\n",
      "[0.97378325 0.04199643 0.54598844 ... 0.23919487 0.1887814  0.78972042]\n",
      "16840\n",
      "[[ 165  738   57 ...    0    0    0]\n",
      " [  26  727 1145 ...    0    0    0]\n",
      " [  77  391  566 ...    0    0    0]\n",
      " ...\n",
      " [ 111   64   91 ...    0    0    0]\n",
      " [  54 2134  821 ...    0    0    0]\n",
      " [ 227   78  602 ...    0    0    0]]\n",
      "510\n",
      "[0.97378325 0.04199643 0.54598844 ... 0.9201985  0.88170725 0.01713534]\n",
      "17350\n",
      "[[  33  135    2 ...    0    0    0]\n",
      " [  22   47  407 ...    0    0    0]\n",
      " [ 118  215  181 ...    0    0    0]\n",
      " ...\n",
      " [  71  251    1 ...    0    0    0]\n",
      " [  65 1154  197 ...    0    0    0]\n",
      " [  56  414   76 ...    0    0    0]]\n",
      "510\n",
      "[0.97378325 0.04199643 0.54598844 ... 0.97256202 0.00288822 0.02056166]\n",
      "17860\n",
      "[[  84   80 3084 ...    0    0    0]\n",
      " [  99    1  212 ...    0    0    0]\n",
      " [ 112    3  111 ...    0    0    0]\n",
      " ...\n",
      " [  41  544 1126 ...    0    0    0]\n",
      " [  79 1505   19 ...    0    0    0]\n",
      " [ 167    7  297 ...    0    0    0]]\n",
      "510\n",
      "[0.97378325 0.04199643 0.54598844 ... 0.32099205 0.13426146 0.38401887]\n",
      "18370\n",
      "[[ 149  275    5 ...    0    0    0]\n",
      " [  29 1096    3 ...    0    0    0]\n",
      " [  38   49  261 ...    0    0    0]\n",
      " ...\n",
      " [  62  137  205 ...    0    0    0]\n",
      " [ 427   65    2 ...    0    0    0]\n",
      " [ 109  546  696 ...    0    0    0]]\n",
      "510\n",
      "[0.97378325 0.04199643 0.54598844 ... 0.08986601 0.34900144 0.92485195]\n",
      "18880\n",
      "[[ 122   72  521 ...    0    0    0]\n",
      " [  66  207 1350 ...    0    0    0]\n",
      " [  44  243   29 ...    0    0    0]\n",
      " ...\n",
      " [ 159 4174   16 ...    0    0    0]\n",
      " [  45   11  325 ...    0    0    0]\n",
      " [ 227   35    1 ...    0    0    0]]\n",
      "510\n",
      "[0.97378325 0.04199643 0.54598844 ... 0.09207052 0.07277726 0.98701859]\n",
      "19390\n",
      "[[  73  390 1551 ...    0    0    0]\n",
      " [ 145    2  521 ...    0    0    0]\n",
      " [ 211    1  723 ...    0    0    0]\n",
      " ...\n",
      " [ 163  116  123 ...    0    0    0]\n",
      " [   9  428  174 ...    0    0    0]\n",
      " [  63   28  165 ...    0    0    0]]\n",
      "510\n",
      "[0.97378325 0.04199643 0.54598844 ... 0.87202388 0.05196896 0.95807964]\n",
      "19900\n",
      "[[  48  243  254 ...    0    0    0]\n",
      " [  53   29 1347 ...    0    0    0]\n",
      " [  76   17  857 ...    0    0    0]\n",
      " ...\n",
      " [  94   78  191 ...    0    0    0]\n",
      " [  94  804    1 ...    0    0    0]\n",
      " [ 189  606   87 ...    0    0    0]]\n",
      "510\n",
      "[0.97378325 0.04199643 0.54598844 ... 0.82275325 0.08350445 0.01804241]\n",
      "20410\n",
      "[[ 100  761  755 ...    0    0    0]\n",
      " [ 155 1563  194 ...    0    0    0]\n",
      " [ 329   28   38 ...    0    0    0]\n",
      " ...\n",
      " [ 168 1240   53 ...    0    0    0]\n",
      " [ 377  683  696 ...    0    0    0]\n",
      " [ 101   88 1281 ...    0    0    0]]\n",
      "510\n",
      "[0.97378325 0.04199643 0.54598844 ... 0.85196787 0.15537523 0.99660575]\n",
      "20920\n",
      "[[ 278   78   71 ...    0    0    0]\n",
      " [  65    4  395 ...    0    0    0]\n",
      " [  72    3  133 ...    0    0    0]\n",
      " ...\n",
      " [ 155 1858 2535 ...    0    0    0]\n",
      " [ 109  254  171 ...    0    0    0]\n",
      " [  83    5 4754 ...    0    0    0]]\n",
      "510\n",
      "[0.97378325 0.04199643 0.54598844 ... 0.71182472 0.32830903 0.54234809]\n",
      "21430\n",
      "[[ 110    2  311 ...    0    0    0]\n",
      " [ 110  696    2 ...    0    0    0]\n",
      " [ 107    1  212 ...    0    0    0]\n",
      " ...\n",
      " [  64    4    1 ...    0    0    0]\n",
      " [  22    2  651 ...    0    0    0]\n",
      " [  88    3 1664 ...    0    0    0]]\n",
      "510\n",
      "[0.97378325 0.04199643 0.54598844 ... 0.11344562 0.05161932 0.64878458]\n",
      "21940\n",
      "[[  90    2  285 ...    0    0    0]\n",
      " [  68   30    2 ...    0    0    0]\n",
      " [ 124    2  488 ...    0    0    0]\n",
      " ...\n",
      " [ 125  151    1 ...    0    0    0]\n",
      " [  87 1847    1 ...    0    0    0]\n",
      " [ 282    4   15 ...    0    0    0]]\n",
      "510\n",
      "[0.97378325 0.04199643 0.54598844 ... 0.17269661 0.01320454 0.10250093]\n",
      "22450\n",
      "[[  37 1376   11 ...    0    0    0]\n",
      " [  84   47 2481 ...    0    0    0]\n",
      " [ 169  979    2 ...    0    0    0]\n",
      " ...\n",
      " [  65    2 2326 ...    0    0    0]\n",
      " [  65   20   26 ...    0    0    0]\n",
      " [ 145  136 1239 ...    0    0    0]]\n",
      "510\n",
      "[0.97378325 0.04199643 0.54598844 ... 0.96545547 0.9963665  0.68290627]\n",
      "22960\n",
      "[[  55   21 1038 ...    0    0    0]\n",
      " [ 122 2378   25 ...    0    0    0]\n",
      " [ 111    4   53 ...    0    0    0]\n",
      " ...\n",
      " [  33    2  356 ...    0    0    0]\n",
      " [  67  108  532 ...    0    0    0]\n",
      " [ 153   28   37 ...    0    0    0]]\n",
      "510\n",
      "[0.97378325 0.04199643 0.54598844 ... 0.92789185 0.98577476 0.25320223]\n",
      "23470\n",
      "[[ 146   39 1765 ...    0    0    0]\n",
      " [ 289  180  329 ...    0    0    0]\n",
      " [ 463  172  185 ...    0    0    0]\n",
      " ...\n",
      " [  99    7    2 ...    0    0    0]\n",
      " [ 164 3200 1204 ...    0    0    0]\n",
      " [ 465  236  734 ...    0    0    0]]\n",
      "510\n",
      "[0.97378325 0.04199643 0.54598844 ... 0.11200799 0.99803823 0.99760568]\n",
      "23980\n",
      "[[  28   16    4 ...    0    0    0]\n",
      " [  62  259 1841 ...    0    0    0]\n",
      " [  54  181   47 ...    0    0    0]\n",
      " ...\n",
      " [ 231  147    3 ...    0    0    0]\n",
      " [  95   29    1 ...    0    0    0]\n",
      " [ 183  779  284 ...    0    0    0]]\n",
      "510\n",
      "[0.97378325 0.04199643 0.54598844 ... 0.57598162 0.94517505 0.61990279]\n",
      "24490\n",
      "[[ 184  332    4 ...    0    0    0]\n",
      " [  39   28  135 ...    0    0    0]\n",
      " [ 168   28  285 ...    0    0    0]\n",
      " ...\n",
      " [  57   15    5 ...    0    0    0]\n",
      " [  58  107    1 ...    0    0    0]\n",
      " [ 156 1369    3 ...    0    0    0]]\n",
      "510\n",
      "[0.97378325 0.04199643 0.54598844 ... 0.53982711 0.82319969 0.32769608]\n",
      "25000\n"
     ]
    }
   ],
   "source": [
    "predictions = predict(test_X.values)\n",
    "predictions = [round(num) for num in predictions]"
   ]
  },
  {
   "cell_type": "code",
   "execution_count": 40,
   "metadata": {},
   "outputs": [
    {
     "data": {
      "text/plain": [
       "0.84784"
      ]
     },
     "execution_count": 40,
     "metadata": {},
     "output_type": "execute_result"
    }
   ],
   "source": [
    "from sklearn.metrics import accuracy_score\n",
    "accuracy_score(test_y, predictions)"
   ]
  },
  {
   "cell_type": "markdown",
   "metadata": {},
   "source": [
    "Explore a single input:"
   ]
  },
  {
   "cell_type": "code",
   "execution_count": 41,
   "metadata": {
    "scrolled": true
   },
   "outputs": [
    {
     "data": {
      "text/html": [
       "<div>\n",
       "<style scoped>\n",
       "    .dataframe tbody tr th:only-of-type {\n",
       "        vertical-align: middle;\n",
       "    }\n",
       "\n",
       "    .dataframe tbody tr th {\n",
       "        vertical-align: top;\n",
       "    }\n",
       "\n",
       "    .dataframe thead th {\n",
       "        text-align: right;\n",
       "    }\n",
       "</style>\n",
       "<table border=\"1\" class=\"dataframe\">\n",
       "  <thead>\n",
       "    <tr style=\"text-align: right;\">\n",
       "      <th></th>\n",
       "      <th>0</th>\n",
       "      <th>0</th>\n",
       "      <th>1</th>\n",
       "      <th>2</th>\n",
       "      <th>3</th>\n",
       "      <th>4</th>\n",
       "      <th>5</th>\n",
       "      <th>6</th>\n",
       "      <th>7</th>\n",
       "      <th>8</th>\n",
       "      <th>...</th>\n",
       "      <th>490</th>\n",
       "      <th>491</th>\n",
       "      <th>492</th>\n",
       "      <th>493</th>\n",
       "      <th>494</th>\n",
       "      <th>495</th>\n",
       "      <th>496</th>\n",
       "      <th>497</th>\n",
       "      <th>498</th>\n",
       "      <th>499</th>\n",
       "    </tr>\n",
       "  </thead>\n",
       "  <tbody>\n",
       "    <tr>\n",
       "      <th>0</th>\n",
       "      <td>65</td>\n",
       "      <td>4</td>\n",
       "      <td>1409</td>\n",
       "      <td>2</td>\n",
       "      <td>56</td>\n",
       "      <td>34</td>\n",
       "      <td>10</td>\n",
       "      <td>278</td>\n",
       "      <td>84</td>\n",
       "      <td>347</td>\n",
       "      <td>...</td>\n",
       "      <td>0</td>\n",
       "      <td>0</td>\n",
       "      <td>0</td>\n",
       "      <td>0</td>\n",
       "      <td>0</td>\n",
       "      <td>0</td>\n",
       "      <td>0</td>\n",
       "      <td>0</td>\n",
       "      <td>0</td>\n",
       "      <td>0</td>\n",
       "    </tr>\n",
       "  </tbody>\n",
       "</table>\n",
       "<p>1 rows × 501 columns</p>\n",
       "</div>"
      ],
      "text/plain": [
       "   0    0     1    2    3    4    5    6    7    8    ...  490  491  492  493  \\\n",
       "0   65    4  1409    2   56   34   10  278   84  347  ...    0    0    0    0   \n",
       "\n",
       "   494  495  496  497  498  499  \n",
       "0    0    0    0    0    0    0  \n",
       "\n",
       "[1 rows x 501 columns]"
      ]
     },
     "execution_count": 41,
     "metadata": {},
     "output_type": "execute_result"
    }
   ],
   "source": [
    "test_X.head(1)"
   ]
  },
  {
   "cell_type": "code",
   "execution_count": 42,
   "metadata": {},
   "outputs": [
    {
     "data": {
      "text/plain": [
       "array(0.97378325, dtype=float32)"
      ]
     },
     "execution_count": 42,
     "metadata": {},
     "output_type": "execute_result"
    }
   ],
   "source": [
    "predictor.predict(test_X.head(1))"
   ]
  },
  {
   "cell_type": "code",
   "execution_count": 43,
   "metadata": {},
   "outputs": [
    {
     "data": {
      "text/plain": [
       "0.0"
      ]
     },
     "execution_count": 43,
     "metadata": {},
     "output_type": "execute_result"
    }
   ],
   "source": [
    "predictions[1]"
   ]
  },
  {
   "cell_type": "markdown",
   "metadata": {},
   "source": [
    "**Question:** How does this model compare to the XGBoost model you created earlier? Why might these two models perform differently on this dataset? Which do *you* think is better for sentiment analysis?"
   ]
  },
  {
   "cell_type": "markdown",
   "metadata": {},
   "source": [
    "**Answer:**\n",
    "\n",
    "In terms of accuracy on the test set, the performance of the XGBoost and RNN are comparable (around 0.86).\n",
    "\n",
    "The choice of a model among other things depends on the volume of training data. With 25.000 reviews the RNN performs well, however, with larger use of resources for training (and possible future retraining). Over time the number of reviews will be growing, so the neural networks might show greater accuracy (conditioned on attaining labels). \n",
    "\n",
    "The sequential nature of the data does not seem to be critical for sentiment analysis, therefore, the fact that XGBoost does not take sequential nature into account is irrelevant.\n"
   ]
  },
  {
   "cell_type": "markdown",
   "metadata": {},
   "source": [
    "### (TODO) More testing\n",
    "\n",
    "We now have a trained model which has been deployed and which we can send processed reviews to and which returns the predicted sentiment. However, ultimately we would like to be able to send our model an unprocessed review. That is, we would like to send the review itself as a string. For example, suppose we wish to send the following review to our model."
   ]
  },
  {
   "cell_type": "code",
   "execution_count": 44,
   "metadata": {},
   "outputs": [],
   "source": [
    "test_review = 'The simplest pleasures in life are the best, and this film is one of them. Combining a rather basic storyline of love and adventure this movie transcends the usual weekend fair with wit and unmitigated charm.'"
   ]
  },
  {
   "cell_type": "markdown",
   "metadata": {},
   "source": [
    "The question we now need to answer is, how do we send this review to our model?\n",
    "\n",
    "Recall in the first section of this notebook we did a bunch of data processing to the IMDb dataset. In particular, we did two specific things to the provided reviews.\n",
    " - Removed any html tags and stemmed the input\n",
    " - Encoded the review as a sequence of integers using `word_dict`\n",
    " \n",
    "In order process the review we will need to repeat these two steps.\n",
    "\n",
    "**TODO**: Using the `review_to_words` and `convert_and_pad` methods from section one, convert `test_review` into a numpy array `test_data` suitable to send to our model. Remember that our model expects input of the form `review_length, review[500]`."
   ]
  },
  {
   "cell_type": "raw",
   "metadata": {},
   "source": [
    "#load dictionary if it is not available in memory\n",
    "import pickle\n",
    "import numpy as np\n",
    "data_dir = '../data/pytorch'\n",
    "with open(os.path.join(data_dir, 'word_dict.pkl'), 'rb') as f:\n",
    "    word_dict = pickle.load(f)"
   ]
  },
  {
   "cell_type": "code",
   "execution_count": 45,
   "metadata": {},
   "outputs": [],
   "source": [
    "# TODO: Convert test_review into a form usable by the model and save the results in test_data\n",
    "words = review_to_words(test_review)\n",
    "review_data, review_len = convert_and_pad(word_dict, list(words))\n",
    "# credit to list merge https://thispointer.com/python-how-to-merge-two-or-more-lists/\n",
    "# credit to reshape function https://docs.scipy.org/doc/numpy/reference/generated/numpy.reshape.html\n",
    "test_data = np.array([review_len] + review_data).reshape((1, 501))"
   ]
  },
  {
   "cell_type": "markdown",
   "metadata": {},
   "source": [
    "Now that we have processed the review, we can send the resulting array to our model to predict the sentiment of the review."
   ]
  },
  {
   "cell_type": "code",
   "execution_count": 46,
   "metadata": {},
   "outputs": [
    {
     "data": {
      "text/plain": [
       "array(0.8249108, dtype=float32)"
      ]
     },
     "execution_count": 46,
     "metadata": {},
     "output_type": "execute_result"
    }
   ],
   "source": [
    "predictor.predict(test_data)"
   ]
  },
  {
   "cell_type": "markdown",
   "metadata": {},
   "source": [
    "Since the return value of our model is close to `1`, we can be certain that the review we submitted is positive."
   ]
  },
  {
   "cell_type": "markdown",
   "metadata": {},
   "source": [
    "### Delete the endpoint\n",
    "\n",
    "Of course, just like in the XGBoost notebook, once we've deployed an endpoint it continues to run until we tell it to shut down. Since we are done using our endpoint for now, we can delete it."
   ]
  },
  {
   "cell_type": "code",
   "execution_count": 47,
   "metadata": {},
   "outputs": [],
   "source": [
    "estimator.delete_endpoint()"
   ]
  },
  {
   "cell_type": "markdown",
   "metadata": {},
   "source": [
    "## Step 6 (again) - Deploy the model for the web app\n",
    "\n",
    "Now that we know that our model is working, it's time to create some custom inference code so that we can send the model a review which has not been processed and have it determine the sentiment of the review.\n",
    "\n",
    "As we saw above, by default the estimator which we created, when deployed, will use the entry script and directory which we provided when creating the model. However, since we now wish to accept a string as input and our model expects a processed review, we need to write some custom inference code.\n",
    "\n",
    "We will store the code that we write in the `serve` directory. Provided in this directory is the `model.py` file that we used to construct our model, a `utils.py` file which contains the `review_to_words` and `convert_and_pad` pre-processing functions which we used during the initial data processing, and `predict.py`, the file which will contain our custom inference code. Note also that `requirements.txt` is present which will tell SageMaker what Python libraries are required by our custom inference code.\n",
    "\n",
    "When deploying a PyTorch model in SageMaker, you are expected to provide four functions which the SageMaker inference container will use.\n",
    " - `model_fn`: This function is the same function that we used in the training script and it tells SageMaker how to load our model.\n",
    " - `input_fn`: This function receives the raw serialized input that has been sent to the model's endpoint and its job is to de-serialize and make the input available for the inference code.\n",
    " - `output_fn`: This function takes the output of the inference code and its job is to serialize this output and return it to the caller of the model's endpoint.\n",
    " - `predict_fn`: The heart of the inference script, this is where the actual prediction is done and is the function which you will need to complete.\n",
    "\n",
    "For the simple website that we are constructing during this project, the `input_fn` and `output_fn` methods are relatively straightforward. We only require being able to accept a string as input and we expect to return a single value as output. You might imagine though that in a more complex application the input or output may be image data or some other binary data which would require some effort to serialize.\n",
    "\n",
    "### (TODO) Writing inference code\n",
    "\n",
    "Before writing our custom inference code, we will begin by taking a look at the code which has been provided."
   ]
  },
  {
   "cell_type": "code",
   "execution_count": 56,
   "metadata": {},
   "outputs": [
    {
     "name": "stdout",
     "output_type": "stream",
     "text": [
      "\u001b[34mimport\u001b[39;49;00m \u001b[04m\u001b[36margparse\u001b[39;49;00m\r\n",
      "\u001b[34mimport\u001b[39;49;00m \u001b[04m\u001b[36mjson\u001b[39;49;00m\r\n",
      "\u001b[34mimport\u001b[39;49;00m \u001b[04m\u001b[36mos\u001b[39;49;00m\r\n",
      "\u001b[34mimport\u001b[39;49;00m \u001b[04m\u001b[36mpickle\u001b[39;49;00m\r\n",
      "\u001b[34mimport\u001b[39;49;00m \u001b[04m\u001b[36msys\u001b[39;49;00m\r\n",
      "\u001b[34mimport\u001b[39;49;00m \u001b[04m\u001b[36msagemaker_containers\u001b[39;49;00m\r\n",
      "\u001b[34mimport\u001b[39;49;00m \u001b[04m\u001b[36mpandas\u001b[39;49;00m \u001b[34mas\u001b[39;49;00m \u001b[04m\u001b[36mpd\u001b[39;49;00m\r\n",
      "\u001b[34mimport\u001b[39;49;00m \u001b[04m\u001b[36mnumpy\u001b[39;49;00m \u001b[34mas\u001b[39;49;00m \u001b[04m\u001b[36mnp\u001b[39;49;00m\r\n",
      "\u001b[34mimport\u001b[39;49;00m \u001b[04m\u001b[36mtorch\u001b[39;49;00m\r\n",
      "\u001b[34mimport\u001b[39;49;00m \u001b[04m\u001b[36mtorch.nn\u001b[39;49;00m \u001b[34mas\u001b[39;49;00m \u001b[04m\u001b[36mnn\u001b[39;49;00m\r\n",
      "\u001b[34mimport\u001b[39;49;00m \u001b[04m\u001b[36mtorch.optim\u001b[39;49;00m \u001b[34mas\u001b[39;49;00m \u001b[04m\u001b[36moptim\u001b[39;49;00m\r\n",
      "\u001b[34mimport\u001b[39;49;00m \u001b[04m\u001b[36mtorch.utils.data\u001b[39;49;00m\r\n",
      "\r\n",
      "\u001b[34mfrom\u001b[39;49;00m \u001b[04m\u001b[36mmodel\u001b[39;49;00m \u001b[34mimport\u001b[39;49;00m LSTMClassifier\r\n",
      "\r\n",
      "\u001b[34mfrom\u001b[39;49;00m \u001b[04m\u001b[36mutils\u001b[39;49;00m \u001b[34mimport\u001b[39;49;00m review_to_words, convert_and_pad\r\n",
      "\r\n",
      "\u001b[34mdef\u001b[39;49;00m \u001b[32mmodel_fn\u001b[39;49;00m(model_dir):\r\n",
      "    \u001b[33m\"\"\"Load the PyTorch model from the `model_dir` directory.\"\"\"\u001b[39;49;00m\r\n",
      "    \u001b[34mprint\u001b[39;49;00m(\u001b[33m\"\u001b[39;49;00m\u001b[33mLoading model.\u001b[39;49;00m\u001b[33m\"\u001b[39;49;00m)\r\n",
      "\r\n",
      "    \u001b[37m# First, load the parameters used to create the model.\u001b[39;49;00m\r\n",
      "    model_info = {}\r\n",
      "    model_info_path = os.path.join(model_dir, \u001b[33m'\u001b[39;49;00m\u001b[33mmodel_info.pth\u001b[39;49;00m\u001b[33m'\u001b[39;49;00m)\r\n",
      "    \u001b[34mwith\u001b[39;49;00m \u001b[36mopen\u001b[39;49;00m(model_info_path, \u001b[33m'\u001b[39;49;00m\u001b[33mrb\u001b[39;49;00m\u001b[33m'\u001b[39;49;00m) \u001b[34mas\u001b[39;49;00m f:\r\n",
      "        model_info = torch.load(f)\r\n",
      "\r\n",
      "    \u001b[34mprint\u001b[39;49;00m(\u001b[33m\"\u001b[39;49;00m\u001b[33mmodel_info: {}\u001b[39;49;00m\u001b[33m\"\u001b[39;49;00m.format(model_info))\r\n",
      "\r\n",
      "    \u001b[37m# Determine the device and construct the model.\u001b[39;49;00m\r\n",
      "    device = torch.device(\u001b[33m\"\u001b[39;49;00m\u001b[33mcuda\u001b[39;49;00m\u001b[33m\"\u001b[39;49;00m \u001b[34mif\u001b[39;49;00m torch.cuda.is_available() \u001b[34melse\u001b[39;49;00m \u001b[33m\"\u001b[39;49;00m\u001b[33mcpu\u001b[39;49;00m\u001b[33m\"\u001b[39;49;00m)\r\n",
      "    model = LSTMClassifier(model_info[\u001b[33m'\u001b[39;49;00m\u001b[33membedding_dim\u001b[39;49;00m\u001b[33m'\u001b[39;49;00m], model_info[\u001b[33m'\u001b[39;49;00m\u001b[33mhidden_dim\u001b[39;49;00m\u001b[33m'\u001b[39;49;00m], model_info[\u001b[33m'\u001b[39;49;00m\u001b[33mvocab_size\u001b[39;49;00m\u001b[33m'\u001b[39;49;00m])\r\n",
      "\r\n",
      "    \u001b[37m# Load the store model parameters.\u001b[39;49;00m\r\n",
      "    model_path = os.path.join(model_dir, \u001b[33m'\u001b[39;49;00m\u001b[33mmodel.pth\u001b[39;49;00m\u001b[33m'\u001b[39;49;00m)\r\n",
      "    \u001b[34mwith\u001b[39;49;00m \u001b[36mopen\u001b[39;49;00m(model_path, \u001b[33m'\u001b[39;49;00m\u001b[33mrb\u001b[39;49;00m\u001b[33m'\u001b[39;49;00m) \u001b[34mas\u001b[39;49;00m f:\r\n",
      "        model.load_state_dict(torch.load(f))\r\n",
      "\r\n",
      "    \u001b[37m# Load the saved word_dict.\u001b[39;49;00m\r\n",
      "    word_dict_path = os.path.join(model_dir, \u001b[33m'\u001b[39;49;00m\u001b[33mword_dict.pkl\u001b[39;49;00m\u001b[33m'\u001b[39;49;00m)\r\n",
      "    \u001b[34mwith\u001b[39;49;00m \u001b[36mopen\u001b[39;49;00m(word_dict_path, \u001b[33m'\u001b[39;49;00m\u001b[33mrb\u001b[39;49;00m\u001b[33m'\u001b[39;49;00m) \u001b[34mas\u001b[39;49;00m f:\r\n",
      "        model.word_dict = pickle.load(f)\r\n",
      "\r\n",
      "    model.to(device).eval()\r\n",
      "\r\n",
      "    \u001b[34mprint\u001b[39;49;00m(\u001b[33m\"\u001b[39;49;00m\u001b[33mDone loading model.\u001b[39;49;00m\u001b[33m\"\u001b[39;49;00m)\r\n",
      "    \u001b[34mreturn\u001b[39;49;00m model\r\n",
      "\r\n",
      "\u001b[34mdef\u001b[39;49;00m \u001b[32minput_fn\u001b[39;49;00m(serialized_input_data, content_type):\r\n",
      "    \u001b[34mprint\u001b[39;49;00m(\u001b[33m'\u001b[39;49;00m\u001b[33mDeserializing the input data.\u001b[39;49;00m\u001b[33m'\u001b[39;49;00m)\r\n",
      "    \u001b[34mif\u001b[39;49;00m content_type == \u001b[33m'\u001b[39;49;00m\u001b[33mtext/plain\u001b[39;49;00m\u001b[33m'\u001b[39;49;00m:\r\n",
      "        data = serialized_input_data.decode(\u001b[33m'\u001b[39;49;00m\u001b[33mutf-8\u001b[39;49;00m\u001b[33m'\u001b[39;49;00m)\r\n",
      "        \u001b[34mreturn\u001b[39;49;00m data\r\n",
      "    \u001b[34mraise\u001b[39;49;00m \u001b[36mException\u001b[39;49;00m(\u001b[33m'\u001b[39;49;00m\u001b[33mRequested unsupported ContentType in content_type: \u001b[39;49;00m\u001b[33m'\u001b[39;49;00m + content_type)\r\n",
      "\r\n",
      "\u001b[34mdef\u001b[39;49;00m \u001b[32moutput_fn\u001b[39;49;00m(prediction_output, accept):\r\n",
      "    \u001b[34mprint\u001b[39;49;00m(\u001b[33m'\u001b[39;49;00m\u001b[33mSerializing the generated output.\u001b[39;49;00m\u001b[33m'\u001b[39;49;00m)\r\n",
      "    \u001b[34mreturn\u001b[39;49;00m \u001b[36mstr\u001b[39;49;00m(prediction_output)\r\n",
      "\r\n",
      "\u001b[34mdef\u001b[39;49;00m \u001b[32mpredict_fn\u001b[39;49;00m(input_data, model):\r\n",
      "    \u001b[34mprint\u001b[39;49;00m(\u001b[33m'\u001b[39;49;00m\u001b[33mInferring sentiment of input data.\u001b[39;49;00m\u001b[33m'\u001b[39;49;00m)\r\n",
      "\r\n",
      "    device = torch.device(\u001b[33m\"\u001b[39;49;00m\u001b[33mcuda\u001b[39;49;00m\u001b[33m\"\u001b[39;49;00m \u001b[34mif\u001b[39;49;00m torch.cuda.is_available() \u001b[34melse\u001b[39;49;00m \u001b[33m\"\u001b[39;49;00m\u001b[33mcpu\u001b[39;49;00m\u001b[33m\"\u001b[39;49;00m)\r\n",
      "    \r\n",
      "    \u001b[34mif\u001b[39;49;00m model.word_dict \u001b[35mis\u001b[39;49;00m \u001b[36mNone\u001b[39;49;00m:\r\n",
      "        \u001b[34mraise\u001b[39;49;00m \u001b[36mException\u001b[39;49;00m(\u001b[33m'\u001b[39;49;00m\u001b[33mModel has not been loaded properly, no word_dict.\u001b[39;49;00m\u001b[33m'\u001b[39;49;00m)\r\n",
      "    \r\n",
      "    \u001b[37m# TODO: Process input_data so that it is ready to be sent to our model.\u001b[39;49;00m\r\n",
      "    \u001b[37m#       You should produce two variables:\u001b[39;49;00m\r\n",
      "    \u001b[37m#         data_X   - A sequence of length 500 which represents the converted review\u001b[39;49;00m\r\n",
      "    \u001b[37m#         data_len - The length of the review\u001b[39;49;00m\r\n",
      "    \r\n",
      "    words = review_to_words(input_data)\r\n",
      "    data_X, data_len = convert_and_pad(model.word_dict, words)\r\n",
      "\r\n",
      "    \u001b[37m# Using data_X and data_len we construct an appropriate input tensor. Remember\u001b[39;49;00m\r\n",
      "    \u001b[37m# that our model expects input data of the form 'len, review[500]'.\u001b[39;49;00m\r\n",
      "    data_pack = np.hstack((data_len, data_X))\r\n",
      "    data_pack = data_pack.reshape(\u001b[34m1\u001b[39;49;00m, -\u001b[34m1\u001b[39;49;00m)\r\n",
      "    \r\n",
      "    data = torch.from_numpy(data_pack)\r\n",
      "    data = data.to(device)\r\n",
      "\r\n",
      "    \u001b[37m# Make sure to put the model into evaluation mode\u001b[39;49;00m\r\n",
      "    model.eval()\r\n",
      "\r\n",
      "    \u001b[37m# TODO: Compute the result of applying the model to the input data. The variable `result` should\u001b[39;49;00m\r\n",
      "    \u001b[37m#       be a numpy array which contains a single integer which is either 1 or 0\u001b[39;49;00m\r\n",
      "    \u001b[37m# ideas from https://github.com/AAnoosheh/MNIST_test/blob/master/test.py\u001b[39;49;00m\r\n",
      "    \u001b[37m# solution with detach() taken from CloudWatch logs\u001b[39;49;00m\r\n",
      "    \u001b[37m# solution with numpy() found in https://stackoverflow.com/questions/34097281/how-can-i-convert-a-tensor-into-a-numpy-array-in-tensorflow \u001b[39;49;00m\r\n",
      "    \u001b[34mwith\u001b[39;49;00m torch.no_grad():\r\n",
      "        output = model.forward(data).round().detach().numpy()\r\n",
      "        \r\n",
      "    result = \u001b[36mint\u001b[39;49;00m(\u001b[36mfloat\u001b[39;49;00m(output))   \r\n",
      "\r\n",
      "    \u001b[34mreturn\u001b[39;49;00m result\r\n"
     ]
    }
   ],
   "source": [
    "!pygmentize serve/predict.py"
   ]
  },
  {
   "cell_type": "markdown",
   "metadata": {},
   "source": [
    "As mentioned earlier, the `model_fn` method is the same as the one provided in the training code and the `input_fn` and `output_fn` methods are very simple and your task will be to complete the `predict_fn` method. Make sure that you save the completed file as `predict.py` in the `serve` directory.\n",
    "\n",
    "**TODO**: Complete the `predict_fn()` method in the `serve/predict.py` file."
   ]
  },
  {
   "cell_type": "markdown",
   "metadata": {},
   "source": [
    "### Deploying the model\n",
    "\n",
    "Now that the custom inference code has been written, we will create and deploy our model. To begin with, we need to construct a new PyTorchModel object which points to the model artifacts created during training and also points to the inference code that we wish to use. Then we can call the deploy method to launch the deployment container.\n",
    "\n",
    "**NOTE**: The default behaviour for a deployed PyTorch model is to assume that any input passed to the predictor is a `numpy` array. In our case we want to send a string so we need to construct a simple wrapper around the `RealTimePredictor` class to accomodate simple strings. In a more complicated situation you may want to provide a serialization object, for example if you wanted to sent image data."
   ]
  },
  {
   "cell_type": "markdown",
   "metadata": {},
   "source": [
    "Use the version with `model_data=estimator.model_data` below if the estimator object is still available in memory. Otherwise, the session can be initialized again and the model data loaded from S3."
   ]
  },
  {
   "cell_type": "raw",
   "metadata": {},
   "source": [
    "#this cell can be activated if the deployment is done not together with training\n",
    "import os\n",
    "import sagemaker\n",
    "\n",
    "sagemaker_session = sagemaker.Session()\n",
    "role = sagemaker.get_execution_role()\n",
    "\n",
    "import pickle\n",
    "import numpy as np\n",
    "data_dir = '../data/pytorch'\n",
    "with open(os.path.join(data_dir, 'word_dict.pkl'), 'rb') as f:\n",
    "    word_dict = pickle.load(f)"
   ]
  },
  {
   "cell_type": "raw",
   "metadata": {},
   "source": [
    "from sagemaker.predictor import RealTimePredictor\n",
    "from sagemaker.pytorch import PyTorchModel\n",
    "\n",
    "class StringPredictor(RealTimePredictor):\n",
    "    def __init__(self, endpoint_name, sagemaker_session):\n",
    "        super(StringPredictor, self).__init__(endpoint_name, sagemaker_session, content_type='text/plain')\n",
    "\n",
    "model = PyTorchModel(model_data='s3://sagemaker-eu-central-1-668160054588/sagemaker-pytorch-2019-10-25-06-01-00-694/output/model.tar.gz',\n",
    "                     role = role,\n",
    "                     framework_version='0.4.0',\n",
    "                     entry_point='predict.py',\n",
    "                     source_dir='serve',\n",
    "                     predictor_cls=StringPredictor)\n",
    "predictor = model.deploy(initial_instance_count=1, instance_type='ml.m4.xlarge')"
   ]
  },
  {
   "cell_type": "code",
   "execution_count": 49,
   "metadata": {},
   "outputs": [
    {
     "name": "stdout",
     "output_type": "stream",
     "text": [
      "-------------------------------------------------------------------------------------------!"
     ]
    }
   ],
   "source": [
    "from sagemaker.predictor import RealTimePredictor\n",
    "from sagemaker.pytorch import PyTorchModel\n",
    "\n",
    "class StringPredictor(RealTimePredictor):\n",
    "    def __init__(self, endpoint_name, sagemaker_session):\n",
    "        super(StringPredictor, self).__init__(endpoint_name, sagemaker_session, content_type='text/plain')\n",
    "\n",
    "model = PyTorchModel(model_data=estimator.model_data,\n",
    "                     role = role,\n",
    "                     framework_version='0.4.0',\n",
    "                     entry_point='predict.py',\n",
    "                     source_dir='serve',\n",
    "                     predictor_cls=StringPredictor)\n",
    "predictor = model.deploy(initial_instance_count=1, instance_type='ml.m4.xlarge')"
   ]
  },
  {
   "cell_type": "markdown",
   "metadata": {},
   "source": [
    "### Testing the model\n",
    "\n",
    "Now that we have deployed our model with the custom inference code, we should test to see if everything is working. Here we test our model by loading the first `250` positive and negative reviews and send them to the endpoint, then collect the results. The reason for only sending some of the data is that the amount of time it takes for our model to process the input and then perform inference is quite long and so testing the entire data set would be prohibitive."
   ]
  },
  {
   "cell_type": "code",
   "execution_count": 50,
   "metadata": {},
   "outputs": [],
   "source": [
    "import glob\n",
    "\n",
    "def test_reviews(data_dir='../data/aclImdb', stop=250):\n",
    "    \n",
    "    results = []\n",
    "    ground = []\n",
    "    \n",
    "    # We make sure to test both positive and negative reviews    \n",
    "    for sentiment in ['pos', 'neg']:\n",
    "        \n",
    "        path = os.path.join(data_dir, 'test', sentiment, '*.txt')\n",
    "        files = glob.glob(path)\n",
    "        \n",
    "        files_read = 0\n",
    "        \n",
    "        print('Starting ', sentiment, ' files')\n",
    "        \n",
    "        # Iterate through the files and send them to the predictor\n",
    "        for f in files:\n",
    "            with open(f) as review:\n",
    "                # First, we store the ground truth (was the review positive or negative)\n",
    "                if sentiment == 'pos':\n",
    "                    ground.append(1)\n",
    "                else:\n",
    "                    ground.append(0)\n",
    "                # Read in the review and convert to 'utf-8' for transmission via HTTP\n",
    "                review_input = review.read().encode('utf-8')\n",
    "                # Send the review to the predictor and store the results\n",
    "                results.append(int(predictor.predict(review_input)))\n",
    "                \n",
    "            # Sending reviews to our endpoint one at a time takes a while so we\n",
    "            # only send a small number of reviews\n",
    "            files_read += 1\n",
    "            if files_read == stop:\n",
    "                break\n",
    "            \n",
    "    return ground, results"
   ]
  },
  {
   "cell_type": "code",
   "execution_count": 51,
   "metadata": {},
   "outputs": [
    {
     "name": "stdout",
     "output_type": "stream",
     "text": [
      "Starting  pos  files\n",
      "Starting  neg  files\n"
     ]
    }
   ],
   "source": [
    "ground, results = test_reviews()"
   ]
  },
  {
   "cell_type": "code",
   "execution_count": 52,
   "metadata": {},
   "outputs": [
    {
     "data": {
      "text/plain": [
       "0.872"
      ]
     },
     "execution_count": 52,
     "metadata": {},
     "output_type": "execute_result"
    }
   ],
   "source": [
    "from sklearn.metrics import accuracy_score\n",
    "accuracy_score(ground, results)"
   ]
  },
  {
   "cell_type": "markdown",
   "metadata": {},
   "source": [
    "As an additional test, we can try sending the `test_review` that we looked at earlier."
   ]
  },
  {
   "cell_type": "code",
   "execution_count": 53,
   "metadata": {},
   "outputs": [
    {
     "data": {
      "text/plain": [
       "b'1'"
      ]
     },
     "execution_count": 53,
     "metadata": {},
     "output_type": "execute_result"
    }
   ],
   "source": [
    "predictor.predict(test_review)"
   ]
  },
  {
   "cell_type": "markdown",
   "metadata": {},
   "source": [
    "Now that we know our endpoint is working as expected, we can set up the web page that will interact with it. If you don't have time to finish the project now, make sure to skip down to the end of this notebook and shut down your endpoint. You can deploy it again when you come back."
   ]
  },
  {
   "cell_type": "markdown",
   "metadata": {},
   "source": [
    "## Step 7 (again): Use the model for the web app\n",
    "\n",
    "> **TODO:** This entire section and the next contain tasks for you to complete, mostly using the AWS console.\n",
    "\n",
    "So far we have been accessing our model endpoint by constructing a predictor object which uses the endpoint and then just using the predictor object to perform inference. What if we wanted to create a web app which accessed our model? The way things are set up currently makes that not possible since in order to access a SageMaker endpoint the app would first have to authenticate with AWS using an IAM role which included access to SageMaker endpoints. However, there is an easier way! We just need to use some additional AWS services.\n",
    "\n",
    "<img src=\"Web App Diagram.svg\">\n",
    "\n",
    "The diagram above gives an overview of how the various services will work together. On the far right is the model which we trained above and which is deployed using SageMaker. On the far left is our web app that collects a user's movie review, sends it off and expects a positive or negative sentiment in return.\n",
    "\n",
    "In the middle is where some of the magic happens. We will construct a Lambda function, which you can think of as a straightforward Python function that can be executed whenever a specified event occurs. We will give this function permission to send and recieve data from a SageMaker endpoint.\n",
    "\n",
    "Lastly, the method we will use to execute the Lambda function is a new endpoint that we will create using API Gateway. This endpoint will be a url that listens for data to be sent to it. Once it gets some data it will pass that data on to the Lambda function and then return whatever the Lambda function returns. Essentially it will act as an interface that lets our web app communicate with the Lambda function.\n",
    "\n",
    "### Setting up a Lambda function\n",
    "\n",
    "The first thing we are going to do is set up a Lambda function. This Lambda function will be executed whenever our public API has data sent to it. When it is executed it will receive the data, perform any sort of processing that is required, send the data (the review) to the SageMaker endpoint we've created and then return the result.\n",
    "\n",
    "#### Part A: Create an IAM Role for the Lambda function\n",
    "\n",
    "Since we want the Lambda function to call a SageMaker endpoint, we need to make sure that it has permission to do so. To do this, we will construct a role that we can later give the Lambda function.\n",
    "\n",
    "Using the AWS Console, navigate to the **IAM** page and click on **Roles**. Then, click on **Create role**. Make sure that the **AWS service** is the type of trusted entity selected and choose **Lambda** as the service that will use this role, then click **Next: Permissions**.\n",
    "\n",
    "In the search box type `sagemaker` and select the check box next to the **AmazonSageMakerFullAccess** policy. Then, click on **Next: Review**.\n",
    "\n",
    "Lastly, give this role a name. Make sure you use a name that you will remember later on, for example `LambdaSageMakerRole`. Then, click on **Create role**.\n",
    "\n",
    "#### Part B: Create a Lambda function\n",
    "\n",
    "Now it is time to actually create the Lambda function.\n",
    "\n",
    "Using the AWS Console, navigate to the AWS Lambda page and click on **Create a function**. When you get to the next page, make sure that **Author from scratch** is selected. Now, name your Lambda function, using a name that you will remember later on, for example `sentiment_analysis_func`. Make sure that the **Python 3.6** runtime is selected and then choose the role that you created in the previous part. Then, click on **Create Function**.\n",
    "\n",
    "On the next page you will see some information about the Lambda function you've just created. If you scroll down you should see an editor in which you can write the code that will be executed when your Lambda function is triggered. In our example, we will use the code below. \n",
    "\n",
    "```python\n",
    "# We need to use the low-level library to interact with SageMaker since the SageMaker API\n",
    "# is not available natively through Lambda.\n",
    "import boto3\n",
    "\n",
    "def lambda_handler(event, context):\n",
    "\n",
    "    # The SageMaker runtime is what allows us to invoke the endpoint that we've created.\n",
    "    runtime = boto3.Session().client('sagemaker-runtime')\n",
    "\n",
    "    # Now we use the SageMaker runtime to invoke our endpoint, sending the review we were given\n",
    "    response = runtime.invoke_endpoint(EndpointName = '**ENDPOINT NAME HERE**',    # The name of the endpoint we created\n",
    "                                       ContentType = 'text/plain',                 # The data format that is expected\n",
    "                                       Body = event['body'])                       # The actual review\n",
    "\n",
    "    # The response is an HTTP response whose body contains the result of our inference\n",
    "    result = response['Body'].read().decode('utf-8')\n",
    "\n",
    "    return {\n",
    "        'statusCode' : 200,\n",
    "        'headers' : { 'Content-Type' : 'text/plain', 'Access-Control-Allow-Origin' : '*' },\n",
    "        'body' : result\n",
    "    }\n",
    "```\n",
    "\n",
    "Once you have copy and pasted the code above into the Lambda code editor, replace the `**ENDPOINT NAME HERE**` portion with the name of the endpoint that we deployed earlier. You can determine the name of the endpoint using the code cell below."
   ]
  },
  {
   "cell_type": "code",
   "execution_count": 54,
   "metadata": {},
   "outputs": [
    {
     "data": {
      "text/plain": [
       "'sagemaker-pytorch-2019-10-27-12-17-55-202'"
      ]
     },
     "execution_count": 54,
     "metadata": {},
     "output_type": "execute_result"
    }
   ],
   "source": [
    "predictor.endpoint"
   ]
  },
  {
   "cell_type": "markdown",
   "metadata": {},
   "source": [
    "Once you have added the endpoint name to the Lambda function, click on **Save**. Your Lambda function is now up and running. Next we need to create a way for our web app to execute the Lambda function.\n",
    "\n",
    "### Setting up API Gateway\n",
    "\n",
    "Now that our Lambda function is set up, it is time to create a new API using API Gateway that will trigger the Lambda function we have just created.\n",
    "\n",
    "Using AWS Console, navigate to **Amazon API Gateway** and then click on **Get started**.\n",
    "\n",
    "On the next page, make sure that **New API** is selected and give the new api a name, for example, `sentiment_analysis_api`. Then, click on **Create API**.\n",
    "\n",
    "Now we have created an API, however it doesn't currently do anything. What we want it to do is to trigger the Lambda function that we created earlier.\n",
    "\n",
    "Select the **Actions** dropdown menu and click **Create Method**. A new blank method will be created, select its dropdown menu and select **POST**, then click on the check mark beside it.\n",
    "\n",
    "For the integration point, make sure that **Lambda Function** is selected and click on the **Use Lambda Proxy integration**. This option makes sure that the data that is sent to the API is then sent directly to the Lambda function with no processing. It also means that the return value must be a proper response object as it will also not be processed by API Gateway.\n",
    "\n",
    "Type the name of the Lambda function you created earlier into the **Lambda Function** text entry box and then click on **Save**. Click on **OK** in the pop-up box that then appears, giving permission to API Gateway to invoke the Lambda function you created.\n",
    "\n",
    "The last step in creating the API Gateway is to select the **Actions** dropdown and click on **Deploy API**. You will need to create a new Deployment stage and name it anything you like, for example `prod`.\n",
    "\n",
    "You have now successfully set up a public API to access your SageMaker model. Make sure to copy or write down the URL provided to invoke your newly created public API as this will be needed in the next step. This URL can be found at the top of the page, highlighted in blue next to the text **Invoke URL**."
   ]
  },
  {
   "cell_type": "markdown",
   "metadata": {},
   "source": [
    "## Step 4: Deploying our web app\n",
    "\n",
    "Now that we have a publicly available API, we can start using it in a web app. For our purposes, we have provided a simple static html file which can make use of the public api you created earlier.\n",
    "\n",
    "In the `website` folder there should be a file called `index.html`. Download the file to your computer and open that file up in a text editor of your choice. There should be a line which contains **\\*\\*REPLACE WITH PUBLIC API URL\\*\\***. Replace this string with the url that you wrote down in the last step and then save the file.\n",
    "\n",
    "Now, if you open `index.html` on your local computer, your browser will behave as a local web server and you can use the provided site to interact with your SageMaker model.\n",
    "\n",
    "If you'd like to go further, you can host this html file anywhere you'd like, for example using github or hosting a static site on Amazon's S3. Once you have done this you can share the link with anyone you'd like and have them play with it too!\n",
    "\n",
    "> **Important Note** In order for the web app to communicate with the SageMaker endpoint, the endpoint has to actually be deployed and running. This means that you are paying for it. Make sure that the endpoint is running when you want to use the web app but that you shut it down when you don't need it, otherwise you will end up with a surprisingly large AWS bill.\n",
    "\n",
    "**TODO:** Make sure that you include the edited `index.html` file in your project submission."
   ]
  },
  {
   "cell_type": "markdown",
   "metadata": {},
   "source": [
    "Now that your web app is working, trying playing around with it and see how well it works.\n",
    "\n",
    "**Question**: Give an example of a review that you entered into your web app. What was the predicted sentiment of your example review?"
   ]
  },
  {
   "cell_type": "markdown",
   "metadata": {},
   "source": [
    "**Answer:**\n",
    "\n",
    "I posted a first review from the RottenTomatoes website I encountered :\n",
    "\n",
    "Resurrecting a legendary franchise should be no difficult task with its original director, star, and screenplay by the guy that wrote Jurassic Park, Mission: Impossible, Spider-Man, and Carlito's Way, right? Well, unfortunately Koepp's screenplay is waaaaay off the mark here and Spielberg, Ford, and George Lucas, despite laughing all the way to the bank, heard it from die hard fans. Now in the 1950s, Indy is trying to stop the Soviets from getting their hands on the mysterious and powerful Crystal Skull. Fans would have been okay with resurrecting Indy if they would have left Shia LaBeouf's James Dean like character way out of the picture. If that character and the ending sequence absolutely had to be left in, I'm sure everyone would've been okay with Indy staying on the shelves for a little longer until something better came along in terms of a script.\n",
    "\n",
    "Source: https://www.rottentomatoes.com/m/indiana_jones_and_the_kingdom_of_the_crystal_skull\n",
    "\n",
    "The predicted sentiment is negative."
   ]
  },
  {
   "cell_type": "markdown",
   "metadata": {},
   "source": [
    "### Delete the endpoint\n",
    "\n",
    "Remember to always shut down your endpoint if you are no longer using it. You are charged for the length of time that the endpoint is running so if you forget and leave it on you could end up with an unexpectedly large bill."
   ]
  },
  {
   "cell_type": "code",
   "execution_count": 55,
   "metadata": {},
   "outputs": [],
   "source": [
    "predictor.delete_endpoint()"
   ]
  },
  {
   "cell_type": "code",
   "execution_count": null,
   "metadata": {},
   "outputs": [],
   "source": []
  }
 ],
 "metadata": {
  "kernelspec": {
   "display_name": "conda_pytorch_p36",
   "language": "python",
   "name": "conda_pytorch_p36"
  },
  "language_info": {
   "codemirror_mode": {
    "name": "ipython",
    "version": 3
   },
   "file_extension": ".py",
   "mimetype": "text/x-python",
   "name": "python",
   "nbconvert_exporter": "python",
   "pygments_lexer": "ipython3",
   "version": "3.6.5"
  }
 },
 "nbformat": 4,
 "nbformat_minor": 2
}
