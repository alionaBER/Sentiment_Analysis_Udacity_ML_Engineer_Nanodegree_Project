{
 "cells": [
  {
   "cell_type": "markdown",
   "metadata": {},
   "source": [
    "# Sentiment Analysis\n",
    "\n",
    "## Using XGBoost in SageMaker\n",
    "\n",
    "_Deep Learning Nanodegree Program | Deployment_\n",
    "\n",
    "---\n",
    "\n",
    "In this example of using Amazon's SageMaker service we will construct a random tree model to predict the sentiment of a movie review. You may have seen a version of this example in a pervious lesson although it would have been done using the sklearn package. Instead, we will be using the XGBoost package as it is provided to us by Amazon.\n",
    "\n",
    "## Instructions\n",
    "\n",
    "Some template code has already been provided for you, and you will need to implement additional functionality to successfully complete this notebook. You will not need to modify the included code beyond what is requested. Sections that begin with '**TODO**' in the header indicate that you need to complete or implement some portion within them. Instructions will be provided for each section and the specifics of the implementation are marked in the code block with a `# TODO: ...` comment. Please be sure to read the instructions carefully!\n",
    "\n",
    "In addition to implementing code, there will be questions for you to answer which relate to the task and your implementation. Each section where you will answer a question is preceded by a '**Question:**' header. Carefully read each question and provide your answer below the '**Answer:**' header by editing the Markdown cell.\n",
    "\n",
    "> **Note**: Code and Markdown cells can be executed using the **Shift+Enter** keyboard shortcut. In addition, a cell can be edited by typically clicking it (double-click for Markdown cells) or by pressing **Enter** while it is highlighted."
   ]
  },
  {
   "cell_type": "markdown",
   "metadata": {},
   "source": [
    "## Step 1: Downloading the data\n",
    "\n",
    "The dataset we are going to use is very popular among researchers in Natural Language Processing, usually referred to as the [IMDb dataset](http://ai.stanford.edu/~amaas/data/sentiment/). It consists of movie reviews from the website [imdb.com](http://www.imdb.com/), each labeled as either '**pos**itive', if the reviewer enjoyed the film, or '**neg**ative' otherwise.\n",
    "\n",
    "> Maas, Andrew L., et al. [Learning Word Vectors for Sentiment Analysis](http://ai.stanford.edu/~amaas/data/sentiment/). In _Proceedings of the 49th Annual Meeting of the Association for Computational Linguistics: Human Language Technologies_. Association for Computational Linguistics, 2011.\n",
    "\n",
    "We begin by using some Jupyter Notebook magic to download and extract the dataset."
   ]
  },
  {
   "cell_type": "code",
   "execution_count": 2,
   "metadata": {},
   "outputs": [
    {
     "name": "stdout",
     "output_type": "stream",
     "text": [
      "mkdir: cannot create directory ‘../data’: File exists\n",
      "--2019-10-19 14:27:10--  http://ai.stanford.edu/~amaas/data/sentiment/aclImdb_v1.tar.gz\n",
      "Resolving ai.stanford.edu (ai.stanford.edu)... 171.64.68.10\n",
      "Connecting to ai.stanford.edu (ai.stanford.edu)|171.64.68.10|:80... connected.\n",
      "HTTP request sent, awaiting response... 200 OK\n",
      "Length: 84125825 (80M) [application/x-gzip]\n",
      "Saving to: ‘../data/aclImdb_v1.tar.gz’\n",
      "\n",
      "../data/aclImdb_v1. 100%[===================>]  80.23M  9.27MB/s    in 11s     \n",
      "\n",
      "2019-10-19 14:27:22 (7.08 MB/s) - ‘../data/aclImdb_v1.tar.gz’ saved [84125825/84125825]\n",
      "\n"
     ]
    }
   ],
   "source": [
    "%mkdir ../data\n",
    "!wget -O ../data/aclImdb_v1.tar.gz http://ai.stanford.edu/~amaas/data/sentiment/aclImdb_v1.tar.gz\n",
    "!tar -zxf ../data/aclImdb_v1.tar.gz -C ../data"
   ]
  },
  {
   "cell_type": "markdown",
   "metadata": {},
   "source": [
    "## Step 2: Preparing the data\n",
    "\n",
    "The data we have downloaded is split into various files, each of which contains a single review. It will be much easier going forward if we combine these individual files into two large files, one for training and one for testing."
   ]
  },
  {
   "cell_type": "code",
   "execution_count": 3,
   "metadata": {},
   "outputs": [],
   "source": [
    "import os\n",
    "import glob\n",
    "\n",
    "def read_imdb_data(data_dir='../data/aclImdb'):\n",
    "    data = {}\n",
    "    labels = {}\n",
    "    \n",
    "    for data_type in ['train', 'test']:\n",
    "        data[data_type] = {}\n",
    "        labels[data_type] = {}\n",
    "        \n",
    "        for sentiment in ['pos', 'neg']:\n",
    "            data[data_type][sentiment] = []\n",
    "            labels[data_type][sentiment] = []\n",
    "            \n",
    "            path = os.path.join(data_dir, data_type, sentiment, '*.txt')\n",
    "            files = glob.glob(path)\n",
    "            \n",
    "            for f in files:\n",
    "                with open(f) as review:\n",
    "                    data[data_type][sentiment].append(review.read())\n",
    "                    # Here we represent a positive review by '1' and a negative review by '0'\n",
    "                    labels[data_type][sentiment].append(1 if sentiment == 'pos' else 0)\n",
    "                    \n",
    "            assert len(data[data_type][sentiment]) == len(labels[data_type][sentiment]), \\\n",
    "                    \"{}/{} data size does not match labels size\".format(data_type, sentiment)\n",
    "                \n",
    "    return data, labels"
   ]
  },
  {
   "cell_type": "code",
   "execution_count": 4,
   "metadata": {},
   "outputs": [
    {
     "name": "stdout",
     "output_type": "stream",
     "text": [
      "IMDB reviews: train = 12500 pos / 12500 neg, test = 12500 pos / 12500 neg\n"
     ]
    }
   ],
   "source": [
    "data, labels = read_imdb_data()\n",
    "print(\"IMDB reviews: train = {} pos / {} neg, test = {} pos / {} neg\".format(\n",
    "            len(data['train']['pos']), len(data['train']['neg']),\n",
    "            len(data['test']['pos']), len(data['test']['neg'])))"
   ]
  },
  {
   "cell_type": "code",
   "execution_count": 5,
   "metadata": {},
   "outputs": [],
   "source": [
    "from sklearn.utils import shuffle\n",
    "\n",
    "def prepare_imdb_data(data, labels):\n",
    "    \"\"\"Prepare training and test sets from IMDb movie reviews.\"\"\"\n",
    "    \n",
    "    #Combine positive and negative reviews and labels\n",
    "    data_train = data['train']['pos'] + data['train']['neg']\n",
    "    data_test = data['test']['pos'] + data['test']['neg']\n",
    "    labels_train = labels['train']['pos'] + labels['train']['neg']\n",
    "    labels_test = labels['test']['pos'] + labels['test']['neg']\n",
    "    \n",
    "    #Shuffle reviews and corresponding labels within training and test sets\n",
    "    data_train, labels_train = shuffle(data_train, labels_train)\n",
    "    data_test, labels_test = shuffle(data_test, labels_test)\n",
    "    \n",
    "    # Return a unified training data, test data, training labels, test labets\n",
    "    return data_train, data_test, labels_train, labels_test"
   ]
  },
  {
   "cell_type": "code",
   "execution_count": 6,
   "metadata": {},
   "outputs": [
    {
     "name": "stdout",
     "output_type": "stream",
     "text": [
      "IMDb reviews (combined): train = 25000, test = 25000\n"
     ]
    }
   ],
   "source": [
    "train_X, test_X, train_y, test_y = prepare_imdb_data(data, labels)\n",
    "print(\"IMDb reviews (combined): train = {}, test = {}\".format(len(train_X), len(test_X)))"
   ]
  },
  {
   "cell_type": "code",
   "execution_count": 7,
   "metadata": {},
   "outputs": [
    {
     "data": {
      "text/plain": [
       "'Tarzan and Jane are living happily in the jungle. Some men come looking for ivory and to take Jane back to civilization. But Jane loves Tarzan and refuses to leave. One of the men falls in love with Jane and is determined to take her back...even if that means killing Tarzan.<br /><br />This is a rarity--a sequel that\\'s better than the original. \"Tarzan, the Ape Man\" of 1932 was good but had some dreadful special effects and sort of dragged. This one has MUCH better effects and is a lot more adult. There is tons of blatant racism (a black man is shot to death point blank--and no one really cares) but this was 1934. There\\'s also plenty of blood, gore and violence (for a 1934 movie) and uncut prints have Jane doing a lengthy underwater swim totally nude! There\\'s also obvious sexual content and Tarzan and Jane are wearing next to nothing and (it\\'s implied) they sleep together and have sex--without being married. This wouldn\\'t bother anyone today but in 1934 this was pretty extreme.<br /><br />That aside, the movie is well-directed, very fast-moving and full of adventure and excitement. Seeing Weissmuller in that skimpy lion cloth is certainly a treat for the eyes and Jane\\'s outfit is pretty revealing too. I still think Maureen O\\'Sullivan is bad as Jane but Weismuller is perfect as Tarzan. Everybody else is OK.<br /><br />This is easily the best Weismuller--O\\'Hara Tarzan out there. WELL worth seeing but not for kids!'"
      ]
     },
     "execution_count": 7,
     "metadata": {},
     "output_type": "execute_result"
    }
   ],
   "source": [
    "train_X[100]"
   ]
  },
  {
   "cell_type": "markdown",
   "metadata": {},
   "source": [
    "## Step 3: Processing the data\n",
    "\n",
    "Now that we have our training and testing datasets merged and ready to use, we need to start processing the raw data into something that will be useable by our machine learning algorithm. To begin with, we remove any html formatting that may appear in the reviews and perform some standard natural language processing in order to homogenize the data."
   ]
  },
  {
   "cell_type": "code",
   "execution_count": 8,
   "metadata": {},
   "outputs": [
    {
     "name": "stdout",
     "output_type": "stream",
     "text": [
      "[nltk_data] Downloading package stopwords to\n",
      "[nltk_data]     /home/ec2-user/nltk_data...\n",
      "[nltk_data]   Unzipping corpora/stopwords.zip.\n"
     ]
    }
   ],
   "source": [
    "import nltk\n",
    "nltk.download(\"stopwords\")\n",
    "from nltk.corpus import stopwords\n",
    "from nltk.stem.porter import *\n",
    "stemmer = PorterStemmer()"
   ]
  },
  {
   "cell_type": "code",
   "execution_count": 9,
   "metadata": {},
   "outputs": [],
   "source": [
    "import re\n",
    "from bs4 import BeautifulSoup\n",
    "\n",
    "def review_to_words(review):\n",
    "    text = BeautifulSoup(review, \"html.parser\").get_text() # Remove HTML tags\n",
    "    text = re.sub(r\"[^a-zA-Z0-9]\", \" \", text.lower()) # Convert to lower case\n",
    "    words = text.split() # Split string into words\n",
    "    words = [w for w in words if w not in stopwords.words(\"english\")] # Remove stopwords\n",
    "    words = [PorterStemmer().stem(w) for w in words] # stem\n",
    "    \n",
    "    return words"
   ]
  },
  {
   "cell_type": "code",
   "execution_count": 10,
   "metadata": {},
   "outputs": [],
   "source": [
    "import pickle\n",
    "\n",
    "cache_dir = os.path.join(\"../cache\", \"sentiment_analysis\")  # where to store cache files\n",
    "os.makedirs(cache_dir, exist_ok=True)  # ensure cache directory exists\n",
    "\n",
    "def preprocess_data(data_train, data_test, labels_train, labels_test,\n",
    "                    cache_dir=cache_dir, cache_file=\"preprocessed_data.pkl\"):\n",
    "    \"\"\"Convert each review to words; read from cache if available.\"\"\"\n",
    "\n",
    "    # If cache_file is not None, try to read from it first\n",
    "    cache_data = None\n",
    "    if cache_file is not None:\n",
    "        try:\n",
    "            with open(os.path.join(cache_dir, cache_file), \"rb\") as f:\n",
    "                cache_data = pickle.load(f)\n",
    "            print(\"Read preprocessed data from cache file:\", cache_file)\n",
    "        except:\n",
    "            pass  # unable to read from cache, but that's okay\n",
    "    \n",
    "    # If cache is missing, then do the heavy lifting\n",
    "    if cache_data is None:\n",
    "        # Preprocess training and test data to obtain words for each review\n",
    "        #words_train = list(map(review_to_words, data_train))\n",
    "        #words_test = list(map(review_to_words, data_test))\n",
    "        words_train = [review_to_words(review) for review in data_train]\n",
    "        words_test = [review_to_words(review) for review in data_test]\n",
    "        \n",
    "        # Write to cache file for future runs\n",
    "        if cache_file is not None:\n",
    "            cache_data = dict(words_train=words_train, words_test=words_test,\n",
    "                              labels_train=labels_train, labels_test=labels_test)\n",
    "            with open(os.path.join(cache_dir, cache_file), \"wb\") as f:\n",
    "                pickle.dump(cache_data, f)\n",
    "            print(\"Wrote preprocessed data to cache file:\", cache_file)\n",
    "    else:\n",
    "        # Unpack data loaded from cache file\n",
    "        words_train, words_test, labels_train, labels_test = (cache_data['words_train'],\n",
    "                cache_data['words_test'], cache_data['labels_train'], cache_data['labels_test'])\n",
    "    \n",
    "    return words_train, words_test, labels_train, labels_test"
   ]
  },
  {
   "cell_type": "code",
   "execution_count": 11,
   "metadata": {},
   "outputs": [
    {
     "name": "stdout",
     "output_type": "stream",
     "text": [
      "Wrote preprocessed data to cache file: preprocessed_data.pkl\n"
     ]
    }
   ],
   "source": [
    "# Preprocess data\n",
    "train_X, test_X, train_y, test_y = preprocess_data(train_X, test_X, train_y, test_y)"
   ]
  },
  {
   "cell_type": "markdown",
   "metadata": {},
   "source": [
    "### Extract Bag-of-Words features\n",
    "\n",
    "For the model we will be implementing, rather than using the reviews directly, we are going to transform each review into a Bag-of-Words feature representation. Keep in mind that 'in the wild' we will only have access to the training set so our transformer can only use the training set to construct a representation."
   ]
  },
  {
   "cell_type": "code",
   "execution_count": 12,
   "metadata": {},
   "outputs": [],
   "source": [
    "import numpy as np\n",
    "from sklearn.feature_extraction.text import CountVectorizer\n",
    "from sklearn.externals import joblib\n",
    "# joblib is an enhanced version of pickle that is more efficient for storing NumPy arrays\n",
    "\n",
    "def extract_BoW_features(words_train, words_test, vocabulary_size=5000,\n",
    "                         cache_dir=cache_dir, cache_file=\"bow_features.pkl\"):\n",
    "    \"\"\"Extract Bag-of-Words for a given set of documents, already preprocessed into words.\"\"\"\n",
    "    \n",
    "    # If cache_file is not None, try to read from it first\n",
    "    cache_data = None\n",
    "    if cache_file is not None:\n",
    "        try:\n",
    "            with open(os.path.join(cache_dir, cache_file), \"rb\") as f:\n",
    "                cache_data = joblib.load(f)\n",
    "            print(\"Read features from cache file:\", cache_file)\n",
    "        except:\n",
    "            pass  # unable to read from cache, but that's okay\n",
    "    \n",
    "    # If cache is missing, then do the heavy lifting\n",
    "    if cache_data is None:\n",
    "        # Fit a vectorizer to training documents and use it to transform them\n",
    "        # NOTE: Training documents have already been preprocessed and tokenized into words;\n",
    "        #       pass in dummy functions to skip those steps, e.g. preprocessor=lambda x: x\n",
    "        vectorizer = CountVectorizer(max_features=vocabulary_size,\n",
    "                preprocessor=lambda x: x, tokenizer=lambda x: x)  # already preprocessed\n",
    "        features_train = vectorizer.fit_transform(words_train).toarray()\n",
    "\n",
    "        # Apply the same vectorizer to transform the test documents (ignore unknown words)\n",
    "        features_test = vectorizer.transform(words_test).toarray()\n",
    "        \n",
    "        # NOTE: Remember to convert the features using .toarray() for a compact representation\n",
    "        \n",
    "        # Write to cache file for future runs (store vocabulary as well)\n",
    "        if cache_file is not None:\n",
    "            vocabulary = vectorizer.vocabulary_\n",
    "            cache_data = dict(features_train=features_train, features_test=features_test,\n",
    "                             vocabulary=vocabulary)\n",
    "            with open(os.path.join(cache_dir, cache_file), \"wb\") as f:\n",
    "                joblib.dump(cache_data, f)\n",
    "            print(\"Wrote features to cache file:\", cache_file)\n",
    "    else:\n",
    "        # Unpack data loaded from cache file\n",
    "        features_train, features_test, vocabulary = (cache_data['features_train'],\n",
    "                cache_data['features_test'], cache_data['vocabulary'])\n",
    "    \n",
    "    # Return both the extracted features as well as the vocabulary\n",
    "    return features_train, features_test, vocabulary"
   ]
  },
  {
   "cell_type": "code",
   "execution_count": 13,
   "metadata": {},
   "outputs": [
    {
     "name": "stdout",
     "output_type": "stream",
     "text": [
      "Wrote features to cache file: bow_features.pkl\n"
     ]
    }
   ],
   "source": [
    "# Extract Bag of Words features for both training and test datasets\n",
    "train_X, test_X, vocabulary = extract_BoW_features(train_X, test_X)"
   ]
  },
  {
   "cell_type": "markdown",
   "metadata": {},
   "source": [
    "## Step 4: Classification using XGBoost\n",
    "\n",
    "Now that we have created the feature representation of our training (and testing) data, it is time to start setting up and using the XGBoost classifier provided by SageMaker.\n",
    "\n",
    "### Writing the dataset\n",
    "\n",
    "The XGBoost classifier that we will be using requires the dataset to be written to a file and stored using Amazon S3. To do this, we will start by splitting the training dataset into two parts, the data we will train the model with and a validation set. Then, we will write those datasets to a file and upload the files to S3. In addition, we will write the test set input to a file and upload the file to S3. This is so that we can use SageMakers Batch Transform functionality to test our model once we've fit it."
   ]
  },
  {
   "cell_type": "code",
   "execution_count": 14,
   "metadata": {},
   "outputs": [],
   "source": [
    "import pandas as pd\n",
    "\n",
    "val_X = pd.DataFrame(train_X[:10000])\n",
    "train_X = pd.DataFrame(train_X[10000:])\n",
    "\n",
    "val_y = pd.DataFrame(train_y[:10000])\n",
    "train_y = pd.DataFrame(train_y[10000:])\n",
    "\n",
    "test_y = pd.DataFrame(test_y)\n",
    "test_X = pd.DataFrame(test_X)"
   ]
  },
  {
   "cell_type": "markdown",
   "metadata": {},
   "source": [
    "The documentation for the XGBoost algorithm in SageMaker requires that the saved datasets should contain no headers or index and that for the training and validation data, the label should occur first for each sample.\n",
    "\n",
    "For more information about this and other algorithms, the SageMaker developer documentation can be found on __[Amazon's website.](https://docs.aws.amazon.com/sagemaker/latest/dg/)__"
   ]
  },
  {
   "cell_type": "code",
   "execution_count": 15,
   "metadata": {},
   "outputs": [],
   "source": [
    "# First we make sure that the local directory in which we'd like to store the training and validation csv files exists.\n",
    "data_dir = '../data/xgboost'\n",
    "if not os.path.exists(data_dir):\n",
    "    os.makedirs(data_dir)"
   ]
  },
  {
   "cell_type": "code",
   "execution_count": 17,
   "metadata": {},
   "outputs": [],
   "source": [
    "# First, save the test data to test.csv in the data_dir directory. Note that we do not save the associated ground truth\n",
    "# labels, instead we will use them later to compare with our model output.\n",
    "\n",
    "\n",
    "test_y.to_csv(os.path.join(data_dir, 'test_y.csv'), header=False, index=False)\n",
    "test_X.to_csv(os.path.join(data_dir, 'test.csv'), header=False, index=False)\n",
    "\n",
    "pd.concat([test_y, test_X], axis=1).to_csv(os.path.join(data_dir, 'test_full.csv'), header=False, index=False)\n",
    "pd.concat([val_y, val_X], axis=1).to_csv(os.path.join(data_dir, 'validation.csv'), header=False, index=False)\n",
    "pd.concat([train_y, train_X], axis=1).to_csv(os.path.join(data_dir, 'train.csv'), header=False, index=False)"
   ]
  },
  {
   "cell_type": "code",
   "execution_count": 18,
   "metadata": {},
   "outputs": [],
   "source": [
    "# To save a bit of memory we can set text_X, train_X, val_X, train_y and val_y to None.\n",
    "\n",
    "train_X = val_X = train_y = val_y = None"
   ]
  },
  {
   "cell_type": "markdown",
   "metadata": {},
   "source": [
    "### Uploading Training / Validation files to S3\n",
    "\n",
    "Amazon's S3 service allows us to store files that can be access by both the built-in training models such as the XGBoost model we will be using as well as custom models such as the one we will see a little later.\n",
    "\n",
    "For this, and most other tasks we will be doing using SageMaker, there are two methods we could use. The first is to use the low level functionality of SageMaker which requires knowing each of the objects involved in the SageMaker environment. The second is to use the high level functionality in which certain choices have been made on the user's behalf. The low level approach benefits from allowing the user a great deal of flexibility while the high level approach makes development much quicker. For our purposes we will opt to use the high level approach although using the low-level approach is certainly an option.\n",
    "\n",
    "Recall the method `upload_data()` which is a member of object representing our current SageMaker session. What this method does is upload the data to the default bucket (which is created if it does not exist) into the path described by the key_prefix variable. To see this for yourself, once you have uploaded the data files, go to the S3 console and look to see where the files have been uploaded.\n",
    "\n",
    "For additional resources, see the __[SageMaker API documentation](http://sagemaker.readthedocs.io/en/latest/)__ and in addition the __[SageMaker Developer Guide.](https://docs.aws.amazon.com/sagemaker/latest/dg/)__"
   ]
  },
  {
   "cell_type": "code",
   "execution_count": null,
   "metadata": {},
   "outputs": [],
   "source": []
  },
  {
   "cell_type": "code",
   "execution_count": 3,
   "metadata": {},
   "outputs": [],
   "source": [
    "import sagemaker\n",
    "\n",
    "session = sagemaker.Session() # Store the current SageMaker session\n",
    "\n"
   ]
  },
  {
   "cell_type": "code",
   "execution_count": null,
   "metadata": {},
   "outputs": [],
   "source": [
    "# S3 prefix (which folder will we use)\n",
    "prefix = 'sentiment-xgboost'\n",
    "test_y_location = session.upload_data(os.path.join(data_dir, 'test_y.csv'), key_prefix=prefix)\n",
    "test_location = session.upload_data(os.path.join(data_dir, 'test.csv'), key_prefix=prefix)\n",
    "val_location = session.upload_data(os.path.join(data_dir, 'validation.csv'), key_prefix=prefix)\n",
    "train_location = session.upload_data(os.path.join(data_dir, 'train.csv'), key_prefix=prefix)"
   ]
  },
  {
   "cell_type": "code",
   "execution_count": 20,
   "metadata": {},
   "outputs": [
    {
     "name": "stdout",
     "output_type": "stream",
     "text": [
      "s3://sagemaker-eu-central-1-668160054588/sentiment-xgboost/test_y.csv\n"
     ]
    }
   ],
   "source": [
    "print(test_y_location)"
   ]
  },
  {
   "cell_type": "markdown",
   "metadata": {},
   "source": [
    "### (TODO) Creating a hypertuned XGBoost model\n",
    "\n",
    "Now that the data has been uploaded it is time to create the XGBoost model. As in the Boston Housing notebook, the first step is to create an estimator object which will be used as the *base* of your hyperparameter tuning job."
   ]
  },
  {
   "cell_type": "code",
   "execution_count": 8,
   "metadata": {},
   "outputs": [],
   "source": [
    "prefix = 'sentiment-xgboost'\n",
    "test_location = 's3://sagemaker-eu-central-1-668160054588/sentiment-xgboost/test.csv'\n",
    "val_location = 's3://sagemaker-eu-central-1-668160054588/sentiment-xgboost/validation.csv'\n",
    "train_location = 's3://sagemaker-eu-central-1-668160054588/sentiment-xgboost/train.csv'\n"
   ]
  },
  {
   "cell_type": "code",
   "execution_count": 5,
   "metadata": {},
   "outputs": [],
   "source": [
    "from sagemaker import get_execution_role\n",
    "\n",
    "# Our current execution role is require when creating the model as the training\n",
    "# and inference code will need to access the model artifacts.\n",
    "role = get_execution_role()"
   ]
  },
  {
   "cell_type": "code",
   "execution_count": 6,
   "metadata": {},
   "outputs": [
    {
     "name": "stderr",
     "output_type": "stream",
     "text": [
      "WARNING:root:There is a more up to date SageMaker XGBoost image.To use the newer image, please set 'repo_version'='0.90-1. For example:\n",
      "\tget_image_uri(region, 'xgboost', '0.90-1').\n"
     ]
    }
   ],
   "source": [
    "# We need to retrieve the location of the container which is provided by Amazon for using XGBoost.\n",
    "# As a matter of convenience, the training and inference code both use the same container.\n",
    "from sagemaker.amazon.amazon_estimator import get_image_uri\n",
    "\n",
    "container = get_image_uri(session.boto_region_name, 'xgboost')"
   ]
  },
  {
   "cell_type": "code",
   "execution_count": 9,
   "metadata": {},
   "outputs": [],
   "source": [
    "# TODO: Create a SageMaker estimator using the container location determined in the previous cell.\n",
    "#       It is recommended that you use a single training instance of type ml.m4.xlarge. It is also\n",
    "#       recommended that you use 's3://{}/{}/output'.format(session.default_bucket(), prefix) as the\n",
    "#       output path.\n",
    "\n",
    "xgb = sagemaker.estimator.Estimator(container, # The name of the training container\n",
    "                                    role,      # The IAM role to use (our current role in this case)\n",
    "                                    train_instance_count=1, # The number of instances to use for training\n",
    "                                    train_instance_type='ml.m4.xlarge', # The type of instance ot use for training\n",
    "                                    output_path='s3://{}/{}/output'.format(session.default_bucket(), prefix),\n",
    "                                                                        # Where to save the output (the model artifacts)\n",
    "                                    sagemaker_session=session) # The current SageMaker session\n",
    "\n",
    "# TODO: Set the XGBoost hyperparameters in the xgb object. Don't forget that in this case we have a binary\n",
    "#       label so we should be using the 'binary:logistic' objective.\n",
    "xgb.set_hyperparameters(max_depth=5,\n",
    "                        eta=0.2,\n",
    "                        gamma=4,\n",
    "                        min_child_weight=6,\n",
    "                        subsample=0.8,\n",
    "                        objective='binary:logistic',\n",
    "                        early_stopping_rounds=10,\n",
    "                        num_round=200)\n"
   ]
  },
  {
   "cell_type": "markdown",
   "metadata": {},
   "source": [
    "### (TODO) Create the hyperparameter tuner\n",
    "\n",
    "Now that the base estimator has been set up we need to construct a hyperparameter tuner object which we will use to request SageMaker construct a hyperparameter tuning job.\n",
    "\n",
    "**Note:** Training a single sentiment analysis XGBoost model takes longer than training a Boston Housing XGBoost model so if you don't want the hyperparameter tuning job to take too long, make sure to not set the total number of models (jobs) too high."
   ]
  },
  {
   "cell_type": "code",
   "execution_count": 10,
   "metadata": {},
   "outputs": [],
   "source": [
    "# First, make sure to import the relevant objects used to construct the tuner\n",
    "from sagemaker.tuner import IntegerParameter, ContinuousParameter, HyperparameterTuner\n",
    "\n",
    "# TODO: Create the hyperparameter tuner object\n",
    "\n",
    "xgb_hyperparameter_tuner = HyperparameterTuner(estimator = xgb, # The estimator object to use as the basis for the training jobs.\n",
    "                                               objective_metric_name = 'validation:error', # The metric used to compare trained models.\n",
    "                                               objective_type = 'Minimize', # Whether we wish to minimize or maximize the metric.\n",
    "                                               max_jobs = 3, # The total number of models to train\n",
    "                                               max_parallel_jobs = 3, # The number of models to train in parallel\n",
    "                                               hyperparameter_ranges = {\n",
    "                                                    'max_depth': IntegerParameter(3, 12),\n",
    "                                                    'eta'      : ContinuousParameter(0.05, 0.5),\n",
    "                                                    'min_child_weight': IntegerParameter(2, 8),\n",
    "                                                    'subsample': ContinuousParameter(0.5, 0.9),\n",
    "                                                    'gamma': ContinuousParameter(0, 10),\n",
    "                                               })\n",
    "\n"
   ]
  },
  {
   "cell_type": "markdown",
   "metadata": {},
   "source": [
    "### Fit the hyperparameter tuner\n",
    "\n",
    "Now that the hyperparameter tuner object has been constructed, it is time to fit the various models and find the best performing model."
   ]
  },
  {
   "cell_type": "code",
   "execution_count": 11,
   "metadata": {},
   "outputs": [],
   "source": [
    "s3_input_train = sagemaker.s3_input(s3_data=train_location, content_type='csv')\n",
    "s3_input_validation = sagemaker.s3_input(s3_data=val_location, content_type='csv')"
   ]
  },
  {
   "cell_type": "code",
   "execution_count": 12,
   "metadata": {},
   "outputs": [],
   "source": [
    "xgb_hyperparameter_tuner.fit({'train': s3_input_train, 'validation': s3_input_validation})"
   ]
  },
  {
   "cell_type": "markdown",
   "metadata": {},
   "source": [
    "Remember that the tuning job is constructed and run in the background so if we want to see the progress of our training job we need to call the `wait()` method."
   ]
  },
  {
   "cell_type": "code",
   "execution_count": 13,
   "metadata": {},
   "outputs": [
    {
     "name": "stdout",
     "output_type": "stream",
     "text": [
      ".........................................................................................!\n"
     ]
    }
   ],
   "source": [
    "xgb_hyperparameter_tuner.wait()"
   ]
  },
  {
   "cell_type": "markdown",
   "metadata": {},
   "source": [
    "### (TODO) Testing the model\n",
    "\n",
    "Now that we've run our hyperparameter tuning job, it's time to see how well the best performing model actually performs. To do this we will use SageMaker's Batch Transform functionality. Batch Transform is a convenient way to perform inference on a large dataset in a way that is not realtime. That is, we don't necessarily need to use our model's results immediately and instead we can peform inference on a large number of samples. An example of this in industry might be peforming an end of month report. This method of inference can also be useful to us as it means to can perform inference on our entire test set. \n",
    "\n",
    "Remember that in order to create a transformer object to perform the batch transform job, we need a trained estimator object. We can do that using the `attach()` method, creating an estimator object which is attached to the best trained job."
   ]
  },
  {
   "cell_type": "code",
   "execution_count": 14,
   "metadata": {},
   "outputs": [
    {
     "name": "stdout",
     "output_type": "stream",
     "text": [
      "2019-10-20 17:01:55 Starting - Preparing the instances for training\n",
      "2019-10-20 17:01:55 Downloading - Downloading input data\n",
      "2019-10-20 17:01:55 Training - Training image download completed. Training in progress.\n",
      "2019-10-20 17:01:55 Uploading - Uploading generated training model\n",
      "2019-10-20 17:01:55 Completed - Training job completed\u001b[31mArguments: train\u001b[0m\n",
      "\u001b[31m[2019-10-20:16:58:00:INFO] Running standalone xgboost training.\u001b[0m\n",
      "\u001b[31m[2019-10-20:16:58:00:INFO] Setting up HPO optimized metric to be : error\u001b[0m\n",
      "\u001b[31m[2019-10-20:16:58:00:INFO] File size need to be processed in the node: 238.47mb. Available memory size in the node: 8595.9mb\u001b[0m\n",
      "\u001b[31m[2019-10-20:16:58:00:INFO] Determined delimiter of CSV input is ','\u001b[0m\n",
      "\u001b[31m[16:58:00] S3DistributionType set as FullyReplicated\u001b[0m\n",
      "\u001b[31m[16:58:02] 15000x5000 matrix with 75000000 entries loaded from /opt/ml/input/data/train?format=csv&label_column=0&delimiter=,\u001b[0m\n",
      "\u001b[31m[2019-10-20:16:58:02:INFO] Determined delimiter of CSV input is ','\u001b[0m\n",
      "\u001b[31m[16:58:02] S3DistributionType set as FullyReplicated\u001b[0m\n",
      "\u001b[31m[16:58:03] 10000x5000 matrix with 50000000 entries loaded from /opt/ml/input/data/validation?format=csv&label_column=0&delimiter=,\u001b[0m\n",
      "\u001b[31m[16:58:07] src/tree/updater_prune.cc:74: tree pruning end, 1 roots, 44 extra nodes, 0 pruned nodes, max_depth=5\u001b[0m\n",
      "\u001b[31m[0]#011train-error:0.2954#011validation-error:0.3032\u001b[0m\n",
      "\u001b[31mMultiple eval metrics have been passed: 'validation-error' will be used for early stopping.\n",
      "\u001b[0m\n",
      "\u001b[31mWill train until validation-error hasn't improved in 10 rounds.\u001b[0m\n",
      "\u001b[31m[16:58:09] src/tree/updater_prune.cc:74: tree pruning end, 1 roots, 50 extra nodes, 0 pruned nodes, max_depth=5\u001b[0m\n",
      "\u001b[31m[1]#011train-error:0.2908#011validation-error:0.3023\u001b[0m\n",
      "\u001b[31m[16:58:10] src/tree/updater_prune.cc:74: tree pruning end, 1 roots, 44 extra nodes, 0 pruned nodes, max_depth=5\u001b[0m\n",
      "\u001b[31m[2]#011train-error:0.264333#011validation-error:0.2755\u001b[0m\n",
      "\u001b[31m[16:58:12] src/tree/updater_prune.cc:74: tree pruning end, 1 roots, 34 extra nodes, 0 pruned nodes, max_depth=5\u001b[0m\n",
      "\u001b[31m[3]#011train-error:0.257667#011validation-error:0.2666\u001b[0m\n",
      "\u001b[31m[16:58:13] src/tree/updater_prune.cc:74: tree pruning end, 1 roots, 46 extra nodes, 2 pruned nodes, max_depth=5\u001b[0m\n",
      "\u001b[31m[4]#011train-error:0.255867#011validation-error:0.2656\u001b[0m\n",
      "\u001b[31m[16:58:15] src/tree/updater_prune.cc:74: tree pruning end, 1 roots, 36 extra nodes, 0 pruned nodes, max_depth=5\u001b[0m\n",
      "\u001b[31m[5]#011train-error:0.249867#011validation-error:0.2618\u001b[0m\n",
      "\u001b[31m[16:58:16] src/tree/updater_prune.cc:74: tree pruning end, 1 roots, 38 extra nodes, 0 pruned nodes, max_depth=5\u001b[0m\n",
      "\u001b[31m[6]#011train-error:0.239#011validation-error:0.2516\u001b[0m\n",
      "\u001b[31m[16:58:18] src/tree/updater_prune.cc:74: tree pruning end, 1 roots, 44 extra nodes, 0 pruned nodes, max_depth=5\u001b[0m\n",
      "\u001b[31m[7]#011train-error:0.242#011validation-error:0.2526\u001b[0m\n",
      "\u001b[31m[16:58:19] src/tree/updater_prune.cc:74: tree pruning end, 1 roots, 38 extra nodes, 0 pruned nodes, max_depth=5\u001b[0m\n",
      "\u001b[31m[8]#011train-error:0.234067#011validation-error:0.244\u001b[0m\n",
      "\u001b[31m[16:58:20] src/tree/updater_prune.cc:74: tree pruning end, 1 roots, 36 extra nodes, 0 pruned nodes, max_depth=5\u001b[0m\n",
      "\u001b[31m[9]#011train-error:0.228467#011validation-error:0.2395\u001b[0m\n",
      "\u001b[31m[16:58:22] src/tree/updater_prune.cc:74: tree pruning end, 1 roots, 44 extra nodes, 0 pruned nodes, max_depth=5\u001b[0m\n",
      "\u001b[31m[10]#011train-error:0.221867#011validation-error:0.2339\u001b[0m\n",
      "\u001b[31m[16:58:23] src/tree/updater_prune.cc:74: tree pruning end, 1 roots, 38 extra nodes, 0 pruned nodes, max_depth=5\u001b[0m\n",
      "\u001b[31m[11]#011train-error:0.219267#011validation-error:0.2304\u001b[0m\n",
      "\u001b[31m[16:58:25] src/tree/updater_prune.cc:74: tree pruning end, 1 roots, 30 extra nodes, 0 pruned nodes, max_depth=5\u001b[0m\n",
      "\u001b[31m[12]#011train-error:0.2128#011validation-error:0.2248\u001b[0m\n",
      "\u001b[31m[16:58:26] src/tree/updater_prune.cc:74: tree pruning end, 1 roots, 30 extra nodes, 0 pruned nodes, max_depth=5\u001b[0m\n",
      "\u001b[31m[13]#011train-error:0.208667#011validation-error:0.2227\u001b[0m\n",
      "\u001b[31m[16:58:27] src/tree/updater_prune.cc:74: tree pruning end, 1 roots, 34 extra nodes, 0 pruned nodes, max_depth=5\u001b[0m\n",
      "\u001b[31m[14]#011train-error:0.206267#011validation-error:0.2206\u001b[0m\n",
      "\u001b[31m[16:58:29] src/tree/updater_prune.cc:74: tree pruning end, 1 roots, 36 extra nodes, 0 pruned nodes, max_depth=5\u001b[0m\n",
      "\u001b[31m[15]#011train-error:0.203133#011validation-error:0.2172\u001b[0m\n",
      "\u001b[31m[16:58:30] src/tree/updater_prune.cc:74: tree pruning end, 1 roots, 28 extra nodes, 0 pruned nodes, max_depth=5\u001b[0m\n",
      "\u001b[31m[16]#011train-error:0.200467#011validation-error:0.2148\u001b[0m\n",
      "\u001b[31m[16:58:32] src/tree/updater_prune.cc:74: tree pruning end, 1 roots, 34 extra nodes, 0 pruned nodes, max_depth=5\u001b[0m\n",
      "\u001b[31m[17]#011train-error:0.195933#011validation-error:0.2114\u001b[0m\n",
      "\u001b[31m[16:58:33] src/tree/updater_prune.cc:74: tree pruning end, 1 roots, 38 extra nodes, 0 pruned nodes, max_depth=5\u001b[0m\n",
      "\u001b[31m[18]#011train-error:0.193067#011validation-error:0.2089\u001b[0m\n",
      "\u001b[31m[16:58:35] src/tree/updater_prune.cc:74: tree pruning end, 1 roots, 32 extra nodes, 0 pruned nodes, max_depth=5\u001b[0m\n",
      "\u001b[31m[19]#011train-error:0.1898#011validation-error:0.2057\u001b[0m\n",
      "\u001b[31m[16:58:36] src/tree/updater_prune.cc:74: tree pruning end, 1 roots, 36 extra nodes, 0 pruned nodes, max_depth=5\u001b[0m\n",
      "\u001b[31m[20]#011train-error:0.187267#011validation-error:0.203\u001b[0m\n",
      "\u001b[31m[16:58:37] src/tree/updater_prune.cc:74: tree pruning end, 1 roots, 34 extra nodes, 0 pruned nodes, max_depth=5\u001b[0m\n",
      "\u001b[31m[21]#011train-error:0.1852#011validation-error:0.2007\u001b[0m\n",
      "\u001b[31m[16:58:39] src/tree/updater_prune.cc:74: tree pruning end, 1 roots, 48 extra nodes, 0 pruned nodes, max_depth=5\u001b[0m\n",
      "\u001b[31m[22]#011train-error:0.1818#011validation-error:0.1987\u001b[0m\n",
      "\u001b[31m[16:58:40] src/tree/updater_prune.cc:74: tree pruning end, 1 roots, 38 extra nodes, 0 pruned nodes, max_depth=5\u001b[0m\n",
      "\u001b[31m[23]#011train-error:0.179667#011validation-error:0.1963\u001b[0m\n",
      "\u001b[31m[16:58:42] src/tree/updater_prune.cc:74: tree pruning end, 1 roots, 34 extra nodes, 2 pruned nodes, max_depth=5\u001b[0m\n",
      "\u001b[31m[24]#011train-error:0.178467#011validation-error:0.1948\u001b[0m\n",
      "\u001b[31m[16:58:43] src/tree/updater_prune.cc:74: tree pruning end, 1 roots, 30 extra nodes, 0 pruned nodes, max_depth=5\u001b[0m\n",
      "\u001b[31m[25]#011train-error:0.176467#011validation-error:0.1937\u001b[0m\n",
      "\u001b[31m[16:58:45] src/tree/updater_prune.cc:74: tree pruning end, 1 roots, 32 extra nodes, 0 pruned nodes, max_depth=5\u001b[0m\n",
      "\u001b[31m[26]#011train-error:0.174333#011validation-error:0.1926\u001b[0m\n",
      "\u001b[31m[16:58:46] src/tree/updater_prune.cc:74: tree pruning end, 1 roots, 32 extra nodes, 0 pruned nodes, max_depth=5\u001b[0m\n",
      "\u001b[31m[27]#011train-error:0.1734#011validation-error:0.1916\u001b[0m\n",
      "\u001b[31m[16:58:47] src/tree/updater_prune.cc:74: tree pruning end, 1 roots, 36 extra nodes, 0 pruned nodes, max_depth=5\u001b[0m\n",
      "\u001b[31m[28]#011train-error:0.171467#011validation-error:0.1899\u001b[0m\n",
      "\u001b[31m[16:58:49] src/tree/updater_prune.cc:74: tree pruning end, 1 roots, 32 extra nodes, 0 pruned nodes, max_depth=5\u001b[0m\n",
      "\u001b[31m[29]#011train-error:0.168667#011validation-error:0.1882\u001b[0m\n",
      "\u001b[31m[16:58:50] src/tree/updater_prune.cc:74: tree pruning end, 1 roots, 26 extra nodes, 0 pruned nodes, max_depth=5\u001b[0m\n",
      "\u001b[31m[30]#011train-error:0.166667#011validation-error:0.187\u001b[0m\n",
      "\u001b[31m[16:58:52] src/tree/updater_prune.cc:74: tree pruning end, 1 roots, 36 extra nodes, 0 pruned nodes, max_depth=5\u001b[0m\n",
      "\u001b[31m[31]#011train-error:0.1656#011validation-error:0.1843\u001b[0m\n",
      "\u001b[31m[16:58:53] src/tree/updater_prune.cc:74: tree pruning end, 1 roots, 30 extra nodes, 2 pruned nodes, max_depth=5\u001b[0m\n",
      "\u001b[31m[32]#011train-error:0.164667#011validation-error:0.1829\u001b[0m\n",
      "\u001b[31m[16:58:55] src/tree/updater_prune.cc:74: tree pruning end, 1 roots, 40 extra nodes, 0 pruned nodes, max_depth=5\u001b[0m\n",
      "\u001b[31m[33]#011train-error:0.162867#011validation-error:0.1829\u001b[0m\n",
      "\u001b[31m[16:58:56] src/tree/updater_prune.cc:74: tree pruning end, 1 roots, 40 extra nodes, 0 pruned nodes, max_depth=5\u001b[0m\n",
      "\u001b[31m[34]#011train-error:0.161867#011validation-error:0.1832\u001b[0m\n",
      "\u001b[31m[16:58:57] src/tree/updater_prune.cc:74: tree pruning end, 1 roots, 26 extra nodes, 0 pruned nodes, max_depth=5\u001b[0m\n",
      "\u001b[31m[35]#011train-error:0.160067#011validation-error:0.1816\u001b[0m\n",
      "\u001b[31m[16:58:59] src/tree/updater_prune.cc:74: tree pruning end, 1 roots, 30 extra nodes, 0 pruned nodes, max_depth=5\u001b[0m\n",
      "\u001b[31m[36]#011train-error:0.159467#011validation-error:0.1807\u001b[0m\n",
      "\u001b[31m[16:59:00] src/tree/updater_prune.cc:74: tree pruning end, 1 roots, 34 extra nodes, 0 pruned nodes, max_depth=5\u001b[0m\n",
      "\u001b[31m[37]#011train-error:0.157867#011validation-error:0.1791\u001b[0m\n",
      "\u001b[31m[16:59:02] src/tree/updater_prune.cc:74: tree pruning end, 1 roots, 40 extra nodes, 2 pruned nodes, max_depth=5\u001b[0m\n",
      "\u001b[31m[38]#011train-error:0.1562#011validation-error:0.1797\u001b[0m\n",
      "\u001b[31m[16:59:03] src/tree/updater_prune.cc:74: tree pruning end, 1 roots, 24 extra nodes, 0 pruned nodes, max_depth=5\u001b[0m\n",
      "\u001b[31m[39]#011train-error:0.1534#011validation-error:0.1767\u001b[0m\n",
      "\u001b[31m[16:59:05] src/tree/updater_prune.cc:74: tree pruning end, 1 roots, 26 extra nodes, 0 pruned nodes, max_depth=5\u001b[0m\n",
      "\u001b[31m[40]#011train-error:0.152333#011validation-error:0.1758\u001b[0m\n",
      "\u001b[31m[16:59:06] src/tree/updater_prune.cc:74: tree pruning end, 1 roots, 34 extra nodes, 0 pruned nodes, max_depth=5\u001b[0m\n",
      "\u001b[31m[41]#011train-error:0.151133#011validation-error:0.1747\u001b[0m\n",
      "\u001b[31m[16:59:07] src/tree/updater_prune.cc:74: tree pruning end, 1 roots, 44 extra nodes, 0 pruned nodes, max_depth=5\u001b[0m\n",
      "\u001b[31m[42]#011train-error:0.150067#011validation-error:0.1743\u001b[0m\n",
      "\u001b[31m[16:59:09] src/tree/updater_prune.cc:74: tree pruning end, 1 roots, 38 extra nodes, 0 pruned nodes, max_depth=5\u001b[0m\n",
      "\u001b[31m[43]#011train-error:0.1472#011validation-error:0.1724\u001b[0m\n",
      "\u001b[31m[16:59:10] src/tree/updater_prune.cc:74: tree pruning end, 1 roots, 30 extra nodes, 0 pruned nodes, max_depth=5\u001b[0m\n",
      "\u001b[31m[44]#011train-error:0.1448#011validation-error:0.1705\u001b[0m\n",
      "\u001b[31m[16:59:12] src/tree/updater_prune.cc:74: tree pruning end, 1 roots, 38 extra nodes, 0 pruned nodes, max_depth=5\u001b[0m\n",
      "\u001b[31m[45]#011train-error:0.143667#011validation-error:0.171\u001b[0m\n",
      "\u001b[31m[16:59:13] src/tree/updater_prune.cc:74: tree pruning end, 1 roots, 20 extra nodes, 2 pruned nodes, max_depth=5\u001b[0m\n",
      "\u001b[31m[46]#011train-error:0.1434#011validation-error:0.1717\u001b[0m\n",
      "\u001b[31m[16:59:15] src/tree/updater_prune.cc:74: tree pruning end, 1 roots, 42 extra nodes, 0 pruned nodes, max_depth=5\u001b[0m\n",
      "\u001b[31m[47]#011train-error:0.1418#011validation-error:0.1707\u001b[0m\n",
      "\u001b[31m[16:59:16] src/tree/updater_prune.cc:74: tree pruning end, 1 roots, 34 extra nodes, 0 pruned nodes, max_depth=5\u001b[0m\n",
      "\u001b[31m[48]#011train-error:0.140467#011validation-error:0.1709\u001b[0m\n",
      "\u001b[31m[16:59:17] src/tree/updater_prune.cc:74: tree pruning end, 1 roots, 36 extra nodes, 0 pruned nodes, max_depth=5\u001b[0m\n",
      "\u001b[31m[49]#011train-error:0.139733#011validation-error:0.1694\u001b[0m\n",
      "\u001b[31m[16:59:19] src/tree/updater_prune.cc:74: tree pruning end, 1 roots, 38 extra nodes, 0 pruned nodes, max_depth=5\u001b[0m\n",
      "\u001b[31m[50]#011train-error:0.139333#011validation-error:0.1693\u001b[0m\n",
      "\u001b[31m[16:59:20] src/tree/updater_prune.cc:74: tree pruning end, 1 roots, 36 extra nodes, 0 pruned nodes, max_depth=5\u001b[0m\n",
      "\u001b[31m[51]#011train-error:0.1382#011validation-error:0.1675\u001b[0m\n",
      "\u001b[31m[16:59:22] src/tree/updater_prune.cc:74: tree pruning end, 1 roots, 36 extra nodes, 0 pruned nodes, max_depth=5\u001b[0m\n",
      "\u001b[31m[52]#011train-error:0.1372#011validation-error:0.1662\u001b[0m\n",
      "\u001b[31m[16:59:23] src/tree/updater_prune.cc:74: tree pruning end, 1 roots, 26 extra nodes, 0 pruned nodes, max_depth=5\u001b[0m\n",
      "\u001b[31m[53]#011train-error:0.136133#011validation-error:0.1671\u001b[0m\n",
      "\u001b[31m[16:59:24] src/tree/updater_prune.cc:74: tree pruning end, 1 roots, 30 extra nodes, 0 pruned nodes, max_depth=5\u001b[0m\n",
      "\u001b[31m[54]#011train-error:0.1354#011validation-error:0.1649\u001b[0m\n",
      "\u001b[31m[16:59:26] src/tree/updater_prune.cc:74: tree pruning end, 1 roots, 30 extra nodes, 2 pruned nodes, max_depth=5\u001b[0m\n",
      "\u001b[31m[55]#011train-error:0.134533#011validation-error:0.1652\u001b[0m\n",
      "\u001b[31m[16:59:27] src/tree/updater_prune.cc:74: tree pruning end, 1 roots, 34 extra nodes, 0 pruned nodes, max_depth=5\u001b[0m\n",
      "\u001b[31m[56]#011train-error:0.133667#011validation-error:0.1649\u001b[0m\n",
      "\u001b[31m[16:59:29] src/tree/updater_prune.cc:74: tree pruning end, 1 roots, 32 extra nodes, 0 pruned nodes, max_depth=5\u001b[0m\n",
      "\u001b[31m[57]#011train-error:0.132133#011validation-error:0.165\u001b[0m\n",
      "\u001b[31m[16:59:30] src/tree/updater_prune.cc:74: tree pruning end, 1 roots, 36 extra nodes, 0 pruned nodes, max_depth=5\u001b[0m\n",
      "\u001b[31m[58]#011train-error:0.130733#011validation-error:0.164\u001b[0m\n",
      "\u001b[31m[16:59:32] src/tree/updater_prune.cc:74: tree pruning end, 1 roots, 28 extra nodes, 0 pruned nodes, max_depth=5\u001b[0m\n",
      "\u001b[31m[59]#011train-error:0.129667#011validation-error:0.1639\u001b[0m\n",
      "\u001b[31m[16:59:33] src/tree/updater_prune.cc:74: tree pruning end, 1 roots, 24 extra nodes, 2 pruned nodes, max_depth=5\u001b[0m\n",
      "\u001b[31m[60]#011train-error:0.129867#011validation-error:0.1638\u001b[0m\n",
      "\u001b[31m[16:59:34] src/tree/updater_prune.cc:74: tree pruning end, 1 roots, 30 extra nodes, 0 pruned nodes, max_depth=5\u001b[0m\n",
      "\u001b[31m[61]#011train-error:0.128467#011validation-error:0.1633\u001b[0m\n",
      "\u001b[31m[16:59:36] src/tree/updater_prune.cc:74: tree pruning end, 1 roots, 30 extra nodes, 0 pruned nodes, max_depth=5\u001b[0m\n",
      "\u001b[31m[62]#011train-error:0.127533#011validation-error:0.1638\u001b[0m\n",
      "\u001b[31m[16:59:37] src/tree/updater_prune.cc:74: tree pruning end, 1 roots, 22 extra nodes, 0 pruned nodes, max_depth=5\u001b[0m\n",
      "\u001b[31m[63]#011train-error:0.127467#011validation-error:0.1622\u001b[0m\n",
      "\u001b[31m[16:59:39] src/tree/updater_prune.cc:74: tree pruning end, 1 roots, 26 extra nodes, 0 pruned nodes, max_depth=5\u001b[0m\n",
      "\u001b[31m[64]#011train-error:0.126867#011validation-error:0.1616\u001b[0m\n",
      "\u001b[31m[16:59:40] src/tree/updater_prune.cc:74: tree pruning end, 1 roots, 28 extra nodes, 0 pruned nodes, max_depth=5\u001b[0m\n",
      "\u001b[31m[65]#011train-error:0.126533#011validation-error:0.1598\u001b[0m\n",
      "\u001b[31m[16:59:42] src/tree/updater_prune.cc:74: tree pruning end, 1 roots, 34 extra nodes, 0 pruned nodes, max_depth=5\u001b[0m\n",
      "\u001b[31m[66]#011train-error:0.125867#011validation-error:0.1586\u001b[0m\n",
      "\u001b[31m[16:59:43] src/tree/updater_prune.cc:74: tree pruning end, 1 roots, 22 extra nodes, 0 pruned nodes, max_depth=5\u001b[0m\n",
      "\u001b[31m[67]#011train-error:0.1254#011validation-error:0.1589\u001b[0m\n",
      "\u001b[31m[16:59:44] src/tree/updater_prune.cc:74: tree pruning end, 1 roots, 28 extra nodes, 0 pruned nodes, max_depth=5\u001b[0m\n",
      "\u001b[31m[68]#011train-error:0.124533#011validation-error:0.1583\u001b[0m\n",
      "\u001b[31m[16:59:46] src/tree/updater_prune.cc:74: tree pruning end, 1 roots, 38 extra nodes, 0 pruned nodes, max_depth=5\u001b[0m\n",
      "\u001b[31m[69]#011train-error:0.123867#011validation-error:0.1588\u001b[0m\n",
      "\u001b[31m[16:59:47] src/tree/updater_prune.cc:74: tree pruning end, 1 roots, 28 extra nodes, 0 pruned nodes, max_depth=5\u001b[0m\n",
      "\u001b[31m[70]#011train-error:0.123#011validation-error:0.1572\u001b[0m\n",
      "\u001b[31m[16:59:49] src/tree/updater_prune.cc:74: tree pruning end, 1 roots, 32 extra nodes, 0 pruned nodes, max_depth=5\u001b[0m\n",
      "\u001b[31m[71]#011train-error:0.1212#011validation-error:0.1569\u001b[0m\n",
      "\u001b[31m[16:59:50] src/tree/updater_prune.cc:74: tree pruning end, 1 roots, 20 extra nodes, 0 pruned nodes, max_depth=5\u001b[0m\n",
      "\u001b[31m[72]#011train-error:0.120133#011validation-error:0.1567\u001b[0m\n",
      "\u001b[31m[16:59:51] src/tree/updater_prune.cc:74: tree pruning end, 1 roots, 20 extra nodes, 2 pruned nodes, max_depth=5\u001b[0m\n",
      "\u001b[31m[73]#011train-error:0.119533#011validation-error:0.1556\u001b[0m\n",
      "\u001b[31m[16:59:53] src/tree/updater_prune.cc:74: tree pruning end, 1 roots, 32 extra nodes, 0 pruned nodes, max_depth=5\u001b[0m\n",
      "\u001b[31m[74]#011train-error:0.118733#011validation-error:0.1557\u001b[0m\n",
      "\u001b[31m[16:59:54] src/tree/updater_prune.cc:74: tree pruning end, 1 roots, 24 extra nodes, 0 pruned nodes, max_depth=5\u001b[0m\n",
      "\u001b[31m[75]#011train-error:0.118467#011validation-error:0.1544\u001b[0m\n",
      "\u001b[31m[16:59:56] src/tree/updater_prune.cc:74: tree pruning end, 1 roots, 28 extra nodes, 0 pruned nodes, max_depth=5\u001b[0m\n",
      "\u001b[31m[76]#011train-error:0.117133#011validation-error:0.1539\u001b[0m\n",
      "\u001b[31m[16:59:57] src/tree/updater_prune.cc:74: tree pruning end, 1 roots, 30 extra nodes, 0 pruned nodes, max_depth=5\u001b[0m\n",
      "\u001b[31m[77]#011train-error:0.116533#011validation-error:0.1531\u001b[0m\n",
      "\u001b[31m[16:59:59] src/tree/updater_prune.cc:74: tree pruning end, 1 roots, 34 extra nodes, 0 pruned nodes, max_depth=5\u001b[0m\n",
      "\u001b[31m[78]#011train-error:0.1158#011validation-error:0.1525\u001b[0m\n",
      "\u001b[31m[17:00:00] src/tree/updater_prune.cc:74: tree pruning end, 1 roots, 22 extra nodes, 2 pruned nodes, max_depth=5\u001b[0m\n",
      "\u001b[31m[79]#011train-error:0.1156#011validation-error:0.1528\u001b[0m\n",
      "\u001b[31m[17:00:01] src/tree/updater_prune.cc:74: tree pruning end, 1 roots, 24 extra nodes, 0 pruned nodes, max_depth=5\u001b[0m\n",
      "\u001b[31m[80]#011train-error:0.114867#011validation-error:0.1516\u001b[0m\n",
      "\u001b[31m[17:00:03] src/tree/updater_prune.cc:74: tree pruning end, 1 roots, 20 extra nodes, 0 pruned nodes, max_depth=5\u001b[0m\n",
      "\u001b[31m[81]#011train-error:0.1148#011validation-error:0.1514\u001b[0m\n",
      "\u001b[31m[17:00:04] src/tree/updater_prune.cc:74: tree pruning end, 1 roots, 30 extra nodes, 0 pruned nodes, max_depth=5\u001b[0m\n",
      "\u001b[31m[82]#011train-error:0.112733#011validation-error:0.1513\u001b[0m\n",
      "\u001b[31m[17:00:06] src/tree/updater_prune.cc:74: tree pruning end, 1 roots, 30 extra nodes, 0 pruned nodes, max_depth=5\u001b[0m\n",
      "\u001b[31m[83]#011train-error:0.113333#011validation-error:0.1511\u001b[0m\n",
      "\u001b[31m[17:00:07] src/tree/updater_prune.cc:74: tree pruning end, 1 roots, 20 extra nodes, 0 pruned nodes, max_depth=5\u001b[0m\n",
      "\u001b[31m[84]#011train-error:0.113067#011validation-error:0.1513\u001b[0m\n",
      "\u001b[31m[17:00:08] src/tree/updater_prune.cc:74: tree pruning end, 1 roots, 30 extra nodes, 4 pruned nodes, max_depth=5\u001b[0m\n",
      "\u001b[31m[85]#011train-error:0.111933#011validation-error:0.1512\u001b[0m\n",
      "\u001b[31m[17:00:10] src/tree/updater_prune.cc:74: tree pruning end, 1 roots, 22 extra nodes, 0 pruned nodes, max_depth=5\u001b[0m\n",
      "\u001b[31m[86]#011train-error:0.110733#011validation-error:0.1507\u001b[0m\n",
      "\u001b[31m[17:00:11] src/tree/updater_prune.cc:74: tree pruning end, 1 roots, 20 extra nodes, 0 pruned nodes, max_depth=5\u001b[0m\n",
      "\u001b[31m[87]#011train-error:0.110267#011validation-error:0.1503\u001b[0m\n",
      "\u001b[31m[17:00:13] src/tree/updater_prune.cc:74: tree pruning end, 1 roots, 34 extra nodes, 0 pruned nodes, max_depth=5\u001b[0m\n",
      "\u001b[31m[88]#011train-error:0.110133#011validation-error:0.1509\u001b[0m\n",
      "\u001b[31m[17:00:14] src/tree/updater_prune.cc:74: tree pruning end, 1 roots, 16 extra nodes, 0 pruned nodes, max_depth=5\u001b[0m\n",
      "\u001b[31m[89]#011train-error:0.11#011validation-error:0.151\u001b[0m\n",
      "\u001b[31m[17:00:16] src/tree/updater_prune.cc:74: tree pruning end, 1 roots, 22 extra nodes, 0 pruned nodes, max_depth=5\u001b[0m\n",
      "\u001b[31m[90]#011train-error:0.110067#011validation-error:0.1505\u001b[0m\n",
      "\u001b[31m[17:00:17] src/tree/updater_prune.cc:74: tree pruning end, 1 roots, 26 extra nodes, 0 pruned nodes, max_depth=5\u001b[0m\n",
      "\u001b[31m[91]#011train-error:0.108533#011validation-error:0.1504\u001b[0m\n",
      "\u001b[31m[17:00:18] src/tree/updater_prune.cc:74: tree pruning end, 1 roots, 24 extra nodes, 0 pruned nodes, max_depth=5\u001b[0m\n",
      "\u001b[31m[92]#011train-error:0.107933#011validation-error:0.149\u001b[0m\n",
      "\u001b[31m[17:00:20] src/tree/updater_prune.cc:74: tree pruning end, 1 roots, 30 extra nodes, 0 pruned nodes, max_depth=5\u001b[0m\n",
      "\u001b[31m[93]#011train-error:0.107133#011validation-error:0.1486\u001b[0m\n",
      "\u001b[31m[17:00:21] src/tree/updater_prune.cc:74: tree pruning end, 1 roots, 20 extra nodes, 0 pruned nodes, max_depth=5\u001b[0m\n",
      "\u001b[31m[94]#011train-error:0.106667#011validation-error:0.1484\u001b[0m\n",
      "\u001b[31m[17:00:23] src/tree/updater_prune.cc:74: tree pruning end, 1 roots, 28 extra nodes, 0 pruned nodes, max_depth=5\u001b[0m\n",
      "\u001b[31m[95]#011train-error:0.106133#011validation-error:0.148\u001b[0m\n",
      "\u001b[31m[17:00:24] src/tree/updater_prune.cc:74: tree pruning end, 1 roots, 32 extra nodes, 0 pruned nodes, max_depth=5\u001b[0m\n",
      "\u001b[31m[96]#011train-error:0.105933#011validation-error:0.1483\u001b[0m\n",
      "\u001b[31m[17:00:25] src/tree/updater_prune.cc:74: tree pruning end, 1 roots, 22 extra nodes, 0 pruned nodes, max_depth=5\u001b[0m\n",
      "\u001b[31m[97]#011train-error:0.106267#011validation-error:0.1483\u001b[0m\n",
      "\u001b[31m[17:00:27] src/tree/updater_prune.cc:74: tree pruning end, 1 roots, 24 extra nodes, 0 pruned nodes, max_depth=5\u001b[0m\n",
      "\u001b[31m[98]#011train-error:0.1056#011validation-error:0.1476\u001b[0m\n",
      "\u001b[31m[17:00:28] src/tree/updater_prune.cc:74: tree pruning end, 1 roots, 40 extra nodes, 0 pruned nodes, max_depth=5\u001b[0m\n",
      "\u001b[31m[99]#011train-error:0.1052#011validation-error:0.1479\u001b[0m\n",
      "\u001b[31m[17:00:30] src/tree/updater_prune.cc:74: tree pruning end, 1 roots, 22 extra nodes, 2 pruned nodes, max_depth=5\u001b[0m\n",
      "\u001b[31m[100]#011train-error:0.1048#011validation-error:0.1478\u001b[0m\n",
      "\u001b[31m[17:00:31] src/tree/updater_prune.cc:74: tree pruning end, 1 roots, 36 extra nodes, 0 pruned nodes, max_depth=5\u001b[0m\n",
      "\u001b[31m[101]#011train-error:0.103867#011validation-error:0.1482\u001b[0m\n",
      "\u001b[31m[17:00:33] src/tree/updater_prune.cc:74: tree pruning end, 1 roots, 30 extra nodes, 0 pruned nodes, max_depth=5\u001b[0m\n",
      "\u001b[31m[102]#011train-error:0.1028#011validation-error:0.1482\u001b[0m\n",
      "\u001b[31m[17:00:34] src/tree/updater_prune.cc:74: tree pruning end, 1 roots, 18 extra nodes, 0 pruned nodes, max_depth=5\u001b[0m\n",
      "\u001b[31m[103]#011train-error:0.102267#011validation-error:0.1477\u001b[0m\n",
      "\u001b[31m[17:00:35] src/tree/updater_prune.cc:74: tree pruning end, 1 roots, 16 extra nodes, 0 pruned nodes, max_depth=5\u001b[0m\n",
      "\u001b[31m[104]#011train-error:0.1018#011validation-error:0.1476\u001b[0m\n",
      "\u001b[31m[17:00:37] src/tree/updater_prune.cc:74: tree pruning end, 1 roots, 20 extra nodes, 0 pruned nodes, max_depth=5\u001b[0m\n",
      "\u001b[31m[105]#011train-error:0.1014#011validation-error:0.1473\u001b[0m\n",
      "\u001b[31m[17:00:38] src/tree/updater_prune.cc:74: tree pruning end, 1 roots, 40 extra nodes, 2 pruned nodes, max_depth=5\u001b[0m\n",
      "\u001b[31m[106]#011train-error:0.101467#011validation-error:0.1468\u001b[0m\n",
      "\u001b[31m[17:00:40] src/tree/updater_prune.cc:74: tree pruning end, 1 roots, 22 extra nodes, 0 pruned nodes, max_depth=5\u001b[0m\n",
      "\u001b[31m[107]#011train-error:0.100533#011validation-error:0.1464\u001b[0m\n",
      "\u001b[31m[17:00:41] src/tree/updater_prune.cc:74: tree pruning end, 1 roots, 32 extra nodes, 0 pruned nodes, max_depth=5\u001b[0m\n",
      "\u001b[31m[108]#011train-error:0.100067#011validation-error:0.1461\u001b[0m\n",
      "\u001b[31m[17:00:43] src/tree/updater_prune.cc:74: tree pruning end, 1 roots, 26 extra nodes, 0 pruned nodes, max_depth=5\u001b[0m\n",
      "\u001b[31m[109]#011train-error:0.1#011validation-error:0.1459\u001b[0m\n",
      "\u001b[31m[17:00:44] src/tree/updater_prune.cc:74: tree pruning end, 1 roots, 12 extra nodes, 0 pruned nodes, max_depth=5\u001b[0m\n",
      "\u001b[31m[110]#011train-error:0.099533#011validation-error:0.1465\u001b[0m\n",
      "\u001b[31m[17:00:45] src/tree/updater_prune.cc:74: tree pruning end, 1 roots, 22 extra nodes, 0 pruned nodes, max_depth=5\u001b[0m\n",
      "\u001b[31m[111]#011train-error:0.0986#011validation-error:0.1456\u001b[0m\n",
      "\u001b[31m[17:00:47] src/tree/updater_prune.cc:74: tree pruning end, 1 roots, 32 extra nodes, 0 pruned nodes, max_depth=5\u001b[0m\n",
      "\u001b[31m[112]#011train-error:0.097#011validation-error:0.1447\u001b[0m\n",
      "\u001b[31m[17:00:48] src/tree/updater_prune.cc:74: tree pruning end, 1 roots, 16 extra nodes, 0 pruned nodes, max_depth=5\u001b[0m\n",
      "\u001b[31m[113]#011train-error:0.097333#011validation-error:0.1444\u001b[0m\n",
      "\u001b[31m[17:00:50] src/tree/updater_prune.cc:74: tree pruning end, 1 roots, 28 extra nodes, 0 pruned nodes, max_depth=5\u001b[0m\n",
      "\u001b[31m[114]#011train-error:0.097067#011validation-error:0.1448\u001b[0m\n",
      "\u001b[31m[17:00:51] src/tree/updater_prune.cc:74: tree pruning end, 1 roots, 34 extra nodes, 0 pruned nodes, max_depth=5\u001b[0m\n",
      "\u001b[31m[115]#011train-error:0.096133#011validation-error:0.1434\u001b[0m\n",
      "\u001b[31m[17:00:53] src/tree/updater_prune.cc:74: tree pruning end, 1 roots, 22 extra nodes, 0 pruned nodes, max_depth=5\u001b[0m\n",
      "\u001b[31m[116]#011train-error:0.0956#011validation-error:0.1431\u001b[0m\n",
      "\u001b[31m[17:00:54] src/tree/updater_prune.cc:74: tree pruning end, 1 roots, 24 extra nodes, 0 pruned nodes, max_depth=5\u001b[0m\n",
      "\u001b[31m[117]#011train-error:0.095467#011validation-error:0.1434\u001b[0m\n",
      "\u001b[31m[17:00:55] src/tree/updater_prune.cc:74: tree pruning end, 1 roots, 22 extra nodes, 0 pruned nodes, max_depth=5\u001b[0m\n",
      "\u001b[31m[118]#011train-error:0.095333#011validation-error:0.1426\u001b[0m\n",
      "\u001b[31m[17:00:57] src/tree/updater_prune.cc:74: tree pruning end, 1 roots, 12 extra nodes, 2 pruned nodes, max_depth=5\u001b[0m\n",
      "\u001b[31m[119]#011train-error:0.095067#011validation-error:0.143\u001b[0m\n",
      "\u001b[31m[17:00:58] src/tree/updater_prune.cc:74: tree pruning end, 1 roots, 26 extra nodes, 0 pruned nodes, max_depth=5\u001b[0m\n",
      "\u001b[31m[120]#011train-error:0.094667#011validation-error:0.143\u001b[0m\n",
      "\u001b[31m[17:01:00] src/tree/updater_prune.cc:74: tree pruning end, 1 roots, 14 extra nodes, 0 pruned nodes, max_depth=5\u001b[0m\n",
      "\u001b[31m[121]#011train-error:0.0938#011validation-error:0.1419\u001b[0m\n",
      "\u001b[31m[17:01:01] src/tree/updater_prune.cc:74: tree pruning end, 1 roots, 26 extra nodes, 2 pruned nodes, max_depth=5\u001b[0m\n",
      "\u001b[31m[122]#011train-error:0.093067#011validation-error:0.1414\u001b[0m\n",
      "\u001b[31m[17:01:03] src/tree/updater_prune.cc:74: tree pruning end, 1 roots, 18 extra nodes, 2 pruned nodes, max_depth=5\u001b[0m\n",
      "\u001b[31m[123]#011train-error:0.0928#011validation-error:0.1411\u001b[0m\n",
      "\u001b[31m[17:01:04] src/tree/updater_prune.cc:74: tree pruning end, 1 roots, 24 extra nodes, 0 pruned nodes, max_depth=5\u001b[0m\n",
      "\u001b[31m[124]#011train-error:0.092333#011validation-error:0.141\u001b[0m\n",
      "\u001b[31m[17:01:05] src/tree/updater_prune.cc:74: tree pruning end, 1 roots, 16 extra nodes, 2 pruned nodes, max_depth=5\u001b[0m\n",
      "\u001b[31m[125]#011train-error:0.091933#011validation-error:0.1407\u001b[0m\n",
      "\u001b[31m[17:01:07] src/tree/updater_prune.cc:74: tree pruning end, 1 roots, 26 extra nodes, 0 pruned nodes, max_depth=5\u001b[0m\n",
      "\u001b[31m[126]#011train-error:0.091267#011validation-error:0.1408\u001b[0m\n",
      "\u001b[31m[17:01:08] src/tree/updater_prune.cc:74: tree pruning end, 1 roots, 24 extra nodes, 0 pruned nodes, max_depth=5\u001b[0m\n",
      "\u001b[31m[127]#011train-error:0.090267#011validation-error:0.1414\u001b[0m\n",
      "\u001b[31m[17:01:10] src/tree/updater_prune.cc:74: tree pruning end, 1 roots, 30 extra nodes, 0 pruned nodes, max_depth=5\u001b[0m\n",
      "\u001b[31m[128]#011train-error:0.090067#011validation-error:0.1397\u001b[0m\n",
      "\u001b[31m[17:01:11] src/tree/updater_prune.cc:74: tree pruning end, 1 roots, 12 extra nodes, 0 pruned nodes, max_depth=5\u001b[0m\n",
      "\u001b[31m[129]#011train-error:0.089467#011validation-error:0.1402\u001b[0m\n",
      "\u001b[31m[17:01:12] src/tree/updater_prune.cc:74: tree pruning end, 1 roots, 14 extra nodes, 0 pruned nodes, max_depth=5\u001b[0m\n",
      "\u001b[31m[130]#011train-error:0.0892#011validation-error:0.1394\u001b[0m\n",
      "\u001b[31m[17:01:14] src/tree/updater_prune.cc:74: tree pruning end, 1 roots, 32 extra nodes, 0 pruned nodes, max_depth=5\u001b[0m\n",
      "\u001b[31m[131]#011train-error:0.089333#011validation-error:0.1398\u001b[0m\n",
      "\u001b[31m[17:01:15] src/tree/updater_prune.cc:74: tree pruning end, 1 roots, 20 extra nodes, 2 pruned nodes, max_depth=5\u001b[0m\n",
      "\u001b[31m[132]#011train-error:0.089267#011validation-error:0.1395\u001b[0m\n",
      "\u001b[31m[17:01:17] src/tree/updater_prune.cc:74: tree pruning end, 1 roots, 26 extra nodes, 0 pruned nodes, max_depth=5\u001b[0m\n",
      "\u001b[31m[133]#011train-error:0.0886#011validation-error:0.1389\u001b[0m\n",
      "\u001b[31m[17:01:18] src/tree/updater_prune.cc:74: tree pruning end, 1 roots, 22 extra nodes, 0 pruned nodes, max_depth=5\u001b[0m\n",
      "\u001b[31m[134]#011train-error:0.0884#011validation-error:0.1383\u001b[0m\n",
      "\u001b[31m[17:01:19] src/tree/updater_prune.cc:74: tree pruning end, 1 roots, 14 extra nodes, 0 pruned nodes, max_depth=5\u001b[0m\n",
      "\u001b[31m[135]#011train-error:0.0886#011validation-error:0.1387\u001b[0m\n",
      "\u001b[31m[17:01:21] src/tree/updater_prune.cc:74: tree pruning end, 1 roots, 20 extra nodes, 0 pruned nodes, max_depth=5\u001b[0m\n",
      "\u001b[31m[136]#011train-error:0.088267#011validation-error:0.1393\u001b[0m\n",
      "\u001b[31m[17:01:22] src/tree/updater_prune.cc:74: tree pruning end, 1 roots, 20 extra nodes, 0 pruned nodes, max_depth=5\u001b[0m\n",
      "\u001b[31m[137]#011train-error:0.0878#011validation-error:0.1387\u001b[0m\n",
      "\u001b[31m[17:01:24] src/tree/updater_prune.cc:74: tree pruning end, 1 roots, 20 extra nodes, 0 pruned nodes, max_depth=5\u001b[0m\n",
      "\u001b[31m[138]#011train-error:0.087667#011validation-error:0.139\u001b[0m\n",
      "\u001b[31m[17:01:25] src/tree/updater_prune.cc:74: tree pruning end, 1 roots, 28 extra nodes, 0 pruned nodes, max_depth=5\u001b[0m\n",
      "\u001b[31m[139]#011train-error:0.088267#011validation-error:0.1384\u001b[0m\n",
      "\u001b[31m[17:01:27] src/tree/updater_prune.cc:74: tree pruning end, 1 roots, 40 extra nodes, 0 pruned nodes, max_depth=5\u001b[0m\n",
      "\u001b[31m[140]#011train-error:0.0876#011validation-error:0.1382\u001b[0m\n",
      "\u001b[31m[17:01:28] src/tree/updater_prune.cc:74: tree pruning end, 1 roots, 26 extra nodes, 0 pruned nodes, max_depth=5\u001b[0m\n",
      "\u001b[31m[141]#011train-error:0.0874#011validation-error:0.1376\u001b[0m\n",
      "\u001b[31m[17:01:29] src/tree/updater_prune.cc:74: tree pruning end, 1 roots, 28 extra nodes, 0 pruned nodes, max_depth=5\u001b[0m\n",
      "\u001b[31m[142]#011train-error:0.085933#011validation-error:0.1369\u001b[0m\n",
      "\u001b[31m[17:01:31] src/tree/updater_prune.cc:74: tree pruning end, 1 roots, 12 extra nodes, 0 pruned nodes, max_depth=5\u001b[0m\n",
      "\u001b[31m[143]#011train-error:0.0858#011validation-error:0.1369\u001b[0m\n",
      "\u001b[31m[17:01:32] src/tree/updater_prune.cc:74: tree pruning end, 1 roots, 22 extra nodes, 0 pruned nodes, max_depth=5\u001b[0m\n",
      "\u001b[31m[144]#011train-error:0.086133#011validation-error:0.1369\u001b[0m\n",
      "\u001b[31m[17:01:34] src/tree/updater_prune.cc:74: tree pruning end, 1 roots, 16 extra nodes, 0 pruned nodes, max_depth=5\u001b[0m\n",
      "\u001b[31m[145]#011train-error:0.086#011validation-error:0.1374\u001b[0m\n",
      "\u001b[31m[17:01:35] src/tree/updater_prune.cc:74: tree pruning end, 1 roots, 32 extra nodes, 0 pruned nodes, max_depth=5\u001b[0m\n",
      "\u001b[31m[146]#011train-error:0.085333#011validation-error:0.1379\u001b[0m\n",
      "\u001b[31m[17:01:36] src/tree/updater_prune.cc:74: tree pruning end, 1 roots, 34 extra nodes, 2 pruned nodes, max_depth=5\u001b[0m\n",
      "\u001b[31m[147]#011train-error:0.085867#011validation-error:0.1383\u001b[0m\n",
      "\u001b[31m[17:01:38] src/tree/updater_prune.cc:74: tree pruning end, 1 roots, 18 extra nodes, 0 pruned nodes, max_depth=5\u001b[0m\n",
      "\u001b[31m[148]#011train-error:0.085867#011validation-error:0.1385\u001b[0m\n",
      "\u001b[31m[17:01:39] src/tree/updater_prune.cc:74: tree pruning end, 1 roots, 32 extra nodes, 0 pruned nodes, max_depth=5\u001b[0m\n",
      "\u001b[31m[149]#011train-error:0.0848#011validation-error:0.1379\u001b[0m\n",
      "\u001b[31m[17:01:41] src/tree/updater_prune.cc:74: tree pruning end, 1 roots, 16 extra nodes, 0 pruned nodes, max_depth=5\u001b[0m\n",
      "\u001b[31m[150]#011train-error:0.084067#011validation-error:0.1378\u001b[0m\n",
      "\u001b[31m[17:01:42] src/tree/updater_prune.cc:74: tree pruning end, 1 roots, 22 extra nodes, 0 pruned nodes, max_depth=5\u001b[0m\n",
      "\u001b[31m[151]#011train-error:0.083867#011validation-error:0.1376\u001b[0m\n",
      "\u001b[31m[17:01:44] src/tree/updater_prune.cc:74: tree pruning end, 1 roots, 12 extra nodes, 0 pruned nodes, max_depth=5\u001b[0m\n",
      "\u001b[31m[152]#011train-error:0.084267#011validation-error:0.1373\u001b[0m\n",
      "\u001b[31mStopping. Best iteration:\u001b[0m\n",
      "\u001b[31m[142]#011train-error:0.085933#011validation-error:0.1369\n",
      "\u001b[0m\n",
      "Training seconds: 271\n",
      "Billable seconds: 271\n"
     ]
    }
   ],
   "source": [
    "# TODO: Create a new estimator object attached to the best training job found during hyperparameter tuning\n",
    "\n",
    "xgb_attached = sagemaker.estimator.Estimator.attach(xgb_hyperparameter_tuner.best_training_job())\n"
   ]
  },
  {
   "cell_type": "markdown",
   "metadata": {},
   "source": [
    "Now that we have an estimator object attached to the correct training job, we can proceed as we normally would and create a transformer object."
   ]
  },
  {
   "cell_type": "code",
   "execution_count": 15,
   "metadata": {},
   "outputs": [],
   "source": [
    "# TODO: Create a transformer object from the attached estimator. Using an instance count of 1 and an instance type of ml.m4.xlarge\n",
    "#       should be more than enough.\n",
    "\n",
    "xgb_transformer = xgb_attached.transformer(instance_count = 1, instance_type = 'ml.m4.xlarge')\n"
   ]
  },
  {
   "cell_type": "markdown",
   "metadata": {},
   "source": [
    "Next we actually perform the transform job. When doing so we need to make sure to specify the type of data we are sending so that it is serialized correctly in the background. In our case we are providing our model with csv data so we specify `text/csv`. Also, if the test data that we have provided is too large to process all at once then we need to specify how the data file should be split up. Since each line is a single entry in our data set we tell SageMaker that it can split the input on each line."
   ]
  },
  {
   "cell_type": "code",
   "execution_count": 16,
   "metadata": {},
   "outputs": [],
   "source": [
    "# TODO: Start the transform job. Make sure to specify the content type and the split type of the test data.\n",
    "xgb_transformer.transform(test_location, content_type='text/csv', split_type='Line')"
   ]
  },
  {
   "cell_type": "markdown",
   "metadata": {},
   "source": [
    "Currently the transform job is running but it is doing so in the background. Since we wish to wait until the transform job is done and we would like a bit of feedback we can run the `wait()` method."
   ]
  },
  {
   "cell_type": "code",
   "execution_count": 17,
   "metadata": {},
   "outputs": [
    {
     "name": "stdout",
     "output_type": "stream",
     "text": [
      "...................\u001b[31mArguments: serve\u001b[0m\n",
      "\u001b[31m[2019-10-20 17:13:04 +0000] [1] [INFO] Starting gunicorn 19.7.1\u001b[0m\n",
      "\u001b[31m[2019-10-20 17:13:04 +0000] [1] [INFO] Listening at: http://0.0.0.0:8080 (1)\u001b[0m\n",
      "\u001b[31m[2019-10-20 17:13:04 +0000] [1] [INFO] Using worker: gevent\u001b[0m\n",
      "\u001b[31m[2019-10-20 17:13:04 +0000] [38] [INFO] Booting worker with pid: 38\u001b[0m\n",
      "\u001b[31m[2019-10-20 17:13:04 +0000] [39] [INFO] Booting worker with pid: 39\u001b[0m\n",
      "\u001b[31m[2019-10-20 17:13:04 +0000] [40] [INFO] Booting worker with pid: 40\u001b[0m\n",
      "\u001b[31m[2019-10-20 17:13:04 +0000] [41] [INFO] Booting worker with pid: 41\u001b[0m\n",
      "\u001b[31m[2019-10-20:17:13:04:INFO] Model loaded successfully for worker : 39\u001b[0m\n",
      "\u001b[31m[2019-10-20:17:13:04:INFO] Model loaded successfully for worker : 38\u001b[0m\n",
      "\u001b[31m[2019-10-20:17:13:04:INFO] Model loaded successfully for worker : 41\u001b[0m\n",
      "\u001b[31m[2019-10-20:17:13:04:INFO] Model loaded successfully for worker : 40\u001b[0m\n",
      "\u001b[31m[2019-10-20:17:13:18:INFO] Sniff delimiter as ','\u001b[0m\n",
      "\u001b[31m[2019-10-20:17:13:18:INFO] Determined delimiter of CSV input is ','\u001b[0m\n",
      "\u001b[31m[2019-10-20:17:13:18:INFO] Sniff delimiter as ','\u001b[0m\n",
      "\u001b[31m[2019-10-20:17:13:18:INFO] Determined delimiter of CSV input is ','\u001b[0m\n",
      "\u001b[31m[2019-10-20:17:13:18:INFO] Sniff delimiter as ','\u001b[0m\n",
      "\u001b[31m[2019-10-20:17:13:18:INFO] Determined delimiter of CSV input is ','\u001b[0m\n",
      "\u001b[32m[2019-10-20:17:13:18:INFO] Sniff delimiter as ','\u001b[0m\n",
      "\u001b[32m[2019-10-20:17:13:18:INFO] Determined delimiter of CSV input is ','\u001b[0m\n",
      "\u001b[32m[2019-10-20:17:13:18:INFO] Sniff delimiter as ','\u001b[0m\n",
      "\u001b[32m[2019-10-20:17:13:18:INFO] Determined delimiter of CSV input is ','\u001b[0m\n",
      "\u001b[32m[2019-10-20:17:13:18:INFO] Sniff delimiter as ','\u001b[0m\n",
      "\u001b[32m[2019-10-20:17:13:18:INFO] Determined delimiter of CSV input is ','\u001b[0m\n",
      "\u001b[33m2019-10-20T17:13:15.219:[sagemaker logs]: MaxConcurrentTransforms=4, MaxPayloadInMB=6, BatchStrategy=MULTI_RECORD\u001b[0m\n",
      "\u001b[31m[2019-10-20:17:13:19:INFO] Sniff delimiter as ','\u001b[0m\n",
      "\u001b[31m[2019-10-20:17:13:19:INFO] Determined delimiter of CSV input is ','\u001b[0m\n",
      "\u001b[32m[2019-10-20:17:13:19:INFO] Sniff delimiter as ','\u001b[0m\n",
      "\u001b[32m[2019-10-20:17:13:19:INFO] Determined delimiter of CSV input is ','\u001b[0m\n",
      "\u001b[31m[2019-10-20:17:13:20:INFO] Sniff delimiter as ','\u001b[0m\n",
      "\u001b[31m[2019-10-20:17:13:20:INFO] Determined delimiter of CSV input is ','\u001b[0m\n",
      "\u001b[31m[2019-10-20:17:13:20:INFO] Sniff delimiter as ','\u001b[0m\n",
      "\u001b[31m[2019-10-20:17:13:20:INFO] Determined delimiter of CSV input is ','\u001b[0m\n",
      "\u001b[31m[2019-10-20:17:13:21:INFO] Sniff delimiter as ','\u001b[0m\n",
      "\u001b[31m[2019-10-20:17:13:21:INFO] Determined delimiter of CSV input is ','\u001b[0m\n",
      "\u001b[32m[2019-10-20:17:13:20:INFO] Sniff delimiter as ','\u001b[0m\n",
      "\u001b[32m[2019-10-20:17:13:20:INFO] Determined delimiter of CSV input is ','\u001b[0m\n",
      "\u001b[32m[2019-10-20:17:13:20:INFO] Sniff delimiter as ','\u001b[0m\n",
      "\u001b[32m[2019-10-20:17:13:20:INFO] Determined delimiter of CSV input is ','\u001b[0m\n",
      "\u001b[32m[2019-10-20:17:13:21:INFO] Sniff delimiter as ','\u001b[0m\n",
      "\u001b[32m[2019-10-20:17:13:21:INFO] Determined delimiter of CSV input is ','\u001b[0m\n",
      "\u001b[31m[2019-10-20:17:13:22:INFO] Sniff delimiter as ','\u001b[0m\n",
      "\u001b[31m[2019-10-20:17:13:22:INFO] Determined delimiter of CSV input is ','\u001b[0m\n",
      "\u001b[32m[2019-10-20:17:13:22:INFO] Sniff delimiter as ','\u001b[0m\n",
      "\u001b[32m[2019-10-20:17:13:22:INFO] Determined delimiter of CSV input is ','\u001b[0m\n",
      "\u001b[31m[2019-10-20:17:13:23:INFO] Sniff delimiter as ','\u001b[0m\n",
      "\u001b[31m[2019-10-20:17:13:23:INFO] Determined delimiter of CSV input is ','\u001b[0m\n",
      "\u001b[32m[2019-10-20:17:13:23:INFO] Sniff delimiter as ','\u001b[0m\n",
      "\u001b[32m[2019-10-20:17:13:23:INFO] Determined delimiter of CSV input is ','\u001b[0m\n",
      "\u001b[31m[2019-10-20:17:13:24:INFO] Sniff delimiter as ','\u001b[0m\n",
      "\u001b[31m[2019-10-20:17:13:24:INFO] Determined delimiter of CSV input is ','\u001b[0m\n",
      "\u001b[31m[2019-10-20:17:13:24:INFO] Sniff delimiter as ','\u001b[0m\n",
      "\u001b[31m[2019-10-20:17:13:24:INFO] Determined delimiter of CSV input is ','\u001b[0m\n",
      "\u001b[31m[2019-10-20:17:13:24:INFO] Sniff delimiter as ','\u001b[0m\n",
      "\u001b[31m[2019-10-20:17:13:24:INFO] Determined delimiter of CSV input is ','\u001b[0m\n",
      "\u001b[31m[2019-10-20:17:13:24:INFO] Sniff delimiter as ','\u001b[0m\n",
      "\u001b[31m[2019-10-20:17:13:24:INFO] Determined delimiter of CSV input is ','\u001b[0m\n",
      "\u001b[32m[2019-10-20:17:13:24:INFO] Sniff delimiter as ','\u001b[0m\n",
      "\u001b[32m[2019-10-20:17:13:24:INFO] Determined delimiter of CSV input is ','\u001b[0m\n",
      "\u001b[32m[2019-10-20:17:13:24:INFO] Sniff delimiter as ','\u001b[0m\n",
      "\u001b[32m[2019-10-20:17:13:24:INFO] Determined delimiter of CSV input is ','\u001b[0m\n",
      "\u001b[32m[2019-10-20:17:13:24:INFO] Sniff delimiter as ','\u001b[0m\n",
      "\u001b[32m[2019-10-20:17:13:24:INFO] Determined delimiter of CSV input is ','\u001b[0m\n",
      "\u001b[32m[2019-10-20:17:13:24:INFO] Sniff delimiter as ','\u001b[0m\n",
      "\u001b[32m[2019-10-20:17:13:24:INFO] Determined delimiter of CSV input is ','\u001b[0m\n",
      "\u001b[31m[2019-10-20:17:13:26:INFO] Sniff delimiter as ','\u001b[0m\n",
      "\u001b[31m[2019-10-20:17:13:26:INFO] Determined delimiter of CSV input is ','\u001b[0m\n",
      "\u001b[31m[2019-10-20:17:13:26:INFO] Sniff delimiter as ','\u001b[0m\n",
      "\u001b[31m[2019-10-20:17:13:26:INFO] Determined delimiter of CSV input is ','\u001b[0m\n",
      "\u001b[31m[2019-10-20:17:13:26:INFO] Sniff delimiter as ','\u001b[0m\n",
      "\u001b[31m[2019-10-20:17:13:26:INFO] Determined delimiter of CSV input is ','\u001b[0m\n",
      "\u001b[31m[2019-10-20:17:13:27:INFO] Sniff delimiter as ','\u001b[0m\n",
      "\u001b[31m[2019-10-20:17:13:27:INFO] Determined delimiter of CSV input is ','\u001b[0m\n",
      "\u001b[32m[2019-10-20:17:13:26:INFO] Sniff delimiter as ','\u001b[0m\n",
      "\u001b[32m[2019-10-20:17:13:26:INFO] Determined delimiter of CSV input is ','\u001b[0m\n",
      "\u001b[32m[2019-10-20:17:13:26:INFO] Sniff delimiter as ','\u001b[0m\n",
      "\u001b[32m[2019-10-20:17:13:26:INFO] Determined delimiter of CSV input is ','\u001b[0m\n",
      "\u001b[32m[2019-10-20:17:13:26:INFO] Sniff delimiter as ','\u001b[0m\n",
      "\u001b[32m[2019-10-20:17:13:26:INFO] Determined delimiter of CSV input is ','\u001b[0m\n",
      "\u001b[32m[2019-10-20:17:13:27:INFO] Sniff delimiter as ','\u001b[0m\n",
      "\u001b[32m[2019-10-20:17:13:27:INFO] Determined delimiter of CSV input is ','\u001b[0m\n",
      "\u001b[31m[2019-10-20:17:13:29:INFO] Sniff delimiter as ','\u001b[0m\n",
      "\u001b[31m[2019-10-20:17:13:29:INFO] Determined delimiter of CSV input is ','\u001b[0m\n",
      "\u001b[31m[2019-10-20:17:13:29:INFO] Sniff delimiter as ','\u001b[0m\n",
      "\u001b[31m[2019-10-20:17:13:29:INFO] Determined delimiter of CSV input is ','\u001b[0m\n",
      "\u001b[31m[2019-10-20:17:13:29:INFO] Sniff delimiter as ','\u001b[0m\n",
      "\u001b[31m[2019-10-20:17:13:29:INFO] Determined delimiter of CSV input is ','\u001b[0m\n",
      "\u001b[32m[2019-10-20:17:13:29:INFO] Sniff delimiter as ','\u001b[0m\n",
      "\u001b[32m[2019-10-20:17:13:29:INFO] Determined delimiter of CSV input is ','\u001b[0m\n",
      "\u001b[32m[2019-10-20:17:13:29:INFO] Sniff delimiter as ','\u001b[0m\n",
      "\u001b[32m[2019-10-20:17:13:29:INFO] Determined delimiter of CSV input is ','\u001b[0m\n",
      "\u001b[32m[2019-10-20:17:13:29:INFO] Sniff delimiter as ','\u001b[0m\n",
      "\u001b[32m[2019-10-20:17:13:29:INFO] Determined delimiter of CSV input is ','\u001b[0m\n",
      "\u001b[31m[2019-10-20:17:13:31:INFO] Sniff delimiter as ','\u001b[0m\n",
      "\u001b[31m[2019-10-20:17:13:31:INFO] Determined delimiter of CSV input is ','\u001b[0m\n",
      "\u001b[31m[2019-10-20:17:13:31:INFO] Sniff delimiter as ','\u001b[0m\n",
      "\u001b[31m[2019-10-20:17:13:31:INFO] Determined delimiter of CSV input is ','\u001b[0m\n",
      "\u001b[32m[2019-10-20:17:13:31:INFO] Sniff delimiter as ','\u001b[0m\n",
      "\u001b[32m[2019-10-20:17:13:31:INFO] Determined delimiter of CSV input is ','\u001b[0m\n",
      "\u001b[32m[2019-10-20:17:13:31:INFO] Sniff delimiter as ','\u001b[0m\n",
      "\u001b[32m[2019-10-20:17:13:31:INFO] Determined delimiter of CSV input is ','\u001b[0m\n",
      "\u001b[31m[2019-10-20:17:13:33:INFO] Sniff delimiter as ','\u001b[0m\n",
      "\u001b[31m[2019-10-20:17:13:33:INFO] Determined delimiter of CSV input is ','\u001b[0m\n",
      "\u001b[31m[2019-10-20:17:13:33:INFO] Sniff delimiter as ','\u001b[0m\n",
      "\u001b[31m[2019-10-20:17:13:33:INFO] Determined delimiter of CSV input is ','\u001b[0m\n",
      "\u001b[31m[2019-10-20:17:13:34:INFO] Sniff delimiter as ','\u001b[0m\n",
      "\u001b[31m[2019-10-20:17:13:34:INFO] Determined delimiter of CSV input is ','\u001b[0m\n",
      "\u001b[32m[2019-10-20:17:13:33:INFO] Sniff delimiter as ','\u001b[0m\n",
      "\u001b[32m[2019-10-20:17:13:33:INFO] Determined delimiter of CSV input is ','\u001b[0m\n",
      "\u001b[32m[2019-10-20:17:13:33:INFO] Sniff delimiter as ','\u001b[0m\n",
      "\u001b[32m[2019-10-20:17:13:33:INFO] Determined delimiter of CSV input is ','\u001b[0m\n",
      "\u001b[32m[2019-10-20:17:13:34:INFO] Sniff delimiter as ','\u001b[0m\n",
      "\u001b[32m[2019-10-20:17:13:34:INFO] Determined delimiter of CSV input is ','\u001b[0m\n",
      "\u001b[31m[2019-10-20:17:13:34:INFO] Sniff delimiter as ','\u001b[0m\n",
      "\u001b[31m[2019-10-20:17:13:34:INFO] Determined delimiter of CSV input is ','\u001b[0m\n",
      "\u001b[32m[2019-10-20:17:13:34:INFO] Sniff delimiter as ','\u001b[0m\n",
      "\u001b[32m[2019-10-20:17:13:34:INFO] Determined delimiter of CSV input is ','\u001b[0m\n",
      "\u001b[31m[2019-10-20:17:13:36:INFO] Sniff delimiter as ','\u001b[0m\n",
      "\u001b[31m[2019-10-20:17:13:36:INFO] Determined delimiter of CSV input is ','\u001b[0m\n",
      "\u001b[31m[2019-10-20:17:13:36:INFO] Sniff delimiter as ','\u001b[0m\n",
      "\u001b[31m[2019-10-20:17:13:36:INFO] Determined delimiter of CSV input is ','\u001b[0m\n",
      "\u001b[32m[2019-10-20:17:13:36:INFO] Sniff delimiter as ','\u001b[0m\n",
      "\u001b[32m[2019-10-20:17:13:36:INFO] Determined delimiter of CSV input is ','\u001b[0m\n",
      "\u001b[32m[2019-10-20:17:13:36:INFO] Sniff delimiter as ','\u001b[0m\n",
      "\u001b[32m[2019-10-20:17:13:36:INFO] Determined delimiter of CSV input is ','\u001b[0m\n",
      "\u001b[31m[2019-10-20:17:13:36:INFO] Sniff delimiter as ','\u001b[0m\n",
      "\u001b[31m[2019-10-20:17:13:36:INFO] Determined delimiter of CSV input is ','\u001b[0m\n",
      "\u001b[31m[2019-10-20:17:13:36:INFO] Sniff delimiter as ','\u001b[0m\n",
      "\u001b[32m[2019-10-20:17:13:36:INFO] Sniff delimiter as ','\u001b[0m\n",
      "\u001b[32m[2019-10-20:17:13:36:INFO] Determined delimiter of CSV input is ','\u001b[0m\n",
      "\u001b[32m[2019-10-20:17:13:36:INFO] Sniff delimiter as ','\u001b[0m\n",
      "\u001b[31m[2019-10-20:17:13:36:INFO] Determined delimiter of CSV input is ','\u001b[0m\n",
      "\u001b[32m[2019-10-20:17:13:36:INFO] Determined delimiter of CSV input is ','\u001b[0m\n",
      "\u001b[31m[2019-10-20:17:13:38:INFO] Sniff delimiter as ','\u001b[0m\n",
      "\u001b[31m[2019-10-20:17:13:38:INFO] Determined delimiter of CSV input is ','\u001b[0m\n",
      "\u001b[31m[2019-10-20:17:13:38:INFO] Sniff delimiter as ','\u001b[0m\n",
      "\u001b[31m[2019-10-20:17:13:38:INFO] Determined delimiter of CSV input is ','\u001b[0m\n",
      "\u001b[31m[2019-10-20:17:13:38:INFO] Sniff delimiter as ','\u001b[0m\n",
      "\u001b[32m[2019-10-20:17:13:38:INFO] Sniff delimiter as ','\u001b[0m\n",
      "\u001b[32m[2019-10-20:17:13:38:INFO] Determined delimiter of CSV input is ','\u001b[0m\n",
      "\u001b[32m[2019-10-20:17:13:38:INFO] Sniff delimiter as ','\u001b[0m\n",
      "\u001b[32m[2019-10-20:17:13:38:INFO] Determined delimiter of CSV input is ','\u001b[0m\n",
      "\u001b[32m[2019-10-20:17:13:38:INFO] Sniff delimiter as ','\u001b[0m\n",
      "\u001b[31m[2019-10-20:17:13:38:INFO] Determined delimiter of CSV input is ','\u001b[0m\n",
      "\u001b[31m[2019-10-20:17:13:39:INFO] Sniff delimiter as ','\u001b[0m\n",
      "\u001b[31m[2019-10-20:17:13:39:INFO] Determined delimiter of CSV input is ','\u001b[0m\n",
      "\u001b[32m[2019-10-20:17:13:38:INFO] Determined delimiter of CSV input is ','\u001b[0m\n",
      "\u001b[32m[2019-10-20:17:13:39:INFO] Sniff delimiter as ','\u001b[0m\n",
      "\u001b[32m[2019-10-20:17:13:39:INFO] Determined delimiter of CSV input is ','\u001b[0m\n"
     ]
    },
    {
     "name": "stdout",
     "output_type": "stream",
     "text": [
      "\u001b[31m[2019-10-20:17:13:41:INFO] Determined delimiter of CSV input is ','\u001b[0m\n",
      "\u001b[31m[2019-10-20:17:13:41:INFO] Sniff delimiter as ','\u001b[0m\n",
      "\u001b[31m[2019-10-20:17:13:41:INFO] Determined delimiter of CSV input is ','\u001b[0m\n",
      "\u001b[32m[2019-10-20:17:13:41:INFO] Determined delimiter of CSV input is ','\u001b[0m\n",
      "\u001b[32m[2019-10-20:17:13:41:INFO] Sniff delimiter as ','\u001b[0m\n",
      "\u001b[32m[2019-10-20:17:13:41:INFO] Determined delimiter of CSV input is ','\u001b[0m\n",
      "\n"
     ]
    }
   ],
   "source": [
    "xgb_transformer.wait()"
   ]
  },
  {
   "cell_type": "markdown",
   "metadata": {},
   "source": [
    "Now the transform job has executed and the result, the estimated sentiment of each review, has been saved on S3. Since we would rather work on this file locally we can perform a bit of notebook magic to copy the file to the `data_dir`."
   ]
  },
  {
   "cell_type": "code",
   "execution_count": 23,
   "metadata": {},
   "outputs": [
    {
     "name": "stdout",
     "output_type": "stream",
     "text": [
      "Completed 256.0 KiB/369.8 KiB (2.8 MiB/s) with 1 file(s) remaining\r",
      "Completed 369.8 KiB/369.8 KiB (4.0 MiB/s) with 1 file(s) remaining\r",
      "download: s3://sagemaker-eu-central-1-668160054588/xgboost-191020-1654-001-08ea10db-2019-10-20-17-09-58-476/test.csv.out to ../data/xgboost/test.csv.out\r\n"
     ]
    }
   ],
   "source": [
    "!aws s3 cp --recursive $xgb_transformer.output_path $data_dir"
   ]
  },
  {
   "cell_type": "markdown",
   "metadata": {},
   "source": [
    "The last step is now to read in the output from our model, convert the output to something a little more usable, in this case we want the sentiment to be either `1` (positive) or `0` (negative), and then compare to the ground truth labels."
   ]
  },
  {
   "cell_type": "code",
   "execution_count": 24,
   "metadata": {},
   "outputs": [],
   "source": [
    "import os\n",
    "import pandas as pd\n",
    "data_dir = '../data/xgboost'\n",
    "predictions = pd.read_csv(os.path.join(data_dir, 'test.csv.out'), header=None)\n",
    "predictions = [round(num) for num in predictions.squeeze().values]"
   ]
  },
  {
   "cell_type": "code",
   "execution_count": 25,
   "metadata": {},
   "outputs": [],
   "source": [
    "test_y = pd.read_csv(os.path.join(data_dir, 'test_y.csv'), header=None) "
   ]
  },
  {
   "cell_type": "code",
   "execution_count": 26,
   "metadata": {},
   "outputs": [
    {
     "data": {
      "text/plain": [
       "0.85656"
      ]
     },
     "execution_count": 26,
     "metadata": {},
     "output_type": "execute_result"
    }
   ],
   "source": [
    "from sklearn.metrics import accuracy_score\n",
    "accuracy_score(test_y, predictions)"
   ]
  },
  {
   "cell_type": "markdown",
   "metadata": {},
   "source": [
    "## Optional: Clean up\n",
    "\n",
    "The default notebook instance on SageMaker doesn't have a lot of excess disk space available. As you continue to complete and execute notebooks you will eventually fill up this disk space, leading to errors which can be difficult to diagnose. Once you are completely finished using a notebook it is a good idea to remove the files that you created along the way. Of course, you can do this from the terminal or from the notebook hub if you would like. The cell below contains some commands to clean up the created files from within the notebook."
   ]
  },
  {
   "cell_type": "raw",
   "metadata": {},
   "source": [
    "# First we will remove all of the files contained in the data_dir directory\n",
    "!rm $data_dir/*\n",
    "\n",
    "# And then we delete the directory itself\n",
    "!rmdir $data_dir\n",
    "\n",
    "# Similarly we will remove the files in the cache_dir directory and the directory itself\n",
    "!rm $cache_dir/*\n",
    "!rmdir $cache_dir"
   ]
  },
  {
   "cell_type": "code",
   "execution_count": null,
   "metadata": {},
   "outputs": [],
   "source": []
  }
 ],
 "metadata": {
  "kernelspec": {
   "display_name": "conda_python3",
   "language": "python",
   "name": "conda_python3"
  },
  "language_info": {
   "codemirror_mode": {
    "name": "ipython",
    "version": 3
   },
   "file_extension": ".py",
   "mimetype": "text/x-python",
   "name": "python",
   "nbconvert_exporter": "python",
   "pygments_lexer": "ipython3",
   "version": "3.6.5"
  }
 },
 "nbformat": 4,
 "nbformat_minor": 2
}
