{
 "cells": [
  {
   "cell_type": "markdown",
   "metadata": {},
   "source": [
    "# Sentiment Analysis\n",
    "\n",
    "## Using XGBoost in SageMaker\n",
    "\n",
    "_Deep Learning Nanodegree Program | Deployment_\n",
    "\n",
    "---\n",
    "\n",
    "As our first example of using Amazon's SageMaker service we will construct a random tree model to predict the sentiment of a movie review. You may have seen a version of this example in a pervious lesson although it would have been done using the sklearn package. Instead, we will be using the XGBoost package as it is provided to us by Amazon.\n",
    "\n",
    "## Instructions\n",
    "\n",
    "Some template code has already been provided for you, and you will need to implement additional functionality to successfully complete this notebook. You will not need to modify the included code beyond what is requested. Sections that begin with '**TODO**' in the header indicate that you need to complete or implement some portion within them. Instructions will be provided for each section and the specifics of the implementation are marked in the code block with a `# TODO: ...` comment. Please be sure to read the instructions carefully!\n",
    "\n",
    "In addition to implementing code, there may be questions for you to answer which relate to the task and your implementation. Each section where you will answer a question is preceded by a '**Question:**' header. Carefully read each question and provide your answer below the '**Answer:**' header by editing the Markdown cell.\n",
    "\n",
    "> **Note**: Code and Markdown cells can be executed using the **Shift+Enter** keyboard shortcut. In addition, a cell can be edited by typically clicking it (double-click for Markdown cells) or by pressing **Enter** while it is highlighted."
   ]
  },
  {
   "cell_type": "code",
   "execution_count": null,
   "metadata": {},
   "outputs": [],
   "source": [
    "import pandas as pd\n",
    "import os"
   ]
  },
  {
   "cell_type": "markdown",
   "metadata": {},
   "source": [
    "## Step 1: Downloading the data\n",
    "\n",
    "The dataset we are going to use is very popular among researchers in Natural Language Processing, usually referred to as the [IMDb dataset](http://ai.stanford.edu/~amaas/data/sentiment/). It consists of movie reviews from the website [imdb.com](http://www.imdb.com/), each labeled as either '**pos**itive', if the reviewer enjoyed the film, or '**neg**ative' otherwise.\n",
    "\n",
    "> Maas, Andrew L., et al. [Learning Word Vectors for Sentiment Analysis](http://ai.stanford.edu/~amaas/data/sentiment/). In _Proceedings of the 49th Annual Meeting of the Association for Computational Linguistics: Human Language Technologies_. Association for Computational Linguistics, 2011.\n",
    "\n",
    "We begin by using some Jupyter Notebook magic to download and extract the dataset."
   ]
  },
  {
   "cell_type": "code",
   "execution_count": 1,
   "metadata": {},
   "outputs": [
    {
     "name": "stdout",
     "output_type": "stream",
     "text": [
      "mkdir: cannot create directory ‘../data’: File exists\n",
      "--2019-10-15 20:02:58--  http://ai.stanford.edu/~amaas/data/sentiment/aclImdb_v1.tar.gz\n",
      "Resolving ai.stanford.edu (ai.stanford.edu)... 171.64.68.10\n",
      "Connecting to ai.stanford.edu (ai.stanford.edu)|171.64.68.10|:80... connected.\n",
      "HTTP request sent, awaiting response... 200 OK\n",
      "Length: 84125825 (80M) [application/x-gzip]\n",
      "Saving to: ‘../data/aclImdb_v1.tar.gz’\n",
      "\n",
      "../data/aclImdb_v1. 100%[===================>]  80.23M  10.1MB/s    in 11s     \n",
      "\n",
      "2019-10-15 20:03:10 (7.08 MB/s) - ‘../data/aclImdb_v1.tar.gz’ saved [84125825/84125825]\n",
      "\n"
     ]
    }
   ],
   "source": [
    "%mkdir ../data\n",
    "!wget -O ../data/aclImdb_v1.tar.gz http://ai.stanford.edu/~amaas/data/sentiment/aclImdb_v1.tar.gz\n",
    "!tar -zxf ../data/aclImdb_v1.tar.gz -C ../data"
   ]
  },
  {
   "cell_type": "markdown",
   "metadata": {},
   "source": [
    "## Step 2: Preparing the data\n",
    "\n",
    "The data we have downloaded is split into various files, each of which contains a single review. It will be much easier going forward if we combine these individual files into two large files, one for training and one for testing."
   ]
  },
  {
   "cell_type": "code",
   "execution_count": 1,
   "metadata": {},
   "outputs": [],
   "source": [
    "import os\n",
    "import glob\n",
    "\n",
    "def read_imdb_data(data_dir='../data/aclImdb'):\n",
    "    data = {}\n",
    "    labels = {}\n",
    "    \n",
    "    for data_type in ['train', 'test']:\n",
    "        data[data_type] = {}\n",
    "        labels[data_type] = {}\n",
    "        \n",
    "        for sentiment in ['pos', 'neg']:\n",
    "            data[data_type][sentiment] = []\n",
    "            labels[data_type][sentiment] = []\n",
    "            \n",
    "            path = os.path.join(data_dir, data_type, sentiment, '*.txt')\n",
    "            files = glob.glob(path)\n",
    "            \n",
    "            for f in files:\n",
    "                with open(f) as review:\n",
    "                    data[data_type][sentiment].append(review.read())\n",
    "                    # Here we represent a positive review by '1' and a negative review by '0'\n",
    "                    labels[data_type][sentiment].append(1 if sentiment == 'pos' else 0)\n",
    "                    \n",
    "            assert len(data[data_type][sentiment]) == len(labels[data_type][sentiment]), \\\n",
    "                    \"{}/{} data size does not match labels size\".format(data_type, sentiment)\n",
    "                \n",
    "    return data, labels"
   ]
  },
  {
   "cell_type": "code",
   "execution_count": 2,
   "metadata": {},
   "outputs": [
    {
     "name": "stdout",
     "output_type": "stream",
     "text": [
      "IMDB reviews: train = 12500 pos / 12500 neg, test = 12500 pos / 12500 neg\n"
     ]
    }
   ],
   "source": [
    "data, labels = read_imdb_data()\n",
    "print(\"IMDB reviews: train = {} pos / {} neg, test = {} pos / {} neg\".format(\n",
    "            len(data['train']['pos']), len(data['train']['neg']),\n",
    "            len(data['test']['pos']), len(data['test']['neg'])))"
   ]
  },
  {
   "cell_type": "code",
   "execution_count": 3,
   "metadata": {},
   "outputs": [],
   "source": [
    "from sklearn.utils import shuffle\n",
    "\n",
    "def prepare_imdb_data(data, labels):\n",
    "    \"\"\"Prepare training and test sets from IMDb movie reviews.\"\"\"\n",
    "    \n",
    "    #Combine positive and negative reviews and labels\n",
    "    data_train = data['train']['pos'] + data['train']['neg']\n",
    "    data_test = data['test']['pos'] + data['test']['neg']\n",
    "    labels_train = labels['train']['pos'] + labels['train']['neg']\n",
    "    labels_test = labels['test']['pos'] + labels['test']['neg']\n",
    "    \n",
    "    #Shuffle reviews and corresponding labels within training and test sets\n",
    "    data_train, labels_train = shuffle(data_train, labels_train)\n",
    "    data_test, labels_test = shuffle(data_test, labels_test)\n",
    "    \n",
    "    # Return a unified training data, test data, training labels, test labets\n",
    "    return data_train, data_test, labels_train, labels_test"
   ]
  },
  {
   "cell_type": "code",
   "execution_count": 4,
   "metadata": {},
   "outputs": [
    {
     "name": "stdout",
     "output_type": "stream",
     "text": [
      "IMDb reviews (combined): train = 25000, test = 25000\n"
     ]
    }
   ],
   "source": [
    "train_X, test_X, train_y, test_y = prepare_imdb_data(data, labels)\n",
    "print(\"IMDb reviews (combined): train = {}, test = {}\".format(len(train_X), len(test_X)))"
   ]
  },
  {
   "cell_type": "code",
   "execution_count": 5,
   "metadata": {},
   "outputs": [
    {
     "data": {
      "text/plain": [
       "'Forget Plan 9, this is the ultimate fiasco, a costume drama, ineptly directed, scripted, acted, etc. This film is based on Isabel Allende\\'s not-so-much-better novel. I hate Meryl Streep and Antonio Banderas (in non-Spanish films), and the other actors, including Winona, my favourite actress and Jeremy Irons try hard to get over such a terrible script. Plenty of mistakes (like, for example, since when does it snow in Xmas in Chile?) and very cruel, with tons of that evil named \"magic realism\", this stands out as the worst movie of all time. It totally sucks!!!'"
      ]
     },
     "execution_count": 5,
     "metadata": {},
     "output_type": "execute_result"
    }
   ],
   "source": [
    "train_X[100]"
   ]
  },
  {
   "cell_type": "markdown",
   "metadata": {},
   "source": [
    "## Step 3: Processing the data\n",
    "\n",
    "Now that we have our training and testing datasets merged and ready to use, we need to start processing the raw data into something that will be useable by our machine learning algorithm. To begin with, we remove any html formatting that may appear in the reviews and perform some standard natural language processing in order to homogenize the data."
   ]
  },
  {
   "cell_type": "code",
   "execution_count": 6,
   "metadata": {},
   "outputs": [
    {
     "name": "stdout",
     "output_type": "stream",
     "text": [
      "[nltk_data] Downloading package stopwords to\n",
      "[nltk_data]     /home/ec2-user/nltk_data...\n",
      "[nltk_data]   Unzipping corpora/stopwords.zip.\n"
     ]
    }
   ],
   "source": [
    "import nltk\n",
    "nltk.download(\"stopwords\")\n",
    "from nltk.corpus import stopwords\n",
    "from nltk.stem.porter import *\n",
    "stemmer = PorterStemmer()"
   ]
  },
  {
   "cell_type": "code",
   "execution_count": 7,
   "metadata": {},
   "outputs": [],
   "source": [
    "import re\n",
    "from bs4 import BeautifulSoup\n",
    "\n",
    "def review_to_words(review):\n",
    "    text = BeautifulSoup(review, \"html.parser\").get_text() # Remove HTML tags\n",
    "    text = re.sub(r\"[^a-zA-Z0-9]\", \" \", text.lower()) # Convert to lower case\n",
    "    words = text.split() # Split string into words\n",
    "    words = [w for w in words if w not in stopwords.words(\"english\")] # Remove stopwords\n",
    "    words = [PorterStemmer().stem(w) for w in words] # stem\n",
    "    \n",
    "    return words"
   ]
  },
  {
   "cell_type": "code",
   "execution_count": 8,
   "metadata": {},
   "outputs": [],
   "source": [
    "import pickle\n",
    "\n",
    "cache_dir = os.path.join(\"../cache\", \"sentiment_analysis\")  # where to store cache files\n",
    "os.makedirs(cache_dir, exist_ok=True)  # ensure cache directory exists\n",
    "\n",
    "def preprocess_data(data_train, data_test, labels_train, labels_test,\n",
    "                    cache_dir=cache_dir, cache_file=\"preprocessed_data.pkl\"):\n",
    "    \"\"\"Convert each review to words; read from cache if available.\"\"\"\n",
    "\n",
    "    # If cache_file is not None, try to read from it first\n",
    "    cache_data = None\n",
    "    if cache_file is not None:\n",
    "        try:\n",
    "            with open(os.path.join(cache_dir, cache_file), \"rb\") as f:\n",
    "                cache_data = pickle.load(f)\n",
    "            print(\"Read preprocessed data from cache file:\", cache_file)\n",
    "        except:\n",
    "            pass  # unable to read from cache, but that's okay\n",
    "    \n",
    "    # If cache is missing, then do the heavy lifting\n",
    "    if cache_data is None:\n",
    "        # Preprocess training and test data to obtain words for each review\n",
    "        #words_train = list(map(review_to_words, data_train))\n",
    "        #words_test = list(map(review_to_words, data_test))\n",
    "        words_train = [review_to_words(review) for review in data_train]\n",
    "        words_test = [review_to_words(review) for review in data_test]\n",
    "        \n",
    "        # Write to cache file for future runs\n",
    "        if cache_file is not None:\n",
    "            cache_data = dict(words_train=words_train, words_test=words_test,\n",
    "                              labels_train=labels_train, labels_test=labels_test)\n",
    "            with open(os.path.join(cache_dir, cache_file), \"wb\") as f:\n",
    "                pickle.dump(cache_data, f)\n",
    "            print(\"Wrote preprocessed data to cache file:\", cache_file)\n",
    "    else:\n",
    "        # Unpack data loaded from cache file\n",
    "        words_train, words_test, labels_train, labels_test = (cache_data['words_train'],\n",
    "                cache_data['words_test'], cache_data['labels_train'], cache_data['labels_test'])\n",
    "    \n",
    "    return words_train, words_test, labels_train, labels_test"
   ]
  },
  {
   "cell_type": "code",
   "execution_count": 9,
   "metadata": {},
   "outputs": [
    {
     "name": "stdout",
     "output_type": "stream",
     "text": [
      "Read preprocessed data from cache file: preprocessed_data.pkl\n"
     ]
    }
   ],
   "source": [
    "# Preprocess data\n",
    "train_X, test_X, train_y, test_y = preprocess_data(train_X, test_X, train_y, test_y)"
   ]
  },
  {
   "cell_type": "markdown",
   "metadata": {},
   "source": [
    "### Extract Bag-of-Words features\n",
    "\n",
    "For the model we will be implementing, rather than using the reviews directly, we are going to transform each review into a Bag-of-Words feature representation. Keep in mind that 'in the wild' we will only have access to the training set so our transformer can only use the training set to construct a representation."
   ]
  },
  {
   "cell_type": "code",
   "execution_count": 10,
   "metadata": {},
   "outputs": [],
   "source": [
    "import numpy as np\n",
    "from sklearn.feature_extraction.text import CountVectorizer\n",
    "from sklearn.externals import joblib\n",
    "# joblib is an enhanced version of pickle that is more efficient for storing NumPy arrays\n",
    "\n",
    "def extract_BoW_features(words_train, words_test, vocabulary_size=5000,\n",
    "                         cache_dir=cache_dir, cache_file=\"bow_features.pkl\"):\n",
    "    \"\"\"Extract Bag-of-Words for a given set of documents, already preprocessed into words.\"\"\"\n",
    "    \n",
    "    # If cache_file is not None, try to read from it first\n",
    "    cache_data = None\n",
    "    if cache_file is not None:\n",
    "        try:\n",
    "            with open(os.path.join(cache_dir, cache_file), \"rb\") as f:\n",
    "                cache_data = joblib.load(f)\n",
    "            print(\"Read features from cache file:\", cache_file)\n",
    "        except:\n",
    "            pass  # unable to read from cache, but that's okay\n",
    "    \n",
    "    # If cache is missing, then do the heavy lifting\n",
    "    if cache_data is None:\n",
    "        # Fit a vectorizer to training documents and use it to transform them\n",
    "        # NOTE: Training documents have already been preprocessed and tokenized into words;\n",
    "        #       pass in dummy functions to skip those steps, e.g. preprocessor=lambda x: x\n",
    "        vectorizer = CountVectorizer(max_features=vocabulary_size,\n",
    "                preprocessor=lambda x: x, tokenizer=lambda x: x)  # already preprocessed\n",
    "        features_train = vectorizer.fit_transform(words_train).toarray()\n",
    "\n",
    "        # Apply the same vectorizer to transform the test documents (ignore unknown words)\n",
    "        features_test = vectorizer.transform(words_test).toarray()\n",
    "        \n",
    "        # NOTE: Remember to convert the features using .toarray() for a compact representation\n",
    "        \n",
    "        # Write to cache file for future runs (store vocabulary as well)\n",
    "        if cache_file is not None:\n",
    "            vocabulary = vectorizer.vocabulary_\n",
    "            cache_data = dict(features_train=features_train, features_test=features_test,\n",
    "                             vocabulary=vocabulary)\n",
    "            with open(os.path.join(cache_dir, cache_file), \"wb\") as f:\n",
    "                joblib.dump(cache_data, f)\n",
    "            print(\"Wrote features to cache file:\", cache_file)\n",
    "    else:\n",
    "        # Unpack data loaded from cache file\n",
    "        features_train, features_test, vocabulary = (cache_data['features_train'],\n",
    "                cache_data['features_test'], cache_data['vocabulary'])\n",
    "    \n",
    "    # Return both the extracted features as well as the vocabulary\n",
    "    return features_train, features_test, vocabulary"
   ]
  },
  {
   "cell_type": "code",
   "execution_count": 11,
   "metadata": {},
   "outputs": [
    {
     "name": "stdout",
     "output_type": "stream",
     "text": [
      "Read features from cache file: bow_features.pkl\n"
     ]
    }
   ],
   "source": [
    "# Extract Bag of Words features for both training and test datasets\n",
    "train_X, test_X, vocabulary = extract_BoW_features(train_X, test_X)"
   ]
  },
  {
   "cell_type": "markdown",
   "metadata": {},
   "source": [
    "## Step 4: Classification using XGBoost\n",
    "\n",
    "Now that we have created the feature representation of our training (and testing) data, it is time to start setting up and using the XGBoost classifier provided by SageMaker.\n",
    "\n",
    "### (TODO) Writing the dataset\n",
    "\n",
    "The XGBoost classifier that we will be using requires the dataset to be written to a file and stored using Amazon S3. To do this, we will start by splitting the training dataset into two parts, the data we will train the model with and a validation set. Then, we will write those datasets to a file and upload the files to S3. In addition, we will write the test set input to a file and upload the file to S3. This is so that we can use SageMakers Batch Transform functionality to test our model once we've fit it."
   ]
  },
  {
   "cell_type": "code",
   "execution_count": 12,
   "metadata": {},
   "outputs": [],
   "source": [
    "import pandas as pd\n",
    "import sklearn.model_selection\n",
    "# TODO: Split the train_X and train_y arrays into the DataFrames val_X, train_X and val_y, train_y. Make sure that\n",
    "#       val_X and val_y contain 10 000 entires while train_X and train_y contain the remaining 15 000 entries.\n",
    "\n",
    "# Then we split the training set further into 2/3 training and 1/3 validation sets.\n",
    "train_X, val_X, train_y, val_y = sklearn.model_selection.train_test_split(train_X, train_y, test_size=0.4)"
   ]
  },
  {
   "cell_type": "code",
   "execution_count": 13,
   "metadata": {},
   "outputs": [
    {
     "data": {
      "text/plain": [
       "15000"
      ]
     },
     "execution_count": 13,
     "metadata": {},
     "output_type": "execute_result"
    }
   ],
   "source": [
    "len(train_y)"
   ]
  },
  {
   "cell_type": "code",
   "execution_count": 14,
   "metadata": {},
   "outputs": [
    {
     "data": {
      "text/plain": [
       "pandas.core.series.Series"
      ]
     },
     "execution_count": 14,
     "metadata": {},
     "output_type": "execute_result"
    }
   ],
   "source": [
    "type(pd.Series(train_y))"
   ]
  },
  {
   "cell_type": "markdown",
   "metadata": {},
   "source": [
    "The documentation for the XGBoost algorithm in SageMaker requires that the saved datasets should contain no headers or index and that for the training and validation data, the label should occur first for each sample.\n",
    "\n",
    "For more information about this and other algorithms, the SageMaker developer documentation can be found on __[Amazon's website.](https://docs.aws.amazon.com/sagemaker/latest/dg/)__"
   ]
  },
  {
   "cell_type": "code",
   "execution_count": 15,
   "metadata": {},
   "outputs": [],
   "source": [
    "# First we make sure that the local directory in which we'd like to store the training and validation csv files exists.\n",
    "data_dir = '../data/xgboost_v2'\n",
    "if not os.path.exists(data_dir):\n",
    "    os.makedirs(data_dir)"
   ]
  },
  {
   "cell_type": "code",
   "execution_count": 16,
   "metadata": {},
   "outputs": [],
   "source": [
    "# First, save the test data to test.csv in the data_dir directory. Note that we do not save the associated ground truth\n",
    "# labels, instead we will use them later to compare with our model output.\n",
    "\n",
    "pd.DataFrame(test_X).to_csv(os.path.join(data_dir, 'test.csv'), header=False, index=False)\n",
    "pd.DataFrame(test_y).to_csv(os.path.join(data_dir, 'test_y.csv'), header=False, index=False)"
   ]
  },
  {
   "cell_type": "code",
   "execution_count": 17,
   "metadata": {},
   "outputs": [],
   "source": [
    "# TODO: Save the training and validation data to train.csv and validation.csv in the data_dir directory.\n",
    "#       Make sure that the files you create are in the correct format.\n",
    "\n",
    "pd.concat([pd.Series(val_y), pd.DataFrame(val_X)], axis=1).to_csv(os.path.join(data_dir, 'validation.csv'), header=False, index=False)\n",
    "pd.concat([pd.Series(train_y), pd.DataFrame(train_X)], axis=1).to_csv(os.path.join(data_dir, 'train.csv'), header=False, index=False)"
   ]
  },
  {
   "cell_type": "code",
   "execution_count": 29,
   "metadata": {},
   "outputs": [],
   "source": [
    "# To save a bit of memory we can set text_X, train_X, val_X, train_y and val_y to None.\n",
    "\n",
    "test_X = train_X = val_X = train_y = val_y = None"
   ]
  },
  {
   "cell_type": "markdown",
   "metadata": {},
   "source": [
    "### (TODO) Uploading Training / Validation files to S3\n",
    "\n",
    "Amazon's S3 service allows us to store files that can be access by both the built-in training models such as the XGBoost model we will be using as well as custom models such as the one we will see a little later.\n",
    "\n",
    "For this, and most other tasks we will be doing using SageMaker, there are two methods we could use. The first is to use the low level functionality of SageMaker which requires knowing each of the objects involved in the SageMaker environment. The second is to use the high level functionality in which certain choices have been made on the user's behalf. The low level approach benefits from allowing the user a great deal of flexibility while the high level approach makes development much quicker. For our purposes we will opt to use the high level approach although using the low-level approach is certainly an option.\n",
    "\n",
    "Recall the method `upload_data()` which is a member of object representing our current SageMaker session. What this method does is upload the data to the default bucket (which is created if it does not exist) into the path described by the key_prefix variable. To see this for yourself, once you have uploaded the data files, go to the S3 console and look to see where the files have been uploaded.\n",
    "\n",
    "For additional resources, see the __[SageMaker API documentation](http://sagemaker.readthedocs.io/en/latest/)__ and in addition the __[SageMaker Developer Guide.](https://docs.aws.amazon.com/sagemaker/latest/dg/)__"
   ]
  },
  {
   "cell_type": "code",
   "execution_count": 18,
   "metadata": {},
   "outputs": [],
   "source": [
    "import sagemaker\n",
    "\n",
    "session = sagemaker.Session() # Store the current SageMaker session\n",
    "\n",
    "# S3 prefix (which folder will we use)\n",
    "prefix = 'sentiment-xgboost'"
   ]
  },
  {
   "cell_type": "code",
   "execution_count": 8,
   "metadata": {},
   "outputs": [
    {
     "ename": "NameError",
     "evalue": "name 'os' is not defined",
     "output_type": "error",
     "traceback": [
      "\u001b[0;31m---------------------------------------------------------------------------\u001b[0m",
      "\u001b[0;31mNameError\u001b[0m                                 Traceback (most recent call last)",
      "\u001b[0;32m<ipython-input-8-1f4b0873366f>\u001b[0m in \u001b[0;36m<module>\u001b[0;34m()\u001b[0m\n\u001b[1;32m      1\u001b[0m \u001b[0;31m# TODO: Upload the test.csv, train.csv and validation.csv files which are contained in data_dir to S3 using sess.upload_data().\u001b[0m\u001b[0;34m\u001b[0m\u001b[0;34m\u001b[0m\u001b[0m\n\u001b[0;32m----> 2\u001b[0;31m \u001b[0mtest_location\u001b[0m \u001b[0;34m=\u001b[0m \u001b[0msession\u001b[0m\u001b[0;34m.\u001b[0m\u001b[0mupload_data\u001b[0m\u001b[0;34m(\u001b[0m\u001b[0mos\u001b[0m\u001b[0;34m.\u001b[0m\u001b[0mpath\u001b[0m\u001b[0;34m.\u001b[0m\u001b[0mjoin\u001b[0m\u001b[0;34m(\u001b[0m\u001b[0mdata_dir\u001b[0m\u001b[0;34m,\u001b[0m \u001b[0;34m'test.csv'\u001b[0m\u001b[0;34m)\u001b[0m\u001b[0;34m,\u001b[0m \u001b[0mkey_prefix\u001b[0m\u001b[0;34m=\u001b[0m\u001b[0mprefix\u001b[0m\u001b[0;34m)\u001b[0m\u001b[0;34m\u001b[0m\u001b[0m\n\u001b[0m\u001b[1;32m      3\u001b[0m \u001b[0mval_location\u001b[0m \u001b[0;34m=\u001b[0m \u001b[0msession\u001b[0m\u001b[0;34m.\u001b[0m\u001b[0mupload_data\u001b[0m\u001b[0;34m(\u001b[0m\u001b[0mos\u001b[0m\u001b[0;34m.\u001b[0m\u001b[0mpath\u001b[0m\u001b[0;34m.\u001b[0m\u001b[0mjoin\u001b[0m\u001b[0;34m(\u001b[0m\u001b[0mdata_dir\u001b[0m\u001b[0;34m,\u001b[0m \u001b[0;34m'validation.csv'\u001b[0m\u001b[0;34m)\u001b[0m\u001b[0;34m,\u001b[0m \u001b[0mkey_prefix\u001b[0m\u001b[0;34m=\u001b[0m\u001b[0mprefix\u001b[0m\u001b[0;34m)\u001b[0m\u001b[0;34m\u001b[0m\u001b[0m\n\u001b[1;32m      4\u001b[0m \u001b[0mtrain_location\u001b[0m \u001b[0;34m=\u001b[0m \u001b[0msession\u001b[0m\u001b[0;34m.\u001b[0m\u001b[0mupload_data\u001b[0m\u001b[0;34m(\u001b[0m\u001b[0mos\u001b[0m\u001b[0;34m.\u001b[0m\u001b[0mpath\u001b[0m\u001b[0;34m.\u001b[0m\u001b[0mjoin\u001b[0m\u001b[0;34m(\u001b[0m\u001b[0mdata_dir\u001b[0m\u001b[0;34m,\u001b[0m \u001b[0;34m'train.csv'\u001b[0m\u001b[0;34m)\u001b[0m\u001b[0;34m,\u001b[0m \u001b[0mkey_prefix\u001b[0m\u001b[0;34m=\u001b[0m\u001b[0mprefix\u001b[0m\u001b[0;34m)\u001b[0m\u001b[0;34m\u001b[0m\u001b[0m\n",
      "\u001b[0;31mNameError\u001b[0m: name 'os' is not defined"
     ]
    }
   ],
   "source": [
    "# TODO: Upload the test.csv, train.csv and validation.csv files which are contained in data_dir to S3 using sess.upload_data().\n",
    "test_location = session.upload_data(os.path.join(data_dir, 'test.csv'), key_prefix=prefix)\n",
    "val_location = session.upload_data(os.path.join(data_dir, 'validation.csv'), key_prefix=prefix)\n",
    "train_location = session.upload_data(os.path.join(data_dir, 'train.csv'), key_prefix=prefix)"
   ]
  },
  {
   "cell_type": "markdown",
   "metadata": {},
   "source": [
    "### (TODO) Creating the XGBoost model\n",
    "\n",
    "Now that the data has been uploaded it is time to create the XGBoost model. To begin with, we need to do some setup. At this point it is worth discussing what a model is in SageMaker. It is easiest to think of a model of comprising three different objects in the SageMaker ecosystem, which interact with one another.\n",
    "\n",
    "- Model Artifacts\n",
    "- Training Code (Container)\n",
    "- Inference Code (Container)\n",
    "\n",
    "The Model Artifacts are what you might think of as the actual model itself. For example, if you were building a neural network, the model artifacts would be the weights of the various layers. In our case, for an XGBoost model, the artifacts are the actual trees that are created during training.\n",
    "\n",
    "The other two objects, the training code and the inference code are then used the manipulate the training artifacts. More precisely, the training code uses the training data that is provided and creates the model artifacts, while the inference code uses the model artifacts to make predictions on new data.\n",
    "\n",
    "The way that SageMaker runs the training and inference code is by making use of Docker containers. For now, think of a container as being a way of packaging code up so that dependencies aren't an issue."
   ]
  },
  {
   "cell_type": "code",
   "execution_count": 19,
   "metadata": {},
   "outputs": [],
   "source": [
    "from sagemaker import get_execution_role\n",
    "\n",
    "# Our current execution role is require when creating the model as the training\n",
    "# and inference code will need to access the model artifacts.\n",
    "role = get_execution_role()"
   ]
  },
  {
   "cell_type": "code",
   "execution_count": 20,
   "metadata": {},
   "outputs": [
    {
     "name": "stderr",
     "output_type": "stream",
     "text": [
      "WARNING:root:There is a more up to date SageMaker XGBoost image.To use the newer image, please set 'repo_version'='0.90-1. For example:\n",
      "\tget_image_uri(region, 'xgboost', '0.90-1').\n"
     ]
    }
   ],
   "source": [
    "# We need to retrieve the location of the container which is provided by Amazon for using XGBoost.\n",
    "# As a matter of convenience, the training and inference code both use the same container.\n",
    "from sagemaker.amazon.amazon_estimator import get_image_uri\n",
    "\n",
    "container = get_image_uri(session.boto_region_name, 'xgboost')"
   ]
  },
  {
   "cell_type": "code",
   "execution_count": 21,
   "metadata": {},
   "outputs": [],
   "source": [
    "# TODO: Create a SageMaker estimator using the container location determined in the previous cell.\n",
    "#       It is recommended that you use a single training instance of type ml.m4.xlarge. It is also\n",
    "#       recommended that you use 's3://{}/{}/output'.format(session.default_bucket(), prefix) as the\n",
    "#       output path.\n",
    "\n",
    "xgb = sagemaker.estimator.Estimator(container, # The image name of the training container\n",
    "                                    role,      # The IAM role to use (our current role in this case)\n",
    "                                    train_instance_count=1, # The number of instances to use for training\n",
    "                                    train_instance_type='ml.m4.xlarge', # The type of instance to use for training\n",
    "                                    output_path='s3://{}/{}/output'.format(session.default_bucket(), prefix),\n",
    "                                                                        # Where to save the output (the model artifacts)\n",
    "                                    sagemaker_session=session) # The current SageMaker session\n",
    "\n",
    "\n",
    "# TODO: Set the XGBoost hyperparameters in the xgb object. Don't forget that in this case we have a binary\n",
    "#       label so we should be using the 'binary:logistic' objective.\n",
    "xgb.set_hyperparameters(max_depth=5,\n",
    "                        eta=0.2,\n",
    "                        gamma=4,\n",
    "                        min_child_weight=6,\n",
    "                        subsample=0.8,\n",
    "                        objective='reg:logistic',\n",
    "                        early_stopping_rounds=10,\n",
    "                        num_round=200)"
   ]
  },
  {
   "cell_type": "markdown",
   "metadata": {},
   "source": [
    "### Fit the XGBoost model\n",
    "\n",
    "Now that our model has been set up we simply need to attach the training and validation datasets and then ask SageMaker to set up the computation."
   ]
  },
  {
   "cell_type": "code",
   "execution_count": 22,
   "metadata": {},
   "outputs": [],
   "source": [
    "train_location = 's3://sagemaker-eu-central-1-668160054588/sentiment-xgboost/train.csv'\n",
    "val_location = 's3://sagemaker-eu-central-1-668160054588/sentiment-xgboost/validation.csv'\n",
    "test_location = 's3://sagemaker-eu-central-1-668160054588/sentiment-xgboost/test.csv'"
   ]
  },
  {
   "cell_type": "code",
   "execution_count": 23,
   "metadata": {},
   "outputs": [],
   "source": [
    "s3_input_train = sagemaker.s3_input(s3_data=train_location, content_type='csv')\n",
    "s3_input_validation = sagemaker.s3_input(s3_data=val_location, content_type='csv')"
   ]
  },
  {
   "cell_type": "code",
   "execution_count": 24,
   "metadata": {},
   "outputs": [
    {
     "name": "stdout",
     "output_type": "stream",
     "text": [
      "2019-10-17 19:40:15 Starting - Starting the training job...\n",
      "2019-10-17 19:40:18 Starting - Launching requested ML instances......\n",
      "2019-10-17 19:41:44 Starting - Preparing the instances for training......\n",
      "2019-10-17 19:42:41 Downloading - Downloading input data...\n",
      "2019-10-17 19:43:14 Training - Downloading the training image...\n",
      "2019-10-17 19:43:31 Training - Training image download completed. Training in progress.\u001b[31mArguments: train\u001b[0m\n",
      "\u001b[31m[2019-10-17:19:43:32:INFO] Running standalone xgboost training.\u001b[0m\n",
      "\u001b[31m[2019-10-17:19:43:32:INFO] File size need to be processed in the node: 238.47mb. Available memory size in the node: 8604.13mb\u001b[0m\n",
      "\u001b[31m[2019-10-17:19:43:32:INFO] Determined delimiter of CSV input is ','\u001b[0m\n",
      "\u001b[31m[19:43:32] S3DistributionType set as FullyReplicated\u001b[0m\n",
      "\u001b[31m[19:43:33] 15000x5000 matrix with 75000000 entries loaded from /opt/ml/input/data/train?format=csv&label_column=0&delimiter=,\u001b[0m\n",
      "\u001b[31m[2019-10-17:19:43:33:INFO] Determined delimiter of CSV input is ','\u001b[0m\n",
      "\u001b[31m[19:43:33] S3DistributionType set as FullyReplicated\u001b[0m\n",
      "\u001b[31m[19:43:35] 10000x5000 matrix with 50000000 entries loaded from /opt/ml/input/data/validation?format=csv&label_column=0&delimiter=,\u001b[0m\n",
      "\u001b[31m[19:43:38] src/tree/updater_prune.cc:74: tree pruning end, 1 roots, 46 extra nodes, 6 pruned nodes, max_depth=5\u001b[0m\n",
      "\u001b[31m[0]#011train-rmse:0.479256#011validation-rmse:0.48018\u001b[0m\n",
      "\u001b[31mMultiple eval metrics have been passed: 'validation-rmse' will be used for early stopping.\n",
      "\u001b[0m\n",
      "\u001b[31mWill train until validation-rmse hasn't improved in 10 rounds.\u001b[0m\n",
      "\u001b[31m[19:43:39] src/tree/updater_prune.cc:74: tree pruning end, 1 roots, 40 extra nodes, 2 pruned nodes, max_depth=5\u001b[0m\n",
      "\u001b[31m[1]#011train-rmse:0.464618#011validation-rmse:0.46589\u001b[0m\n",
      "\u001b[31m[19:43:41] src/tree/updater_prune.cc:74: tree pruning end, 1 roots, 38 extra nodes, 6 pruned nodes, max_depth=5\u001b[0m\n",
      "\u001b[31m[2]#011train-rmse:0.453644#011validation-rmse:0.455827\u001b[0m\n",
      "\u001b[31m[19:43:42] src/tree/updater_prune.cc:74: tree pruning end, 1 roots, 34 extra nodes, 4 pruned nodes, max_depth=5\u001b[0m\n",
      "\u001b[31m[3]#011train-rmse:0.444844#011validation-rmse:0.447262\u001b[0m\n",
      "\u001b[31m[19:43:44] src/tree/updater_prune.cc:74: tree pruning end, 1 roots, 42 extra nodes, 6 pruned nodes, max_depth=5\u001b[0m\n",
      "\u001b[31m[4]#011train-rmse:0.437195#011validation-rmse:0.440678\u001b[0m\n",
      "\u001b[31m[19:43:45] src/tree/updater_prune.cc:74: tree pruning end, 1 roots, 30 extra nodes, 6 pruned nodes, max_depth=5\u001b[0m\n",
      "\u001b[31m[5]#011train-rmse:0.430932#011validation-rmse:0.434762\u001b[0m\n",
      "\u001b[31m[19:43:46] src/tree/updater_prune.cc:74: tree pruning end, 1 roots, 30 extra nodes, 8 pruned nodes, max_depth=5\u001b[0m\n",
      "\u001b[31m[6]#011train-rmse:0.425264#011validation-rmse:0.429514\u001b[0m\n",
      "\u001b[31m[19:43:47] src/tree/updater_prune.cc:74: tree pruning end, 1 roots, 32 extra nodes, 6 pruned nodes, max_depth=5\u001b[0m\n",
      "\u001b[31m[7]#011train-rmse:0.420331#011validation-rmse:0.424676\u001b[0m\n",
      "\u001b[31m[19:43:49] src/tree/updater_prune.cc:74: tree pruning end, 1 roots, 30 extra nodes, 4 pruned nodes, max_depth=5\u001b[0m\n",
      "\u001b[31m[8]#011train-rmse:0.415804#011validation-rmse:0.420779\u001b[0m\n",
      "\u001b[31m[19:43:50] src/tree/updater_prune.cc:74: tree pruning end, 1 roots, 28 extra nodes, 4 pruned nodes, max_depth=5\u001b[0m\n",
      "\u001b[31m[9]#011train-rmse:0.411459#011validation-rmse:0.416919\u001b[0m\n",
      "\u001b[31m[19:43:51] src/tree/updater_prune.cc:74: tree pruning end, 1 roots, 30 extra nodes, 12 pruned nodes, max_depth=5\u001b[0m\n",
      "\u001b[31m[10]#011train-rmse:0.407399#011validation-rmse:0.413253\u001b[0m\n",
      "\u001b[31m[19:43:52] src/tree/updater_prune.cc:74: tree pruning end, 1 roots, 26 extra nodes, 8 pruned nodes, max_depth=5\u001b[0m\n",
      "\u001b[31m[11]#011train-rmse:0.403368#011validation-rmse:0.409769\u001b[0m\n",
      "\u001b[31m[19:43:54] src/tree/updater_prune.cc:74: tree pruning end, 1 roots, 28 extra nodes, 2 pruned nodes, max_depth=5\u001b[0m\n",
      "\u001b[31m[12]#011train-rmse:0.399822#011validation-rmse:0.406519\u001b[0m\n",
      "\u001b[31m[19:43:55] src/tree/updater_prune.cc:74: tree pruning end, 1 roots, 34 extra nodes, 2 pruned nodes, max_depth=5\u001b[0m\n",
      "\u001b[31m[13]#011train-rmse:0.395935#011validation-rmse:0.403497\u001b[0m\n",
      "\u001b[31m[19:43:56] src/tree/updater_prune.cc:74: tree pruning end, 1 roots, 32 extra nodes, 4 pruned nodes, max_depth=5\u001b[0m\n",
      "\u001b[31m[14]#011train-rmse:0.392831#011validation-rmse:0.400869\u001b[0m\n",
      "\u001b[31m[19:43:57] src/tree/updater_prune.cc:74: tree pruning end, 1 roots, 30 extra nodes, 10 pruned nodes, max_depth=5\u001b[0m\n",
      "\u001b[31m[15]#011train-rmse:0.389992#011validation-rmse:0.398161\u001b[0m\n",
      "\u001b[31m[19:43:59] src/tree/updater_prune.cc:74: tree pruning end, 1 roots, 26 extra nodes, 14 pruned nodes, max_depth=5\u001b[0m\n",
      "\u001b[31m[16]#011train-rmse:0.387329#011validation-rmse:0.395839\u001b[0m\n",
      "\u001b[31m[19:44:00] src/tree/updater_prune.cc:74: tree pruning end, 1 roots, 30 extra nodes, 8 pruned nodes, max_depth=5\u001b[0m\n",
      "\u001b[31m[17]#011train-rmse:0.384793#011validation-rmse:0.393758\u001b[0m\n",
      "\u001b[31m[19:44:01] src/tree/updater_prune.cc:74: tree pruning end, 1 roots, 30 extra nodes, 12 pruned nodes, max_depth=5\u001b[0m\n",
      "\u001b[31m[18]#011train-rmse:0.38231#011validation-rmse:0.391758\u001b[0m\n",
      "\u001b[31m[19:44:02] src/tree/updater_prune.cc:74: tree pruning end, 1 roots, 22 extra nodes, 6 pruned nodes, max_depth=5\u001b[0m\n",
      "\u001b[31m[19]#011train-rmse:0.379929#011validation-rmse:0.389798\u001b[0m\n",
      "\u001b[31m[19:44:04] src/tree/updater_prune.cc:74: tree pruning end, 1 roots, 24 extra nodes, 8 pruned nodes, max_depth=5\u001b[0m\n",
      "\u001b[31m[20]#011train-rmse:0.377622#011validation-rmse:0.387707\u001b[0m\n",
      "\u001b[31m[19:44:05] src/tree/updater_prune.cc:74: tree pruning end, 1 roots, 30 extra nodes, 8 pruned nodes, max_depth=5\u001b[0m\n",
      "\u001b[31m[21]#011train-rmse:0.375271#011validation-rmse:0.38592\u001b[0m\n",
      "\u001b[31m[19:44:06] src/tree/updater_prune.cc:74: tree pruning end, 1 roots, 20 extra nodes, 18 pruned nodes, max_depth=5\u001b[0m\n",
      "\u001b[31m[22]#011train-rmse:0.373088#011validation-rmse:0.384129\u001b[0m\n",
      "\u001b[31m[19:44:07] src/tree/updater_prune.cc:74: tree pruning end, 1 roots, 30 extra nodes, 4 pruned nodes, max_depth=5\u001b[0m\n",
      "\u001b[31m[23]#011train-rmse:0.371096#011validation-rmse:0.382447\u001b[0m\n",
      "\u001b[31m[19:44:09] src/tree/updater_prune.cc:74: tree pruning end, 1 roots, 28 extra nodes, 4 pruned nodes, max_depth=5\u001b[0m\n",
      "\u001b[31m[24]#011train-rmse:0.369127#011validation-rmse:0.381088\u001b[0m\n",
      "\u001b[31m[19:44:10] src/tree/updater_prune.cc:74: tree pruning end, 1 roots, 26 extra nodes, 4 pruned nodes, max_depth=5\u001b[0m\n",
      "\u001b[31m[25]#011train-rmse:0.36701#011validation-rmse:0.379387\u001b[0m\n",
      "\u001b[31m[19:44:11] src/tree/updater_prune.cc:74: tree pruning end, 1 roots, 32 extra nodes, 8 pruned nodes, max_depth=5\u001b[0m\n",
      "\u001b[31m[26]#011train-rmse:0.364739#011validation-rmse:0.37737\u001b[0m\n",
      "\u001b[31m[19:44:12] src/tree/updater_prune.cc:74: tree pruning end, 1 roots, 36 extra nodes, 6 pruned nodes, max_depth=5\u001b[0m\n",
      "\u001b[31m[27]#011train-rmse:0.362445#011validation-rmse:0.375881\u001b[0m\n",
      "\u001b[31m[19:44:14] src/tree/updater_prune.cc:74: tree pruning end, 1 roots, 20 extra nodes, 6 pruned nodes, max_depth=5\u001b[0m\n",
      "\u001b[31m[28]#011train-rmse:0.360849#011validation-rmse:0.374628\u001b[0m\n",
      "\u001b[31m[19:44:15] src/tree/updater_prune.cc:74: tree pruning end, 1 roots, 34 extra nodes, 12 pruned nodes, max_depth=5\u001b[0m\n",
      "\u001b[31m[29]#011train-rmse:0.358573#011validation-rmse:0.373236\u001b[0m\n",
      "\u001b[31m[19:44:16] src/tree/updater_prune.cc:74: tree pruning end, 1 roots, 30 extra nodes, 8 pruned nodes, max_depth=5\u001b[0m\n",
      "\u001b[31m[30]#011train-rmse:0.356564#011validation-rmse:0.371923\u001b[0m\n",
      "\u001b[31m[19:44:17] src/tree/updater_prune.cc:74: tree pruning end, 1 roots, 22 extra nodes, 12 pruned nodes, max_depth=5\u001b[0m\n",
      "\u001b[31m[31]#011train-rmse:0.354766#011validation-rmse:0.370317\u001b[0m\n",
      "\u001b[31m[19:44:19] src/tree/updater_prune.cc:74: tree pruning end, 1 roots, 26 extra nodes, 8 pruned nodes, max_depth=5\u001b[0m\n",
      "\u001b[31m[32]#011train-rmse:0.353141#011validation-rmse:0.369189\u001b[0m\n",
      "\u001b[31m[19:44:20] src/tree/updater_prune.cc:74: tree pruning end, 1 roots, 18 extra nodes, 6 pruned nodes, max_depth=5\u001b[0m\n",
      "\u001b[31m[33]#011train-rmse:0.351715#011validation-rmse:0.367841\u001b[0m\n",
      "\u001b[31m[19:44:21] src/tree/updater_prune.cc:74: tree pruning end, 1 roots, 26 extra nodes, 4 pruned nodes, max_depth=5\u001b[0m\n",
      "\u001b[31m[34]#011train-rmse:0.350178#011validation-rmse:0.366737\u001b[0m\n",
      "\u001b[31m[19:44:22] src/tree/updater_prune.cc:74: tree pruning end, 1 roots, 16 extra nodes, 14 pruned nodes, max_depth=5\u001b[0m\n",
      "\u001b[31m[35]#011train-rmse:0.349014#011validation-rmse:0.365775\u001b[0m\n",
      "\u001b[31m[19:44:24] src/tree/updater_prune.cc:74: tree pruning end, 1 roots, 14 extra nodes, 14 pruned nodes, max_depth=5\u001b[0m\n",
      "\u001b[31m[36]#011train-rmse:0.347847#011validation-rmse:0.364775\u001b[0m\n"
     ]
    },
    {
     "name": "stdout",
     "output_type": "stream",
     "text": [
      "\u001b[31m[19:44:25] src/tree/updater_prune.cc:74: tree pruning end, 1 roots, 22 extra nodes, 10 pruned nodes, max_depth=5\u001b[0m\n",
      "\u001b[31m[37]#011train-rmse:0.346517#011validation-rmse:0.363724\u001b[0m\n",
      "\u001b[31m[19:44:26] src/tree/updater_prune.cc:74: tree pruning end, 1 roots, 28 extra nodes, 12 pruned nodes, max_depth=5\u001b[0m\n",
      "\u001b[31m[38]#011train-rmse:0.345146#011validation-rmse:0.362799\u001b[0m\n",
      "\u001b[31m[19:44:27] src/tree/updater_prune.cc:74: tree pruning end, 1 roots, 16 extra nodes, 16 pruned nodes, max_depth=5\u001b[0m\n",
      "\u001b[31m[39]#011train-rmse:0.343982#011validation-rmse:0.361717\u001b[0m\n",
      "\u001b[31m[19:44:29] src/tree/updater_prune.cc:74: tree pruning end, 1 roots, 16 extra nodes, 14 pruned nodes, max_depth=5\u001b[0m\n",
      "\u001b[31m[40]#011train-rmse:0.342923#011validation-rmse:0.360832\u001b[0m\n",
      "\u001b[31m[19:44:30] src/tree/updater_prune.cc:74: tree pruning end, 1 roots, 18 extra nodes, 12 pruned nodes, max_depth=5\u001b[0m\n",
      "\u001b[31m[41]#011train-rmse:0.341834#011validation-rmse:0.360136\u001b[0m\n",
      "\u001b[31m[19:44:31] src/tree/updater_prune.cc:74: tree pruning end, 1 roots, 28 extra nodes, 8 pruned nodes, max_depth=5\u001b[0m\n",
      "\u001b[31m[42]#011train-rmse:0.340381#011validation-rmse:0.359191\u001b[0m\n",
      "\u001b[31m[19:44:32] src/tree/updater_prune.cc:74: tree pruning end, 1 roots, 22 extra nodes, 6 pruned nodes, max_depth=5\u001b[0m\n",
      "\u001b[31m[43]#011train-rmse:0.339159#011validation-rmse:0.358316\u001b[0m\n",
      "\u001b[31m[19:44:34] src/tree/updater_prune.cc:74: tree pruning end, 1 roots, 20 extra nodes, 10 pruned nodes, max_depth=5\u001b[0m\n",
      "\u001b[31m[44]#011train-rmse:0.337954#011validation-rmse:0.357576\u001b[0m\n",
      "\u001b[31m[19:44:35] src/tree/updater_prune.cc:74: tree pruning end, 1 roots, 26 extra nodes, 6 pruned nodes, max_depth=5\u001b[0m\n",
      "\u001b[31m[45]#011train-rmse:0.336708#011validation-rmse:0.356832\u001b[0m\n",
      "\u001b[31m[19:44:36] src/tree/updater_prune.cc:74: tree pruning end, 1 roots, 22 extra nodes, 6 pruned nodes, max_depth=5\u001b[0m\n",
      "\u001b[31m[46]#011train-rmse:0.335672#011validation-rmse:0.355917\u001b[0m\n",
      "\u001b[31m[19:44:37] src/tree/updater_prune.cc:74: tree pruning end, 1 roots, 14 extra nodes, 14 pruned nodes, max_depth=5\u001b[0m\n",
      "\u001b[31m[47]#011train-rmse:0.334796#011validation-rmse:0.355313\u001b[0m\n",
      "\u001b[31m[19:44:39] src/tree/updater_prune.cc:74: tree pruning end, 1 roots, 26 extra nodes, 4 pruned nodes, max_depth=5\u001b[0m\n",
      "\u001b[31m[48]#011train-rmse:0.333718#011validation-rmse:0.354468\u001b[0m\n",
      "\u001b[31m[19:44:40] src/tree/updater_prune.cc:74: tree pruning end, 1 roots, 40 extra nodes, 4 pruned nodes, max_depth=5\u001b[0m\n",
      "\u001b[31m[49]#011train-rmse:0.331967#011validation-rmse:0.353421\u001b[0m\n",
      "\u001b[31m[19:44:41] src/tree/updater_prune.cc:74: tree pruning end, 1 roots, 18 extra nodes, 14 pruned nodes, max_depth=5\u001b[0m\n",
      "\u001b[31m[50]#011train-rmse:0.331042#011validation-rmse:0.352955\u001b[0m\n",
      "\u001b[31m[19:44:42] src/tree/updater_prune.cc:74: tree pruning end, 1 roots, 30 extra nodes, 6 pruned nodes, max_depth=5\u001b[0m\n",
      "\u001b[31m[51]#011train-rmse:0.329617#011validation-rmse:0.351842\u001b[0m\n",
      "\u001b[31m[19:44:44] src/tree/updater_prune.cc:74: tree pruning end, 1 roots, 18 extra nodes, 10 pruned nodes, max_depth=5\u001b[0m\n",
      "\u001b[31m[52]#011train-rmse:0.328675#011validation-rmse:0.351211\u001b[0m\n",
      "\u001b[31m[19:44:45] src/tree/updater_prune.cc:74: tree pruning end, 1 roots, 14 extra nodes, 14 pruned nodes, max_depth=5\u001b[0m\n",
      "\u001b[31m[53]#011train-rmse:0.327892#011validation-rmse:0.350562\u001b[0m\n",
      "\u001b[31m[19:44:46] src/tree/updater_prune.cc:74: tree pruning end, 1 roots, 20 extra nodes, 6 pruned nodes, max_depth=5\u001b[0m\n",
      "\u001b[31m[54]#011train-rmse:0.32709#011validation-rmse:0.350094\u001b[0m\n",
      "\u001b[31m[19:44:47] src/tree/updater_prune.cc:74: tree pruning end, 1 roots, 18 extra nodes, 8 pruned nodes, max_depth=5\u001b[0m\n",
      "\u001b[31m[55]#011train-rmse:0.326194#011validation-rmse:0.349563\u001b[0m\n",
      "\u001b[31m[19:44:49] src/tree/updater_prune.cc:74: tree pruning end, 1 roots, 14 extra nodes, 10 pruned nodes, max_depth=5\u001b[0m\n",
      "\u001b[31m[56]#011train-rmse:0.325503#011validation-rmse:0.348834\u001b[0m\n",
      "\u001b[31m[19:44:50] src/tree/updater_prune.cc:74: tree pruning end, 1 roots, 24 extra nodes, 12 pruned nodes, max_depth=5\u001b[0m\n",
      "\u001b[31m[57]#011train-rmse:0.324442#011validation-rmse:0.348018\u001b[0m\n",
      "\u001b[31m[19:44:51] src/tree/updater_prune.cc:74: tree pruning end, 1 roots, 14 extra nodes, 4 pruned nodes, max_depth=5\u001b[0m\n",
      "\u001b[31m[58]#011train-rmse:0.32369#011validation-rmse:0.347562\u001b[0m\n",
      "\u001b[31m[19:44:52] src/tree/updater_prune.cc:74: tree pruning end, 1 roots, 30 extra nodes, 10 pruned nodes, max_depth=5\u001b[0m\n",
      "\u001b[31m[59]#011train-rmse:0.322656#011validation-rmse:0.346854\u001b[0m\n",
      "\u001b[31m[19:44:54] src/tree/updater_prune.cc:74: tree pruning end, 1 roots, 24 extra nodes, 8 pruned nodes, max_depth=5\u001b[0m\n",
      "\u001b[31m[60]#011train-rmse:0.321556#011validation-rmse:0.346341\u001b[0m\n",
      "\u001b[31m[19:44:55] src/tree/updater_prune.cc:74: tree pruning end, 1 roots, 18 extra nodes, 8 pruned nodes, max_depth=5\u001b[0m\n",
      "\u001b[31m[61]#011train-rmse:0.320565#011validation-rmse:0.345843\u001b[0m\n",
      "\u001b[31m[19:44:56] src/tree/updater_prune.cc:74: tree pruning end, 1 roots, 28 extra nodes, 8 pruned nodes, max_depth=5\u001b[0m\n",
      "\u001b[31m[62]#011train-rmse:0.319546#011validation-rmse:0.345479\u001b[0m\n",
      "\u001b[31m[19:44:57] src/tree/updater_prune.cc:74: tree pruning end, 1 roots, 24 extra nodes, 14 pruned nodes, max_depth=5\u001b[0m\n",
      "\u001b[31m[63]#011train-rmse:0.318768#011validation-rmse:0.34514\u001b[0m\n",
      "\u001b[31m[19:44:59] src/tree/updater_prune.cc:74: tree pruning end, 1 roots, 12 extra nodes, 12 pruned nodes, max_depth=5\u001b[0m\n",
      "\u001b[31m[64]#011train-rmse:0.318144#011validation-rmse:0.34461\u001b[0m\n",
      "\u001b[31m[19:45:00] src/tree/updater_prune.cc:74: tree pruning end, 1 roots, 18 extra nodes, 2 pruned nodes, max_depth=5\u001b[0m\n",
      "\u001b[31m[65]#011train-rmse:0.317383#011validation-rmse:0.344074\u001b[0m\n",
      "\u001b[31m[19:45:01] src/tree/updater_prune.cc:74: tree pruning end, 1 roots, 22 extra nodes, 12 pruned nodes, max_depth=5\u001b[0m\n",
      "\u001b[31m[66]#011train-rmse:0.316484#011validation-rmse:0.343544\u001b[0m\n",
      "\u001b[31m[19:45:02] src/tree/updater_prune.cc:74: tree pruning end, 1 roots, 16 extra nodes, 10 pruned nodes, max_depth=5\u001b[0m\n",
      "\u001b[31m[67]#011train-rmse:0.315839#011validation-rmse:0.343213\u001b[0m\n",
      "\u001b[31m[19:45:04] src/tree/updater_prune.cc:74: tree pruning end, 1 roots, 16 extra nodes, 8 pruned nodes, max_depth=5\u001b[0m\n",
      "\u001b[31m[68]#011train-rmse:0.315079#011validation-rmse:0.342667\u001b[0m\n",
      "\u001b[31m[19:45:05] src/tree/updater_prune.cc:74: tree pruning end, 1 roots, 28 extra nodes, 4 pruned nodes, max_depth=5\u001b[0m\n",
      "\u001b[31m[69]#011train-rmse:0.314013#011validation-rmse:0.342485\u001b[0m\n",
      "\u001b[31m[19:45:06] src/tree/updater_prune.cc:74: tree pruning end, 1 roots, 12 extra nodes, 12 pruned nodes, max_depth=5\u001b[0m\n",
      "\u001b[31m[70]#011train-rmse:0.313516#011validation-rmse:0.342168\u001b[0m\n",
      "\u001b[31m[19:45:07] src/tree/updater_prune.cc:74: tree pruning end, 1 roots, 34 extra nodes, 8 pruned nodes, max_depth=5\u001b[0m\n",
      "\u001b[31m[71]#011train-rmse:0.312293#011validation-rmse:0.34155\u001b[0m\n",
      "\u001b[31m[19:45:09] src/tree/updater_prune.cc:74: tree pruning end, 1 roots, 24 extra nodes, 14 pruned nodes, max_depth=5\u001b[0m\n",
      "\u001b[31m[72]#011train-rmse:0.311353#011validation-rmse:0.341236\u001b[0m\n",
      "\u001b[31m[19:45:10] src/tree/updater_prune.cc:74: tree pruning end, 1 roots, 18 extra nodes, 20 pruned nodes, max_depth=5\u001b[0m\n",
      "\u001b[31m[73]#011train-rmse:0.310578#011validation-rmse:0.340739\u001b[0m\n",
      "\u001b[31m[19:45:11] src/tree/updater_prune.cc:74: tree pruning end, 1 roots, 16 extra nodes, 12 pruned nodes, max_depth=5\u001b[0m\n",
      "\u001b[31m[74]#011train-rmse:0.309872#011validation-rmse:0.34021\u001b[0m\n",
      "\u001b[31m[19:45:12] src/tree/updater_prune.cc:74: tree pruning end, 1 roots, 14 extra nodes, 10 pruned nodes, max_depth=5\u001b[0m\n",
      "\u001b[31m[75]#011train-rmse:0.309235#011validation-rmse:0.339699\u001b[0m\n",
      "\u001b[31m[19:45:14] src/tree/updater_prune.cc:74: tree pruning end, 1 roots, 20 extra nodes, 10 pruned nodes, max_depth=5\u001b[0m\n",
      "\u001b[31m[76]#011train-rmse:0.308606#011validation-rmse:0.339312\u001b[0m\n",
      "\u001b[31m[19:45:15] src/tree/updater_prune.cc:74: tree pruning end, 1 roots, 20 extra nodes, 8 pruned nodes, max_depth=5\u001b[0m\n",
      "\u001b[31m[77]#011train-rmse:0.307809#011validation-rmse:0.338786\u001b[0m\n",
      "\u001b[31m[19:45:16] src/tree/updater_prune.cc:74: tree pruning end, 1 roots, 18 extra nodes, 12 pruned nodes, max_depth=5\u001b[0m\n",
      "\u001b[31m[78]#011train-rmse:0.30722#011validation-rmse:0.338422\u001b[0m\n",
      "\u001b[31m[19:45:17] src/tree/updater_prune.cc:74: tree pruning end, 1 roots, 26 extra nodes, 10 pruned nodes, max_depth=5\u001b[0m\n",
      "\u001b[31m[79]#011train-rmse:0.306298#011validation-rmse:0.337971\u001b[0m\n",
      "\u001b[31m[19:45:19] src/tree/updater_prune.cc:74: tree pruning end, 1 roots, 16 extra nodes, 12 pruned nodes, max_depth=5\u001b[0m\n",
      "\u001b[31m[80]#011train-rmse:0.305635#011validation-rmse:0.337625\u001b[0m\n",
      "\u001b[31m[19:45:20] src/tree/updater_prune.cc:74: tree pruning end, 1 roots, 16 extra nodes, 4 pruned nodes, max_depth=5\u001b[0m\n",
      "\u001b[31m[81]#011train-rmse:0.305036#011validation-rmse:0.337279\u001b[0m\n",
      "\u001b[31m[19:45:21] src/tree/updater_prune.cc:74: tree pruning end, 1 roots, 20 extra nodes, 10 pruned nodes, max_depth=5\u001b[0m\n",
      "\u001b[31m[82]#011train-rmse:0.304418#011validation-rmse:0.336852\u001b[0m\n",
      "\u001b[31m[19:45:23] src/tree/updater_prune.cc:74: tree pruning end, 1 roots, 18 extra nodes, 12 pruned nodes, max_depth=5\u001b[0m\n",
      "\u001b[31m[83]#011train-rmse:0.303866#011validation-rmse:0.336578\u001b[0m\n",
      "\u001b[31m[19:45:24] src/tree/updater_prune.cc:74: tree pruning end, 1 roots, 24 extra nodes, 16 pruned nodes, max_depth=5\u001b[0m\n",
      "\u001b[31m[84]#011train-rmse:0.303222#011validation-rmse:0.336192\u001b[0m\n"
     ]
    },
    {
     "name": "stdout",
     "output_type": "stream",
     "text": [
      "\u001b[31m[19:45:25] src/tree/updater_prune.cc:74: tree pruning end, 1 roots, 26 extra nodes, 4 pruned nodes, max_depth=5\u001b[0m\n",
      "\u001b[31m[85]#011train-rmse:0.302346#011validation-rmse:0.336033\u001b[0m\n",
      "\u001b[31m[19:45:26] src/tree/updater_prune.cc:74: tree pruning end, 1 roots, 24 extra nodes, 2 pruned nodes, max_depth=5\u001b[0m\n",
      "\u001b[31m[86]#011train-rmse:0.301617#011validation-rmse:0.335582\u001b[0m\n",
      "\u001b[31m[19:45:28] src/tree/updater_prune.cc:74: tree pruning end, 1 roots, 14 extra nodes, 6 pruned nodes, max_depth=5\u001b[0m\n",
      "\u001b[31m[87]#011train-rmse:0.301118#011validation-rmse:0.335167\u001b[0m\n",
      "\u001b[31m[19:45:29] src/tree/updater_prune.cc:74: tree pruning end, 1 roots, 10 extra nodes, 8 pruned nodes, max_depth=5\u001b[0m\n",
      "\u001b[31m[88]#011train-rmse:0.300631#011validation-rmse:0.335127\u001b[0m\n",
      "\u001b[31m[19:45:30] src/tree/updater_prune.cc:74: tree pruning end, 1 roots, 28 extra nodes, 4 pruned nodes, max_depth=5\u001b[0m\n",
      "\u001b[31m[89]#011train-rmse:0.299735#011validation-rmse:0.334637\u001b[0m\n",
      "\u001b[31m[19:45:31] src/tree/updater_prune.cc:74: tree pruning end, 1 roots, 14 extra nodes, 10 pruned nodes, max_depth=5\u001b[0m\n",
      "\u001b[31m[90]#011train-rmse:0.299227#011validation-rmse:0.334275\u001b[0m\n",
      "\u001b[31m[19:45:33] src/tree/updater_prune.cc:74: tree pruning end, 1 roots, 16 extra nodes, 8 pruned nodes, max_depth=5\u001b[0m\n",
      "\u001b[31m[91]#011train-rmse:0.298823#011validation-rmse:0.333898\u001b[0m\n",
      "\u001b[31m[19:45:34] src/tree/updater_prune.cc:74: tree pruning end, 1 roots, 28 extra nodes, 6 pruned nodes, max_depth=5\u001b[0m\n",
      "\u001b[31m[92]#011train-rmse:0.298072#011validation-rmse:0.333466\u001b[0m\n",
      "\u001b[31m[19:45:35] src/tree/updater_prune.cc:74: tree pruning end, 1 roots, 12 extra nodes, 10 pruned nodes, max_depth=5\u001b[0m\n",
      "\u001b[31m[93]#011train-rmse:0.297605#011validation-rmse:0.333282\u001b[0m\n",
      "\u001b[31m[19:45:36] src/tree/updater_prune.cc:74: tree pruning end, 1 roots, 14 extra nodes, 6 pruned nodes, max_depth=5\u001b[0m\n",
      "\u001b[31m[94]#011train-rmse:0.297154#011validation-rmse:0.332997\u001b[0m\n",
      "\u001b[31m[19:45:37] src/tree/updater_prune.cc:74: tree pruning end, 1 roots, 26 extra nodes, 10 pruned nodes, max_depth=5\u001b[0m\n",
      "\u001b[31m[95]#011train-rmse:0.296314#011validation-rmse:0.332749\u001b[0m\n",
      "\u001b[31m[19:45:39] src/tree/updater_prune.cc:74: tree pruning end, 1 roots, 22 extra nodes, 2 pruned nodes, max_depth=5\u001b[0m\n",
      "\u001b[31m[96]#011train-rmse:0.295658#011validation-rmse:0.33223\u001b[0m\n",
      "\u001b[31m[19:45:40] src/tree/updater_prune.cc:74: tree pruning end, 1 roots, 16 extra nodes, 4 pruned nodes, max_depth=5\u001b[0m\n",
      "\u001b[31m[97]#011train-rmse:0.295019#011validation-rmse:0.332032\u001b[0m\n",
      "\u001b[31m[19:45:41] src/tree/updater_prune.cc:74: tree pruning end, 1 roots, 12 extra nodes, 14 pruned nodes, max_depth=5\u001b[0m\n",
      "\u001b[31m[98]#011train-rmse:0.29458#011validation-rmse:0.33174\u001b[0m\n",
      "\u001b[31m[19:45:42] src/tree/updater_prune.cc:74: tree pruning end, 1 roots, 22 extra nodes, 12 pruned nodes, max_depth=5\u001b[0m\n",
      "\u001b[31m[99]#011train-rmse:0.293927#011validation-rmse:0.331102\u001b[0m\n",
      "\u001b[31m[19:45:44] src/tree/updater_prune.cc:74: tree pruning end, 1 roots, 18 extra nodes, 12 pruned nodes, max_depth=5\u001b[0m\n",
      "\u001b[31m[100]#011train-rmse:0.293448#011validation-rmse:0.330691\u001b[0m\n",
      "\u001b[31m[19:45:45] src/tree/updater_prune.cc:74: tree pruning end, 1 roots, 12 extra nodes, 6 pruned nodes, max_depth=5\u001b[0m\n",
      "\u001b[31m[101]#011train-rmse:0.293043#011validation-rmse:0.330586\u001b[0m\n",
      "\u001b[31m[19:45:46] src/tree/updater_prune.cc:74: tree pruning end, 1 roots, 22 extra nodes, 8 pruned nodes, max_depth=5\u001b[0m\n",
      "\u001b[31m[102]#011train-rmse:0.292345#011validation-rmse:0.330208\u001b[0m\n",
      "\u001b[31m[19:45:48] src/tree/updater_prune.cc:74: tree pruning end, 1 roots, 10 extra nodes, 14 pruned nodes, max_depth=5\u001b[0m\n",
      "\u001b[31m[103]#011train-rmse:0.291991#011validation-rmse:0.329883\u001b[0m\n",
      "\u001b[31m[19:45:49] src/tree/updater_prune.cc:74: tree pruning end, 1 roots, 24 extra nodes, 8 pruned nodes, max_depth=5\u001b[0m\n",
      "\u001b[31m[104]#011train-rmse:0.291248#011validation-rmse:0.329571\u001b[0m\n",
      "\u001b[31m[19:45:50] src/tree/updater_prune.cc:74: tree pruning end, 1 roots, 20 extra nodes, 10 pruned nodes, max_depth=5\u001b[0m\n",
      "\u001b[31m[105]#011train-rmse:0.290669#011validation-rmse:0.329423\u001b[0m\n",
      "\u001b[31m[19:45:51] src/tree/updater_prune.cc:74: tree pruning end, 1 roots, 14 extra nodes, 20 pruned nodes, max_depth=5\u001b[0m\n",
      "\u001b[31m[106]#011train-rmse:0.290267#011validation-rmse:0.329343\u001b[0m\n",
      "\u001b[31m[19:45:52] src/tree/updater_prune.cc:74: tree pruning end, 1 roots, 12 extra nodes, 6 pruned nodes, max_depth=5\u001b[0m\n",
      "\u001b[31m[107]#011train-rmse:0.289872#011validation-rmse:0.329317\u001b[0m\n",
      "\u001b[31m[19:45:54] src/tree/updater_prune.cc:74: tree pruning end, 1 roots, 22 extra nodes, 8 pruned nodes, max_depth=5\u001b[0m\n",
      "\u001b[31m[108]#011train-rmse:0.289202#011validation-rmse:0.329055\u001b[0m\n",
      "\u001b[31m[19:45:55] src/tree/updater_prune.cc:74: tree pruning end, 1 roots, 12 extra nodes, 14 pruned nodes, max_depth=5\u001b[0m\n",
      "\u001b[31m[109]#011train-rmse:0.28886#011validation-rmse:0.328873\u001b[0m\n",
      "\u001b[31m[19:45:56] src/tree/updater_prune.cc:74: tree pruning end, 1 roots, 14 extra nodes, 12 pruned nodes, max_depth=5\u001b[0m\n",
      "\u001b[31m[110]#011train-rmse:0.288419#011validation-rmse:0.328588\u001b[0m\n",
      "\u001b[31m[19:45:57] src/tree/updater_prune.cc:74: tree pruning end, 1 roots, 12 extra nodes, 8 pruned nodes, max_depth=5\u001b[0m\n",
      "\u001b[31m[111]#011train-rmse:0.288067#011validation-rmse:0.328271\u001b[0m\n",
      "\u001b[31m[19:45:59] src/tree/updater_prune.cc:74: tree pruning end, 1 roots, 14 extra nodes, 6 pruned nodes, max_depth=5\u001b[0m\n",
      "\u001b[31m[112]#011train-rmse:0.287643#011validation-rmse:0.327908\u001b[0m\n",
      "\u001b[31m[19:46:00] src/tree/updater_prune.cc:74: tree pruning end, 1 roots, 18 extra nodes, 8 pruned nodes, max_depth=5\u001b[0m\n",
      "\u001b[31m[113]#011train-rmse:0.28726#011validation-rmse:0.327399\u001b[0m\n",
      "\u001b[31m[19:46:01] src/tree/updater_prune.cc:74: tree pruning end, 1 roots, 26 extra nodes, 10 pruned nodes, max_depth=5\u001b[0m\n",
      "\u001b[31m[114]#011train-rmse:0.286574#011validation-rmse:0.32718\u001b[0m\n",
      "\u001b[31m[19:46:02] src/tree/updater_prune.cc:74: tree pruning end, 1 roots, 10 extra nodes, 6 pruned nodes, max_depth=5\u001b[0m\n",
      "\u001b[31m[115]#011train-rmse:0.286299#011validation-rmse:0.326953\u001b[0m\n",
      "\u001b[31m[19:46:04] src/tree/updater_prune.cc:74: tree pruning end, 1 roots, 12 extra nodes, 6 pruned nodes, max_depth=5\u001b[0m\n",
      "\u001b[31m[116]#011train-rmse:0.285923#011validation-rmse:0.326627\u001b[0m\n",
      "\u001b[31m[19:46:05] src/tree/updater_prune.cc:74: tree pruning end, 1 roots, 28 extra nodes, 12 pruned nodes, max_depth=5\u001b[0m\n",
      "\u001b[31m[117]#011train-rmse:0.285201#011validation-rmse:0.326383\u001b[0m\n",
      "\u001b[31m[19:46:06] src/tree/updater_prune.cc:74: tree pruning end, 1 roots, 20 extra nodes, 12 pruned nodes, max_depth=5\u001b[0m\n",
      "\u001b[31m[118]#011train-rmse:0.284623#011validation-rmse:0.326221\u001b[0m\n",
      "\u001b[31m[19:46:08] src/tree/updater_prune.cc:74: tree pruning end, 1 roots, 14 extra nodes, 6 pruned nodes, max_depth=5\u001b[0m\n",
      "\u001b[31m[119]#011train-rmse:0.284214#011validation-rmse:0.326087\u001b[0m\n",
      "\u001b[31m[19:46:09] src/tree/updater_prune.cc:74: tree pruning end, 1 roots, 10 extra nodes, 8 pruned nodes, max_depth=5\u001b[0m\n",
      "\u001b[31m[120]#011train-rmse:0.28387#011validation-rmse:0.325997\u001b[0m\n",
      "\u001b[31m[19:46:10] src/tree/updater_prune.cc:74: tree pruning end, 1 roots, 10 extra nodes, 12 pruned nodes, max_depth=5\u001b[0m\n",
      "\u001b[31m[121]#011train-rmse:0.283605#011validation-rmse:0.32578\u001b[0m\n",
      "\u001b[31m[19:46:11] src/tree/updater_prune.cc:74: tree pruning end, 1 roots, 12 extra nodes, 4 pruned nodes, max_depth=5\u001b[0m\n",
      "\u001b[31m[122]#011train-rmse:0.28317#011validation-rmse:0.325524\u001b[0m\n",
      "\u001b[31m[19:46:13] src/tree/updater_prune.cc:74: tree pruning end, 1 roots, 12 extra nodes, 4 pruned nodes, max_depth=5\u001b[0m\n",
      "\u001b[31m[123]#011train-rmse:0.282808#011validation-rmse:0.325384\u001b[0m\n",
      "\u001b[31m[19:46:14] src/tree/updater_prune.cc:74: tree pruning end, 1 roots, 18 extra nodes, 0 pruned nodes, max_depth=5\u001b[0m\n",
      "\u001b[31m[124]#011train-rmse:0.282317#011validation-rmse:0.325079\u001b[0m\n",
      "\u001b[31m[19:46:15] src/tree/updater_prune.cc:74: tree pruning end, 1 roots, 16 extra nodes, 8 pruned nodes, max_depth=5\u001b[0m\n",
      "\u001b[31m[125]#011train-rmse:0.281862#011validation-rmse:0.32476\u001b[0m\n",
      "\u001b[31m[19:46:16] src/tree/updater_prune.cc:74: tree pruning end, 1 roots, 12 extra nodes, 10 pruned nodes, max_depth=5\u001b[0m\n",
      "\u001b[31m[126]#011train-rmse:0.281567#011validation-rmse:0.324549\u001b[0m\n",
      "\u001b[31m[19:46:17] src/tree/updater_prune.cc:74: tree pruning end, 1 roots, 16 extra nodes, 14 pruned nodes, max_depth=5\u001b[0m\n",
      "\u001b[31m[127]#011train-rmse:0.281049#011validation-rmse:0.324484\u001b[0m\n",
      "\u001b[31m[19:46:19] src/tree/updater_prune.cc:74: tree pruning end, 1 roots, 10 extra nodes, 20 pruned nodes, max_depth=5\u001b[0m\n",
      "\u001b[31m[128]#011train-rmse:0.280738#011validation-rmse:0.324259\u001b[0m\n",
      "\u001b[31m[19:46:20] src/tree/updater_prune.cc:74: tree pruning end, 1 roots, 10 extra nodes, 10 pruned nodes, max_depth=5\u001b[0m\n",
      "\u001b[31m[129]#011train-rmse:0.280416#011validation-rmse:0.324124\u001b[0m\n",
      "\u001b[31m[19:46:21] src/tree/updater_prune.cc:74: tree pruning end, 1 roots, 14 extra nodes, 8 pruned nodes, max_depth=5\u001b[0m\n",
      "\u001b[31m[130]#011train-rmse:0.280013#011validation-rmse:0.324125\u001b[0m\n",
      "\u001b[31m[19:46:22] src/tree/updater_prune.cc:74: tree pruning end, 1 roots, 10 extra nodes, 6 pruned nodes, max_depth=5\u001b[0m\n",
      "\u001b[31m[131]#011train-rmse:0.279728#011validation-rmse:0.323918\u001b[0m\n",
      "\u001b[31m[19:46:24] src/tree/updater_prune.cc:74: tree pruning end, 1 roots, 22 extra nodes, 10 pruned nodes, max_depth=5\u001b[0m\n",
      "\u001b[31m[132]#011train-rmse:0.279106#011validation-rmse:0.32379\u001b[0m\n"
     ]
    },
    {
     "name": "stdout",
     "output_type": "stream",
     "text": [
      "\u001b[31m[19:46:25] src/tree/updater_prune.cc:74: tree pruning end, 1 roots, 18 extra nodes, 8 pruned nodes, max_depth=5\u001b[0m\n",
      "\u001b[31m[133]#011train-rmse:0.278615#011validation-rmse:0.323465\u001b[0m\n",
      "\u001b[31m[19:46:26] src/tree/updater_prune.cc:74: tree pruning end, 1 roots, 22 extra nodes, 2 pruned nodes, max_depth=5\u001b[0m\n",
      "\u001b[31m[134]#011train-rmse:0.278022#011validation-rmse:0.323107\u001b[0m\n",
      "\u001b[31m[19:46:27] src/tree/updater_prune.cc:74: tree pruning end, 1 roots, 16 extra nodes, 2 pruned nodes, max_depth=5\u001b[0m\n",
      "\u001b[31m[135]#011train-rmse:0.277616#011validation-rmse:0.32286\u001b[0m\n",
      "\u001b[31m[19:46:29] src/tree/updater_prune.cc:74: tree pruning end, 1 roots, 12 extra nodes, 8 pruned nodes, max_depth=5\u001b[0m\n",
      "\u001b[31m[136]#011train-rmse:0.277315#011validation-rmse:0.322654\u001b[0m\n",
      "\u001b[31m[19:46:30] src/tree/updater_prune.cc:74: tree pruning end, 1 roots, 18 extra nodes, 12 pruned nodes, max_depth=5\u001b[0m\n",
      "\u001b[31m[137]#011train-rmse:0.276832#011validation-rmse:0.32242\u001b[0m\n",
      "\u001b[31m[19:46:31] src/tree/updater_prune.cc:74: tree pruning end, 1 roots, 14 extra nodes, 8 pruned nodes, max_depth=5\u001b[0m\n",
      "\u001b[31m[138]#011train-rmse:0.276445#011validation-rmse:0.322315\u001b[0m\n",
      "\u001b[31m[19:46:33] src/tree/updater_prune.cc:74: tree pruning end, 1 roots, 22 extra nodes, 6 pruned nodes, max_depth=5\u001b[0m\n",
      "\u001b[31m[139]#011train-rmse:0.275894#011validation-rmse:0.322145\u001b[0m\n",
      "\u001b[31m[19:46:34] src/tree/updater_prune.cc:74: tree pruning end, 1 roots, 10 extra nodes, 8 pruned nodes, max_depth=5\u001b[0m\n",
      "\u001b[31m[140]#011train-rmse:0.275603#011validation-rmse:0.322095\u001b[0m\n",
      "\u001b[31m[19:46:35] src/tree/updater_prune.cc:74: tree pruning end, 1 roots, 12 extra nodes, 8 pruned nodes, max_depth=5\u001b[0m\n",
      "\u001b[31m[141]#011train-rmse:0.275283#011validation-rmse:0.32179\u001b[0m\n",
      "\u001b[31m[19:46:36] src/tree/updater_prune.cc:74: tree pruning end, 1 roots, 20 extra nodes, 8 pruned nodes, max_depth=5\u001b[0m\n",
      "\u001b[31m[142]#011train-rmse:0.274684#011validation-rmse:0.321808\u001b[0m\n",
      "\u001b[31m[19:46:38] src/tree/updater_prune.cc:74: tree pruning end, 1 roots, 12 extra nodes, 6 pruned nodes, max_depth=5\u001b[0m\n",
      "\u001b[31m[143]#011train-rmse:0.27442#011validation-rmse:0.321649\u001b[0m\n",
      "\u001b[31m[19:46:39] src/tree/updater_prune.cc:74: tree pruning end, 1 roots, 14 extra nodes, 16 pruned nodes, max_depth=5\u001b[0m\n",
      "\u001b[31m[144]#011train-rmse:0.274092#011validation-rmse:0.321636\u001b[0m\n",
      "\u001b[31m[19:46:40] src/tree/updater_prune.cc:74: tree pruning end, 1 roots, 10 extra nodes, 6 pruned nodes, max_depth=5\u001b[0m\n",
      "\u001b[31m[145]#011train-rmse:0.27384#011validation-rmse:0.321437\u001b[0m\n",
      "\u001b[31m[19:46:41] src/tree/updater_prune.cc:74: tree pruning end, 1 roots, 12 extra nodes, 0 pruned nodes, max_depth=5\u001b[0m\n",
      "\u001b[31m[146]#011train-rmse:0.273543#011validation-rmse:0.321283\u001b[0m\n",
      "\u001b[31m[19:46:43] src/tree/updater_prune.cc:74: tree pruning end, 1 roots, 10 extra nodes, 4 pruned nodes, max_depth=5\u001b[0m\n",
      "\u001b[31m[147]#011train-rmse:0.273308#011validation-rmse:0.321184\u001b[0m\n",
      "\u001b[31m[19:46:44] src/tree/updater_prune.cc:74: tree pruning end, 1 roots, 14 extra nodes, 4 pruned nodes, max_depth=5\u001b[0m\n",
      "\u001b[31m[148]#011train-rmse:0.272946#011validation-rmse:0.321128\u001b[0m\n",
      "\u001b[31m[19:46:45] src/tree/updater_prune.cc:74: tree pruning end, 1 roots, 12 extra nodes, 8 pruned nodes, max_depth=5\u001b[0m\n",
      "\u001b[31m[149]#011train-rmse:0.272718#011validation-rmse:0.321064\u001b[0m\n",
      "\u001b[31m[19:46:46] src/tree/updater_prune.cc:74: tree pruning end, 1 roots, 10 extra nodes, 8 pruned nodes, max_depth=5\u001b[0m\n",
      "\u001b[31m[150]#011train-rmse:0.272484#011validation-rmse:0.320971\u001b[0m\n",
      "\u001b[31m[19:46:48] src/tree/updater_prune.cc:74: tree pruning end, 1 roots, 10 extra nodes, 6 pruned nodes, max_depth=5\u001b[0m\n",
      "\u001b[31m[151]#011train-rmse:0.272199#011validation-rmse:0.320603\u001b[0m\n",
      "\u001b[31m[19:46:49] src/tree/updater_prune.cc:74: tree pruning end, 1 roots, 12 extra nodes, 14 pruned nodes, max_depth=5\u001b[0m\n",
      "\u001b[31m[152]#011train-rmse:0.271897#011validation-rmse:0.320532\u001b[0m\n",
      "\u001b[31m[19:46:50] src/tree/updater_prune.cc:74: tree pruning end, 1 roots, 12 extra nodes, 6 pruned nodes, max_depth=5\u001b[0m\n",
      "\u001b[31m[153]#011train-rmse:0.271612#011validation-rmse:0.320288\u001b[0m\n",
      "\u001b[31m[19:46:51] src/tree/updater_prune.cc:74: tree pruning end, 1 roots, 22 extra nodes, 8 pruned nodes, max_depth=5\u001b[0m\n",
      "\u001b[31m[154]#011train-rmse:0.270933#011validation-rmse:0.320138\u001b[0m\n",
      "\u001b[31m[19:46:53] src/tree/updater_prune.cc:74: tree pruning end, 1 roots, 16 extra nodes, 16 pruned nodes, max_depth=5\u001b[0m\n",
      "\u001b[31m[155]#011train-rmse:0.270584#011validation-rmse:0.319926\u001b[0m\n",
      "\u001b[31m[19:46:54] src/tree/updater_prune.cc:74: tree pruning end, 1 roots, 16 extra nodes, 8 pruned nodes, max_depth=5\u001b[0m\n",
      "\u001b[31m[156]#011train-rmse:0.27015#011validation-rmse:0.319694\u001b[0m\n",
      "\u001b[31m[19:46:55] src/tree/updater_prune.cc:74: tree pruning end, 1 roots, 14 extra nodes, 4 pruned nodes, max_depth=5\u001b[0m\n",
      "\u001b[31m[157]#011train-rmse:0.269795#011validation-rmse:0.319522\u001b[0m\n",
      "\u001b[31m[19:46:56] src/tree/updater_prune.cc:74: tree pruning end, 1 roots, 10 extra nodes, 4 pruned nodes, max_depth=5\u001b[0m\n",
      "\u001b[31m[158]#011train-rmse:0.269611#011validation-rmse:0.319384\u001b[0m\n",
      "\u001b[31m[19:46:58] src/tree/updater_prune.cc:74: tree pruning end, 1 roots, 10 extra nodes, 2 pruned nodes, max_depth=5\u001b[0m\n",
      "\u001b[31m[159]#011train-rmse:0.269393#011validation-rmse:0.319313\u001b[0m\n",
      "\u001b[31m[19:46:59] src/tree/updater_prune.cc:74: tree pruning end, 1 roots, 14 extra nodes, 8 pruned nodes, max_depth=5\u001b[0m\n",
      "\u001b[31m[160]#011train-rmse:0.26907#011validation-rmse:0.31915\u001b[0m\n",
      "\u001b[31m[19:47:00] src/tree/updater_prune.cc:74: tree pruning end, 1 roots, 16 extra nodes, 10 pruned nodes, max_depth=5\u001b[0m\n",
      "\u001b[31m[161]#011train-rmse:0.26875#011validation-rmse:0.318913\u001b[0m\n",
      "\u001b[31m[19:47:01] src/tree/updater_prune.cc:74: tree pruning end, 1 roots, 10 extra nodes, 4 pruned nodes, max_depth=5\u001b[0m\n",
      "\u001b[31m[162]#011train-rmse:0.268544#011validation-rmse:0.318675\u001b[0m\n",
      "\u001b[31m[19:47:03] src/tree/updater_prune.cc:74: tree pruning end, 1 roots, 16 extra nodes, 10 pruned nodes, max_depth=5\u001b[0m\n",
      "\u001b[31m[163]#011train-rmse:0.268224#011validation-rmse:0.31853\u001b[0m\n",
      "\u001b[31m[19:47:04] src/tree/updater_prune.cc:74: tree pruning end, 1 roots, 10 extra nodes, 12 pruned nodes, max_depth=5\u001b[0m\n",
      "\u001b[31m[164]#011train-rmse:0.267988#011validation-rmse:0.318436\u001b[0m\n",
      "\u001b[31m[19:47:05] src/tree/updater_prune.cc:74: tree pruning end, 1 roots, 10 extra nodes, 2 pruned nodes, max_depth=5\u001b[0m\n",
      "\u001b[31m[165]#011train-rmse:0.267731#011validation-rmse:0.318333\u001b[0m\n",
      "\u001b[31m[19:47:07] src/tree/updater_prune.cc:74: tree pruning end, 1 roots, 24 extra nodes, 14 pruned nodes, max_depth=5\u001b[0m\n",
      "\u001b[31m[166]#011train-rmse:0.267067#011validation-rmse:0.318011\u001b[0m\n",
      "\u001b[31m[19:47:08] src/tree/updater_prune.cc:74: tree pruning end, 1 roots, 10 extra nodes, 12 pruned nodes, max_depth=5\u001b[0m\n",
      "\u001b[31m[167]#011train-rmse:0.266949#011validation-rmse:0.317936\u001b[0m\n",
      "\u001b[31m[19:47:09] src/tree/updater_prune.cc:74: tree pruning end, 1 roots, 10 extra nodes, 4 pruned nodes, max_depth=5\u001b[0m\n",
      "\u001b[31m[168]#011train-rmse:0.266712#011validation-rmse:0.317757\u001b[0m\n",
      "\u001b[31m[19:47:10] src/tree/updater_prune.cc:74: tree pruning end, 1 roots, 16 extra nodes, 6 pruned nodes, max_depth=5\u001b[0m\n",
      "\u001b[31m[169]#011train-rmse:0.266336#011validation-rmse:0.317757\u001b[0m\n",
      "\u001b[31m[19:47:12] src/tree/updater_prune.cc:74: tree pruning end, 1 roots, 12 extra nodes, 12 pruned nodes, max_depth=5\u001b[0m\n",
      "\u001b[31m[170]#011train-rmse:0.266109#011validation-rmse:0.317796\u001b[0m\n",
      "\u001b[31m[19:47:13] src/tree/updater_prune.cc:74: tree pruning end, 1 roots, 10 extra nodes, 8 pruned nodes, max_depth=5\u001b[0m\n",
      "\u001b[31m[171]#011train-rmse:0.265907#011validation-rmse:0.317599\u001b[0m\n",
      "\u001b[31m[19:47:14] src/tree/updater_prune.cc:74: tree pruning end, 1 roots, 10 extra nodes, 2 pruned nodes, max_depth=5\u001b[0m\n",
      "\u001b[31m[172]#011train-rmse:0.265628#011validation-rmse:0.317521\u001b[0m\n",
      "\u001b[31m[19:47:15] src/tree/updater_prune.cc:74: tree pruning end, 1 roots, 18 extra nodes, 6 pruned nodes, max_depth=5\u001b[0m\n",
      "\u001b[31m[173]#011train-rmse:0.265119#011validation-rmse:0.317336\u001b[0m\n",
      "\u001b[31m[19:47:17] src/tree/updater_prune.cc:74: tree pruning end, 1 roots, 14 extra nodes, 10 pruned nodes, max_depth=5\u001b[0m\n",
      "\u001b[31m[174]#011train-rmse:0.264835#011validation-rmse:0.317303\u001b[0m\n",
      "\u001b[31m[19:47:18] src/tree/updater_prune.cc:74: tree pruning end, 1 roots, 12 extra nodes, 6 pruned nodes, max_depth=5\u001b[0m\n",
      "\u001b[31m[175]#011train-rmse:0.264568#011validation-rmse:0.317235\u001b[0m\n",
      "\u001b[31m[19:47:19] src/tree/updater_prune.cc:74: tree pruning end, 1 roots, 10 extra nodes, 6 pruned nodes, max_depth=5\u001b[0m\n",
      "\u001b[31m[176]#011train-rmse:0.264351#011validation-rmse:0.317229\u001b[0m\n",
      "\u001b[31m[19:47:20] src/tree/updater_prune.cc:74: tree pruning end, 1 roots, 18 extra nodes, 8 pruned nodes, max_depth=5\u001b[0m\n",
      "\u001b[31m[177]#011train-rmse:0.263925#011validation-rmse:0.317169\u001b[0m\n",
      "\u001b[31m[19:47:22] src/tree/updater_prune.cc:74: tree pruning end, 1 roots, 10 extra nodes, 14 pruned nodes, max_depth=5\u001b[0m\n",
      "\u001b[31m[178]#011train-rmse:0.263688#011validation-rmse:0.317005\u001b[0m\n",
      "\u001b[31m[19:47:23] src/tree/updater_prune.cc:74: tree pruning end, 1 roots, 16 extra nodes, 8 pruned nodes, max_depth=5\u001b[0m\n",
      "\u001b[31m[179]#011train-rmse:0.26335#011validation-rmse:0.316796\u001b[0m\n",
      "\u001b[31m[19:47:24] src/tree/updater_prune.cc:74: tree pruning end, 1 roots, 10 extra nodes, 4 pruned nodes, max_depth=5\u001b[0m\n",
      "\u001b[31m[180]#011train-rmse:0.263171#011validation-rmse:0.316774\u001b[0m\n"
     ]
    },
    {
     "name": "stdout",
     "output_type": "stream",
     "text": [
      "\u001b[31m[19:47:26] src/tree/updater_prune.cc:74: tree pruning end, 1 roots, 14 extra nodes, 8 pruned nodes, max_depth=5\u001b[0m\n",
      "\u001b[31m[181]#011train-rmse:0.262896#011validation-rmse:0.316707\u001b[0m\n",
      "\u001b[31m[19:47:27] src/tree/updater_prune.cc:74: tree pruning end, 1 roots, 10 extra nodes, 0 pruned nodes, max_depth=5\u001b[0m\n",
      "\u001b[31m[182]#011train-rmse:0.262658#011validation-rmse:0.316714\u001b[0m\n",
      "\u001b[31m[19:47:28] src/tree/updater_prune.cc:74: tree pruning end, 1 roots, 10 extra nodes, 4 pruned nodes, max_depth=5\u001b[0m\n",
      "\u001b[31m[183]#011train-rmse:0.262448#011validation-rmse:0.316523\u001b[0m\n",
      "\u001b[31m[19:47:29] src/tree/updater_prune.cc:74: tree pruning end, 1 roots, 14 extra nodes, 6 pruned nodes, max_depth=5\u001b[0m\n",
      "\u001b[31m[184]#011train-rmse:0.262196#011validation-rmse:0.316426\u001b[0m\n",
      "\u001b[31m[19:47:31] src/tree/updater_prune.cc:74: tree pruning end, 1 roots, 10 extra nodes, 8 pruned nodes, max_depth=5\u001b[0m\n",
      "\u001b[31m[185]#011train-rmse:0.262004#011validation-rmse:0.316349\u001b[0m\n",
      "\u001b[31m[19:47:32] src/tree/updater_prune.cc:74: tree pruning end, 1 roots, 14 extra nodes, 10 pruned nodes, max_depth=5\u001b[0m\n",
      "\u001b[31m[186]#011train-rmse:0.261731#011validation-rmse:0.31615\u001b[0m\n",
      "\u001b[31m[19:47:33] src/tree/updater_prune.cc:74: tree pruning end, 1 roots, 10 extra nodes, 4 pruned nodes, max_depth=5\u001b[0m\n",
      "\u001b[31m[187]#011train-rmse:0.261519#011validation-rmse:0.316038\u001b[0m\n",
      "\u001b[31m[19:47:34] src/tree/updater_prune.cc:74: tree pruning end, 1 roots, 10 extra nodes, 6 pruned nodes, max_depth=5\u001b[0m\n",
      "\u001b[31m[188]#011train-rmse:0.26134#011validation-rmse:0.315946\u001b[0m\n",
      "\u001b[31m[19:47:36] src/tree/updater_prune.cc:74: tree pruning end, 1 roots, 12 extra nodes, 10 pruned nodes, max_depth=5\u001b[0m\n",
      "\u001b[31m[189]#011train-rmse:0.261088#011validation-rmse:0.315688\u001b[0m\n",
      "\u001b[31m[19:47:37] src/tree/updater_prune.cc:74: tree pruning end, 1 roots, 12 extra nodes, 8 pruned nodes, max_depth=5\u001b[0m\n",
      "\u001b[31m[190]#011train-rmse:0.260848#011validation-rmse:0.31566\u001b[0m\n",
      "\u001b[31m[19:47:38] src/tree/updater_prune.cc:74: tree pruning end, 1 roots, 18 extra nodes, 22 pruned nodes, max_depth=5\u001b[0m\n",
      "\u001b[31m[191]#011train-rmse:0.260399#011validation-rmse:0.315587\u001b[0m\n",
      "\u001b[31m[19:47:39] src/tree/updater_prune.cc:74: tree pruning end, 1 roots, 18 extra nodes, 14 pruned nodes, max_depth=5\u001b[0m\n",
      "\u001b[31m[192]#011train-rmse:0.259971#011validation-rmse:0.315473\u001b[0m\n",
      "\u001b[31m[19:47:41] src/tree/updater_prune.cc:74: tree pruning end, 1 roots, 10 extra nodes, 10 pruned nodes, max_depth=5\u001b[0m\n",
      "\u001b[31m[193]#011train-rmse:0.259825#011validation-rmse:0.315402\u001b[0m\n",
      "\u001b[31m[19:47:42] src/tree/updater_prune.cc:74: tree pruning end, 1 roots, 12 extra nodes, 8 pruned nodes, max_depth=5\u001b[0m\n",
      "\u001b[31m[194]#011train-rmse:0.259572#011validation-rmse:0.31533\u001b[0m\n",
      "\u001b[31m[19:47:43] src/tree/updater_prune.cc:74: tree pruning end, 1 roots, 12 extra nodes, 4 pruned nodes, max_depth=5\u001b[0m\n",
      "\u001b[31m[195]#011train-rmse:0.259326#011validation-rmse:0.31521\u001b[0m\n",
      "\u001b[31m[19:47:44] src/tree/updater_prune.cc:74: tree pruning end, 1 roots, 10 extra nodes, 2 pruned nodes, max_depth=5\u001b[0m\n",
      "\u001b[31m[196]#011train-rmse:0.259144#011validation-rmse:0.315076\u001b[0m\n",
      "\u001b[31m[19:47:46] src/tree/updater_prune.cc:74: tree pruning end, 1 roots, 12 extra nodes, 4 pruned nodes, max_depth=5\u001b[0m\n",
      "\u001b[31m[197]#011train-rmse:0.258999#011validation-rmse:0.314944\u001b[0m\n",
      "\u001b[31m[19:47:47] src/tree/updater_prune.cc:74: tree pruning end, 1 roots, 12 extra nodes, 8 pruned nodes, max_depth=5\u001b[0m\n",
      "\u001b[31m[198]#011train-rmse:0.258733#011validation-rmse:0.314854\u001b[0m\n",
      "\u001b[31m[19:47:48] src/tree/updater_prune.cc:74: tree pruning end, 1 roots, 16 extra nodes, 8 pruned nodes, max_depth=5\u001b[0m\n",
      "\u001b[31m[199]#011train-rmse:0.258444#011validation-rmse:0.314826\u001b[0m\n",
      "\n",
      "2019-10-17 19:48:41 Uploading - Uploading generated training model\n",
      "2019-10-17 19:48:41 Completed - Training job completed\n",
      "Training seconds: 360\n",
      "Billable seconds: 360\n"
     ]
    }
   ],
   "source": [
    "xgb.fit({'train': s3_input_train, 'validation': s3_input_validation})"
   ]
  },
  {
   "cell_type": "markdown",
   "metadata": {},
   "source": [
    "### (TODO) Testing the model\n",
    "\n",
    "Now that we've fit our XGBoost model, it's time to see how well it performs. To do this we will use SageMakers Batch Transform functionality. Batch Transform is a convenient way to perform inference on a large dataset in a way that is not realtime. That is, we don't necessarily need to use our model's results immediately and instead we can peform inference on a large number of samples. An example of this in industry might be peforming an end of month report. This method of inference can also be useful to us as it means to can perform inference on our entire test set. \n",
    "\n",
    "To perform a Batch Transformation we need to first create a transformer objects from our trained estimator object."
   ]
  },
  {
   "cell_type": "code",
   "execution_count": 25,
   "metadata": {},
   "outputs": [],
   "source": [
    "# TODO: Create a transformer object from the trained model. Using an instance count of 1 and an instance type of ml.m4.xlarge\n",
    "#       should be more than enough.\n",
    "xgb_transformer = xgb.transformer(instance_count = 1, instance_type = 'ml.m4.xlarge')"
   ]
  },
  {
   "cell_type": "markdown",
   "metadata": {},
   "source": [
    "Next we actually perform the transform job. When doing so we need to make sure to specify the type of data we are sending so that it is serialized correctly in the background. In our case we are providing our model with csv data so we specify `text/csv`. Also, if the test data that we have provided is too large to process all at once then we need to specify how the data file should be split up. Since each line is a single entry in our data set we tell SageMaker that it can split the input on each line."
   ]
  },
  {
   "cell_type": "code",
   "execution_count": 26,
   "metadata": {},
   "outputs": [],
   "source": [
    "# TODO: Start the transform job. Make sure to specify the content type and the split type of the test data.\n",
    "xgb_transformer.transform(test_location, content_type='text/csv', split_type='Line')"
   ]
  },
  {
   "cell_type": "markdown",
   "metadata": {},
   "source": [
    "Currently the transform job is running but it is doing so in the background. Since we wish to wait until the transform job is done and we would like a bit of feedback we can run the `wait()` method."
   ]
  },
  {
   "cell_type": "code",
   "execution_count": 27,
   "metadata": {},
   "outputs": [
    {
     "name": "stdout",
     "output_type": "stream",
     "text": [
      ".......................\u001b[31mArguments: serve\u001b[0m\n",
      "\u001b[31m[2019-10-17 19:52:34 +0000] [1] [INFO] Starting gunicorn 19.7.1\u001b[0m\n",
      "\u001b[31m[2019-10-17 19:52:34 +0000] [1] [INFO] Listening at: http://0.0.0.0:8080 (1)\u001b[0m\n",
      "\u001b[31m[2019-10-17 19:52:34 +0000] [1] [INFO] Using worker: gevent\u001b[0m\n",
      "\u001b[31m[2019-10-17 19:52:34 +0000] [39] [INFO] Booting worker with pid: 39\u001b[0m\n",
      "\u001b[31m[2019-10-17 19:52:34 +0000] [40] [INFO] Booting worker with pid: 40\u001b[0m\n",
      "\u001b[31m[2019-10-17 19:52:34 +0000] [41] [INFO] Booting worker with pid: 41\u001b[0m\n",
      "\u001b[31m[2019-10-17 19:52:34 +0000] [42] [INFO] Booting worker with pid: 42\u001b[0m\n",
      "\u001b[31m[2019-10-17:19:52:34:INFO] Model loaded successfully for worker : 39\u001b[0m\n",
      "\u001b[31m[2019-10-17:19:52:34:INFO] Model loaded successfully for worker : 40\u001b[0m\n",
      "\u001b[31m[2019-10-17:19:52:34:INFO] Model loaded successfully for worker : 41\u001b[0m\n",
      "\u001b[31m[2019-10-17:19:52:34:INFO] Model loaded successfully for worker : 42\u001b[0m\n",
      "\u001b[31m[2019-10-17:19:52:53:INFO] Sniff delimiter as ','\u001b[0m\n",
      "\u001b[31m[2019-10-17:19:52:53:INFO] Determined delimiter of CSV input is ','\u001b[0m\n",
      "\u001b[31m[2019-10-17:19:52:54:INFO] Sniff delimiter as ','\u001b[0m\n",
      "\u001b[32m[2019-10-17:19:52:53:INFO] Sniff delimiter as ','\u001b[0m\n",
      "\u001b[32m[2019-10-17:19:52:53:INFO] Determined delimiter of CSV input is ','\u001b[0m\n",
      "\u001b[32m[2019-10-17:19:52:54:INFO] Sniff delimiter as ','\u001b[0m\n",
      "\u001b[31m[2019-10-17:19:52:54:INFO] Determined delimiter of CSV input is ','\u001b[0m\n",
      "\u001b[31m[2019-10-17:19:52:54:INFO] Sniff delimiter as ','\u001b[0m\n",
      "\u001b[31m[2019-10-17:19:52:54:INFO] Determined delimiter of CSV input is ','\u001b[0m\n",
      "\u001b[32m[2019-10-17:19:52:54:INFO] Determined delimiter of CSV input is ','\u001b[0m\n",
      "\u001b[32m[2019-10-17:19:52:54:INFO] Sniff delimiter as ','\u001b[0m\n",
      "\u001b[32m[2019-10-17:19:52:54:INFO] Determined delimiter of CSV input is ','\u001b[0m\n",
      "\u001b[33m2019-10-17T19:52:51.587:[sagemaker logs]: MaxConcurrentTransforms=4, MaxPayloadInMB=6, BatchStrategy=MULTI_RECORD\u001b[0m\n",
      "\u001b[31m[2019-10-17:19:52:55:INFO] Sniff delimiter as ','\u001b[0m\n",
      "\u001b[31m[2019-10-17:19:52:55:INFO] Determined delimiter of CSV input is ','\u001b[0m\n",
      "\u001b[32m[2019-10-17:19:52:55:INFO] Sniff delimiter as ','\u001b[0m\n",
      "\u001b[32m[2019-10-17:19:52:55:INFO] Determined delimiter of CSV input is ','\u001b[0m\n",
      "\u001b[31m[2019-10-17:19:52:56:INFO] Sniff delimiter as ','\u001b[0m\n",
      "\u001b[31m[2019-10-17:19:52:56:INFO] Determined delimiter of CSV input is ','\u001b[0m\n",
      "\u001b[31m[2019-10-17:19:52:56:INFO] Sniff delimiter as ','\u001b[0m\n",
      "\u001b[32m[2019-10-17:19:52:56:INFO] Sniff delimiter as ','\u001b[0m\n",
      "\u001b[32m[2019-10-17:19:52:56:INFO] Determined delimiter of CSV input is ','\u001b[0m\n",
      "\u001b[32m[2019-10-17:19:52:56:INFO] Sniff delimiter as ','\u001b[0m\n",
      "\u001b[31m[2019-10-17:19:52:56:INFO] Determined delimiter of CSV input is ','\u001b[0m\n",
      "\u001b[32m[2019-10-17:19:52:56:INFO] Determined delimiter of CSV input is ','\u001b[0m\n",
      "\u001b[31m[2019-10-17:19:52:58:INFO] Sniff delimiter as ','\u001b[0m\n",
      "\u001b[31m[2019-10-17:19:52:58:INFO] Determined delimiter of CSV input is ','\u001b[0m\n",
      "\u001b[31m[2019-10-17:19:52:58:INFO] Sniff delimiter as ','\u001b[0m\n",
      "\u001b[31m[2019-10-17:19:52:58:INFO] Determined delimiter of CSV input is ','\u001b[0m\n",
      "\u001b[31m[2019-10-17:19:52:58:INFO] Sniff delimiter as ','\u001b[0m\n",
      "\u001b[32m[2019-10-17:19:52:58:INFO] Sniff delimiter as ','\u001b[0m\n",
      "\u001b[32m[2019-10-17:19:52:58:INFO] Determined delimiter of CSV input is ','\u001b[0m\n",
      "\u001b[32m[2019-10-17:19:52:58:INFO] Sniff delimiter as ','\u001b[0m\n",
      "\u001b[32m[2019-10-17:19:52:58:INFO] Determined delimiter of CSV input is ','\u001b[0m\n",
      "\u001b[32m[2019-10-17:19:52:58:INFO] Sniff delimiter as ','\u001b[0m\n",
      "\u001b[31m[2019-10-17:19:52:58:INFO] Determined delimiter of CSV input is ','\u001b[0m\n",
      "\u001b[31m[2019-10-17:19:52:58:INFO] Sniff delimiter as ','\u001b[0m\n",
      "\u001b[31m[2019-10-17:19:52:58:INFO] Determined delimiter of CSV input is ','\u001b[0m\n",
      "\u001b[32m[2019-10-17:19:52:58:INFO] Determined delimiter of CSV input is ','\u001b[0m\n",
      "\u001b[32m[2019-10-17:19:52:58:INFO] Sniff delimiter as ','\u001b[0m\n",
      "\u001b[32m[2019-10-17:19:52:58:INFO] Determined delimiter of CSV input is ','\u001b[0m\n",
      "\u001b[31m[2019-10-17:19:53:00:INFO] Determined delimiter of CSV input is ','\u001b[0m\n",
      "\u001b[31m[2019-10-17:19:53:00:INFO] Sniff delimiter as ','\u001b[0m\n",
      "\u001b[31m[2019-10-17:19:53:00:INFO] Determined delimiter of CSV input is ','\u001b[0m\n",
      "\u001b[32m[2019-10-17:19:53:00:INFO] Determined delimiter of CSV input is ','\u001b[0m\n",
      "\u001b[32m[2019-10-17:19:53:00:INFO] Sniff delimiter as ','\u001b[0m\n",
      "\u001b[32m[2019-10-17:19:53:00:INFO] Determined delimiter of CSV input is ','\u001b[0m\n",
      "\u001b[31m[2019-10-17:19:53:00:INFO] Sniff delimiter as ','\u001b[0m\n",
      "\u001b[31m[2019-10-17:19:53:00:INFO] Determined delimiter of CSV input is ','\u001b[0m\n",
      "\u001b[32m[2019-10-17:19:53:00:INFO] Sniff delimiter as ','\u001b[0m\n",
      "\u001b[32m[2019-10-17:19:53:00:INFO] Determined delimiter of CSV input is ','\u001b[0m\n",
      "\u001b[31m[2019-10-17:19:53:02:INFO] Sniff delimiter as ','\u001b[0m\n",
      "\u001b[31m[2019-10-17:19:53:02:INFO] Determined delimiter of CSV input is ','\u001b[0m\n",
      "\u001b[31m[2019-10-17:19:53:02:INFO] Sniff delimiter as ','\u001b[0m\n",
      "\u001b[31m[2019-10-17:19:53:02:INFO] Determined delimiter of CSV input is ','\u001b[0m\n",
      "\u001b[31m[2019-10-17:19:53:03:INFO] Sniff delimiter as ','\u001b[0m\n",
      "\u001b[31m[2019-10-17:19:53:03:INFO] Determined delimiter of CSV input is ','\u001b[0m\n",
      "\u001b[31m[2019-10-17:19:53:03:INFO] Sniff delimiter as ','\u001b[0m\n",
      "\u001b[31m[2019-10-17:19:53:03:INFO] Determined delimiter of CSV input is ','\u001b[0m\n",
      "\u001b[32m[2019-10-17:19:53:02:INFO] Sniff delimiter as ','\u001b[0m\n",
      "\u001b[32m[2019-10-17:19:53:02:INFO] Determined delimiter of CSV input is ','\u001b[0m\n",
      "\u001b[32m[2019-10-17:19:53:02:INFO] Sniff delimiter as ','\u001b[0m\n",
      "\u001b[32m[2019-10-17:19:53:02:INFO] Determined delimiter of CSV input is ','\u001b[0m\n",
      "\u001b[32m[2019-10-17:19:53:03:INFO] Sniff delimiter as ','\u001b[0m\n",
      "\u001b[32m[2019-10-17:19:53:03:INFO] Determined delimiter of CSV input is ','\u001b[0m\n",
      "\u001b[32m[2019-10-17:19:53:03:INFO] Sniff delimiter as ','\u001b[0m\n",
      "\u001b[32m[2019-10-17:19:53:03:INFO] Determined delimiter of CSV input is ','\u001b[0m\n",
      "\u001b[31m[2019-10-17:19:53:05:INFO] Sniff delimiter as ','\u001b[0m\n",
      "\u001b[31m[2019-10-17:19:53:05:INFO] Determined delimiter of CSV input is ','\u001b[0m\n",
      "\u001b[31m[2019-10-17:19:53:05:INFO] Sniff delimiter as ','\u001b[0m\n",
      "\u001b[31m[2019-10-17:19:53:05:INFO] Determined delimiter of CSV input is ','\u001b[0m\n",
      "\u001b[31m[2019-10-17:19:53:05:INFO] Sniff delimiter as ','\u001b[0m\n",
      "\u001b[31m[2019-10-17:19:53:05:INFO] Determined delimiter of CSV input is ','\u001b[0m\n",
      "\u001b[31m[2019-10-17:19:53:05:INFO] Sniff delimiter as ','\u001b[0m\n",
      "\u001b[32m[2019-10-17:19:53:05:INFO] Sniff delimiter as ','\u001b[0m\n",
      "\u001b[32m[2019-10-17:19:53:05:INFO] Determined delimiter of CSV input is ','\u001b[0m\n",
      "\u001b[32m[2019-10-17:19:53:05:INFO] Sniff delimiter as ','\u001b[0m\n",
      "\u001b[32m[2019-10-17:19:53:05:INFO] Determined delimiter of CSV input is ','\u001b[0m\n",
      "\u001b[32m[2019-10-17:19:53:05:INFO] Sniff delimiter as ','\u001b[0m\n",
      "\u001b[32m[2019-10-17:19:53:05:INFO] Determined delimiter of CSV input is ','\u001b[0m\n",
      "\u001b[32m[2019-10-17:19:53:05:INFO] Sniff delimiter as ','\u001b[0m\n",
      "\u001b[31m[2019-10-17:19:53:05:INFO] Determined delimiter of CSV input is ','\u001b[0m\n",
      "\u001b[32m[2019-10-17:19:53:05:INFO] Determined delimiter of CSV input is ','\u001b[0m\n",
      "\u001b[31m[2019-10-17:19:53:07:INFO] Sniff delimiter as ','\u001b[0m\n",
      "\u001b[31m[2019-10-17:19:53:07:INFO] Determined delimiter of CSV input is ','\u001b[0m\n",
      "\u001b[31m[2019-10-17:19:53:07:INFO] Sniff delimiter as ','\u001b[0m\n",
      "\u001b[32m[2019-10-17:19:53:07:INFO] Sniff delimiter as ','\u001b[0m\n",
      "\u001b[32m[2019-10-17:19:53:07:INFO] Determined delimiter of CSV input is ','\u001b[0m\n",
      "\u001b[32m[2019-10-17:19:53:07:INFO] Sniff delimiter as ','\u001b[0m\n",
      "\u001b[31m[2019-10-17:19:53:07:INFO] Determined delimiter of CSV input is ','\u001b[0m\n",
      "\u001b[32m[2019-10-17:19:53:07:INFO] Determined delimiter of CSV input is ','\u001b[0m\n",
      "\u001b[31m[2019-10-17:19:53:07:INFO] Sniff delimiter as ','\u001b[0m\n",
      "\u001b[31m[2019-10-17:19:53:07:INFO] Determined delimiter of CSV input is ','\u001b[0m\n",
      "\u001b[31m[2019-10-17:19:53:08:INFO] Sniff delimiter as ','\u001b[0m\n",
      "\u001b[31m[2019-10-17:19:53:08:INFO] Determined delimiter of CSV input is ','\u001b[0m\n",
      "\u001b[32m[2019-10-17:19:53:07:INFO] Sniff delimiter as ','\u001b[0m\n",
      "\u001b[32m[2019-10-17:19:53:07:INFO] Determined delimiter of CSV input is ','\u001b[0m\n",
      "\u001b[32m[2019-10-17:19:53:08:INFO] Sniff delimiter as ','\u001b[0m\n",
      "\u001b[32m[2019-10-17:19:53:08:INFO] Determined delimiter of CSV input is ','\u001b[0m\n",
      "\u001b[31m[2019-10-17:19:53:10:INFO] Sniff delimiter as ','\u001b[0m\n",
      "\u001b[31m[2019-10-17:19:53:10:INFO] Determined delimiter of CSV input is ','\u001b[0m\n",
      "\u001b[31m[2019-10-17:19:53:10:INFO] Sniff delimiter as ','\u001b[0m\n",
      "\u001b[31m[2019-10-17:19:53:10:INFO] Determined delimiter of CSV input is ','\u001b[0m\n",
      "\u001b[32m[2019-10-17:19:53:10:INFO] Sniff delimiter as ','\u001b[0m\n",
      "\u001b[32m[2019-10-17:19:53:10:INFO] Determined delimiter of CSV input is ','\u001b[0m\n",
      "\u001b[32m[2019-10-17:19:53:10:INFO] Sniff delimiter as ','\u001b[0m\n",
      "\u001b[32m[2019-10-17:19:53:10:INFO] Determined delimiter of CSV input is ','\u001b[0m\n",
      "\u001b[31m[2019-10-17:19:53:12:INFO] Sniff delimiter as ','\u001b[0m\n",
      "\u001b[31m[2019-10-17:19:53:12:INFO] Determined delimiter of CSV input is ','\u001b[0m\n",
      "\u001b[31m[2019-10-17:19:53:12:INFO] Sniff delimiter as ','\u001b[0m\n",
      "\u001b[31m[2019-10-17:19:53:12:INFO] Determined delimiter of CSV input is ','\u001b[0m\n",
      "\u001b[32m[2019-10-17:19:53:12:INFO] Sniff delimiter as ','\u001b[0m\n",
      "\u001b[32m[2019-10-17:19:53:12:INFO] Determined delimiter of CSV input is ','\u001b[0m\n",
      "\u001b[32m[2019-10-17:19:53:12:INFO] Sniff delimiter as ','\u001b[0m\n",
      "\u001b[32m[2019-10-17:19:53:12:INFO] Determined delimiter of CSV input is ','\u001b[0m\n",
      "\u001b[31m[2019-10-17:19:53:12:INFO] Sniff delimiter as ','\u001b[0m\n",
      "\u001b[31m[2019-10-17:19:53:12:INFO] Determined delimiter of CSV input is ','\u001b[0m\n",
      "\u001b[31m[2019-10-17:19:53:13:INFO] Sniff delimiter as ','\u001b[0m\n",
      "\u001b[31m[2019-10-17:19:53:13:INFO] Determined delimiter of CSV input is ','\u001b[0m\n",
      "\u001b[32m[2019-10-17:19:53:12:INFO] Sniff delimiter as ','\u001b[0m\n",
      "\u001b[32m[2019-10-17:19:53:12:INFO] Determined delimiter of CSV input is ','\u001b[0m\n",
      "\u001b[32m[2019-10-17:19:53:13:INFO] Sniff delimiter as ','\u001b[0m\n",
      "\u001b[32m[2019-10-17:19:53:13:INFO] Determined delimiter of CSV input is ','\u001b[0m\n",
      "\u001b[31m[2019-10-17:19:53:14:INFO] Sniff delimiter as ','\u001b[0m\n",
      "\u001b[31m[2019-10-17:19:53:14:INFO] Determined delimiter of CSV input is ','\u001b[0m\n",
      "\u001b[31m[2019-10-17:19:53:14:INFO] Sniff delimiter as ','\u001b[0m\n",
      "\u001b[31m[2019-10-17:19:53:14:INFO] Determined delimiter of CSV input is ','\u001b[0m\n",
      "\u001b[31m[2019-10-17:19:53:15:INFO] Sniff delimiter as ','\u001b[0m\n",
      "\u001b[31m[2019-10-17:19:53:15:INFO] Determined delimiter of CSV input is ','\u001b[0m\n",
      "\u001b[31m[2019-10-17:19:53:15:INFO] Sniff delimiter as ','\u001b[0m\n",
      "\u001b[31m[2019-10-17:19:53:15:INFO] Determined delimiter of CSV input is ','\u001b[0m\n",
      "\u001b[32m[2019-10-17:19:53:14:INFO] Sniff delimiter as ','\u001b[0m\n",
      "\u001b[32m[2019-10-17:19:53:14:INFO] Determined delimiter of CSV input is ','\u001b[0m\n",
      "\u001b[32m[2019-10-17:19:53:14:INFO] Sniff delimiter as ','\u001b[0m\n",
      "\u001b[32m[2019-10-17:19:53:14:INFO] Determined delimiter of CSV input is ','\u001b[0m\n",
      "\u001b[32m[2019-10-17:19:53:15:INFO] Sniff delimiter as ','\u001b[0m\n",
      "\u001b[32m[2019-10-17:19:53:15:INFO] Determined delimiter of CSV input is ','\u001b[0m\n",
      "\u001b[32m[2019-10-17:19:53:15:INFO] Sniff delimiter as ','\u001b[0m\n",
      "\u001b[32m[2019-10-17:19:53:15:INFO] Determined delimiter of CSV input is ','\u001b[0m\n",
      "\u001b[31m[2019-10-17:19:53:17:INFO] Sniff delimiter as ','\u001b[0m\n",
      "\u001b[31m[2019-10-17:19:53:17:INFO] Determined delimiter of CSV input is ','\u001b[0m\n",
      "\u001b[31m[2019-10-17:19:53:17:INFO] Sniff delimiter as ','\u001b[0m\n",
      "\u001b[31m[2019-10-17:19:53:17:INFO] Determined delimiter of CSV input is ','\u001b[0m\n",
      "\u001b[32m[2019-10-17:19:53:17:INFO] Sniff delimiter as ','\u001b[0m\n",
      "\u001b[32m[2019-10-17:19:53:17:INFO] Determined delimiter of CSV input is ','\u001b[0m\n",
      "\u001b[32m[2019-10-17:19:53:17:INFO] Sniff delimiter as ','\u001b[0m\n",
      "\u001b[32m[2019-10-17:19:53:17:INFO] Determined delimiter of CSV input is ','\u001b[0m\n"
     ]
    },
    {
     "name": "stdout",
     "output_type": "stream",
     "text": [
      "\n"
     ]
    }
   ],
   "source": [
    "xgb_transformer.wait()"
   ]
  },
  {
   "cell_type": "markdown",
   "metadata": {},
   "source": [
    "Now the transform job has executed and the result, the estimated sentiment of each review, has been saved on S3. Since we would rather work on this file locally we can perform a bit of notebook magic to copy the file to the `data_dir`."
   ]
  },
  {
   "cell_type": "code",
   "execution_count": 30,
   "metadata": {},
   "outputs": [
    {
     "name": "stdout",
     "output_type": "stream",
     "text": [
      "Completed 256.0 KiB/370.8 KiB (2.8 MiB/s) with 1 file(s) remaining\r",
      "Completed 370.8 KiB/370.8 KiB (4.0 MiB/s) with 1 file(s) remaining\r",
      "download: s3://sagemaker-eu-central-1-668160054588/xgboost-2019-10-17-19-49-01-457/test.csv.out to ../data/xgboost_v2/test.csv.out\r\n"
     ]
    }
   ],
   "source": [
    "!aws s3 cp --recursive $xgb_transformer.output_path $data_dir"
   ]
  },
  {
   "cell_type": "markdown",
   "metadata": {},
   "source": [
    "The last step is now to read in the output from our model, convert the output to something a little more usable, in this case we want the sentiment to be either `1` (positive) or `0` (negative), and then compare to the ground truth labels."
   ]
  },
  {
   "cell_type": "code",
   "execution_count": 31,
   "metadata": {},
   "outputs": [],
   "source": [
    "import pandas as pd\n",
    "import os\n",
    "#data_dir = '../data/xgboost'\n",
    "predictions = pd.read_csv(os.path.join(data_dir, 'test.csv.out'), header=None)\n",
    "predictions = [round(num) for num in predictions.squeeze().values]\n",
    "test_y = pd.read_csv(os.path.join(data_dir, 'test_y.csv'), header=None)"
   ]
  },
  {
   "cell_type": "code",
   "execution_count": 32,
   "metadata": {},
   "outputs": [
    {
     "data": {
      "text/plain": [
       "0.86628"
      ]
     },
     "execution_count": 32,
     "metadata": {},
     "output_type": "execute_result"
    }
   ],
   "source": [
    "from sklearn.metrics import accuracy_score\n",
    "accuracy_score(test_y, predictions)"
   ]
  },
  {
   "cell_type": "markdown",
   "metadata": {},
   "source": [
    "## Optional: Clean up\n",
    "\n",
    "The default notebook instance on SageMaker doesn't have a lot of excess disk space available. As you continue to complete and execute notebooks you will eventually fill up this disk space, leading to errors which can be difficult to diagnose. Once you are completely finished using a notebook it is a good idea to remove the files that you created along the way. Of course, you can do this from the terminal or from the notebook hub if you would like. The cell below contains some commands to clean up the created files from within the notebook."
   ]
  },
  {
   "cell_type": "code",
   "execution_count": 35,
   "metadata": {},
   "outputs": [],
   "source": [
    "data_dir = '../data/xgboost'"
   ]
  },
  {
   "cell_type": "code",
   "execution_count": 36,
   "metadata": {},
   "outputs": [
    {
     "name": "stdout",
     "output_type": "stream",
     "text": [
      "rm: cannot remove ‘../cache/sentiment_analysis/*’: No such file or directory\n",
      "rmdir: failed to remove ‘../cache/sentiment_analysis’: No such file or directory\n"
     ]
    }
   ],
   "source": [
    "# First we will remove all of the files contained in the data_dir directory\n",
    "!rm $data_dir/*\n",
    "\n",
    "# And then we delete the directory itself\n",
    "!rmdir $data_dir\n",
    "\n",
    "# Similarly we will remove the files in the cache_dir directory and the directory itself\n",
    "!rm $cache_dir/*\n",
    "!rmdir $cache_dir"
   ]
  },
  {
   "cell_type": "code",
   "execution_count": null,
   "metadata": {},
   "outputs": [],
   "source": []
  }
 ],
 "metadata": {
  "kernelspec": {
   "display_name": "conda_python3",
   "language": "python",
   "name": "conda_python3"
  },
  "language_info": {
   "codemirror_mode": {
    "name": "ipython",
    "version": 3
   },
   "file_extension": ".py",
   "mimetype": "text/x-python",
   "name": "python",
   "nbconvert_exporter": "python",
   "pygments_lexer": "ipython3",
   "version": "3.6.5"
  }
 },
 "nbformat": 4,
 "nbformat_minor": 2
}
